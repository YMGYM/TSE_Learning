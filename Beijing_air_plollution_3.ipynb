{
  "nbformat": 4,
  "nbformat_minor": 0,
  "metadata": {
    "colab": {
      "name": "Beijing_air_plollution_3.ipynb",
      "provenance": [],
      "collapsed_sections": [],
      "mount_file_id": "1id0lidBw3ytHXqoXT-YdhGQF1i9OmpVG",
      "authorship_tag": "ABX9TyMgLAeIn4v7CvC0tryYZDGn",
      "include_colab_link": true
    },
    "kernelspec": {
      "name": "python3",
      "display_name": "Python 3"
    },
    "accelerator": "GPU"
  },
  "cells": [
    {
      "cell_type": "markdown",
      "metadata": {
        "id": "view-in-github",
        "colab_type": "text"
      },
      "source": [
        "<a href=\"https://colab.research.google.com/github/YMGYM/TSE_Learning/blob/master/Beijing_air_plollution_3.ipynb\" target=\"_parent\"><img src=\"https://colab.research.google.com/assets/colab-badge.svg\" alt=\"Open In Colab\"/></a>"
      ]
    },
    {
      "cell_type": "markdown",
      "metadata": {
        "id": "MMv9zH97I3bI",
        "colab_type": "text"
      },
      "source": [
        "# Introduction\n",
        "\n",
        "이 파일은 황철현, 신강욱의\n",
        "`미세먼지 예측 성능 개선을 위한 CNN-LSTM 결합 방법`\n",
        "논문의 구현 연습 파일입니다.\n",
        "\n",
        "데이터셋은 [Beijing PM2.5 데이터셋](https://www.kaggle.com/djhavera/beijing-pm25-data-data-set)\n",
        "을 사용했습니다."
      ]
    },
    {
      "cell_type": "markdown",
      "metadata": {
        "id": "c9yCDz1HI7Uo",
        "colab_type": "text"
      },
      "source": [
        "# Import All\n",
        "필요한 라이브러리들을 임포트합니다."
      ]
    },
    {
      "cell_type": "code",
      "metadata": {
        "id": "dm_0IVquJCbn",
        "colab_type": "code",
        "colab": {}
      },
      "source": [
        "import pandas as pd \n",
        "import numpy as np\n",
        "import tensorflow as tf\n",
        "import tensorflow.keras as K\n",
        "import matplotlib.pyplot as plt\n",
        "from sklearn.preprocessing import MinMaxScaler"
      ],
      "execution_count": 1,
      "outputs": []
    },
    {
      "cell_type": "markdown",
      "metadata": {
        "id": "z_5bQtjaJJhO",
        "colab_type": "text"
      },
      "source": [
        "# Load Data\n",
        "구글 드라이브를 마운트하고, 구글 드라이브에 있는 데이터를 임포트합니다."
      ]
    },
    {
      "cell_type": "code",
      "metadata": {
        "id": "NhHDbpAyJSeG",
        "colab_type": "code",
        "colab": {
          "base_uri": "https://localhost:8080/",
          "height": 51
        },
        "outputId": "9ae16fb1-efe8-44ec-9a16-9cfe02ddfe08"
      },
      "source": [
        "! unzip /content/drive/My\\ Drive/Datasets/beijing_air.zip -d data"
      ],
      "execution_count": 2,
      "outputs": [
        {
          "output_type": "stream",
          "text": [
            "Archive:  /content/drive/My Drive/Datasets/beijing_air.zip\n",
            "  inflating: data/PRSA_data_2010.1.1-2014.12.31.csv  \n"
          ],
          "name": "stdout"
        }
      ]
    },
    {
      "cell_type": "code",
      "metadata": {
        "id": "N74bTHyWJVrq",
        "colab_type": "code",
        "colab": {}
      },
      "source": [
        "def get_data():\n",
        "  all_data = pd.read_csv('/content/data/PRSA_data_2010.1.1-2014.12.31.csv') # 전체 데이터\n",
        "  dropped_data = all_data.drop(['No', 'year', 'month', 'day', 'hour'],axis=1) # 필요 없는 데이터는 버림\n",
        "  pm25 = dropped_data.pop('pm2.5') # 미세먼지 데이터 확인\n",
        "  pm25 = pm25.fillna(method='pad')\n",
        "  \n",
        "  return pm25, dropped_data"
      ],
      "execution_count": 3,
      "outputs": []
    },
    {
      "cell_type": "markdown",
      "metadata": {
        "id": "K1KXPy5tJXhA",
        "colab_type": "text"
      },
      "source": [
        "# Define Scalers\n",
        "데이터를 정규화할 스케일러를 구현합니다."
      ]
    },
    {
      "cell_type": "code",
      "metadata": {
        "id": "w84cArG1Jcpd",
        "colab_type": "code",
        "colab": {}
      },
      "source": [
        "class Scaler():\n",
        "  def __init__(self):\n",
        "    self.scaler = MinMaxScaler()\n",
        "    self.last_scaled_data = None\n",
        "\n",
        "  def data_normalize(self, data = None):\n",
        "    if isinstance(data, type(np.array([]))) == False:\n",
        "      reshaped = data.to_numpy().reshape(-1,1) # x 가 pandas 데이터인 경우 numpy로 변환 후 reshape 한다.\n",
        "    else:\n",
        "      reshaped = data.reshape(-1,1)\n",
        "\n",
        "    self.last_scaled_data = self.scaler.fit_transform(reshaped)\n",
        "\n",
        "    return self.last_scaled_data\n",
        "\n",
        "  def invert_scale(self, data):\n",
        "    # 정규화된 데이터를 원상태로 돌립니다.\n",
        "    return self.scaler.inverse_transform(data)\n",
        "\n",
        "  def slice_data(self, data, rate=0.1): # 데이터를 정해진 비율로 나눕니다.\n",
        "    arrlen = int(len(data) * rate)\n",
        "    train, val, test = data[:-1 * (arrlen * 2)], data[-1 * (arrlen * 2) : -1 * (arrlen)], data[-1 * (arrlen):]\n",
        "    return train, val, test"
      ],
      "execution_count": 4,
      "outputs": []
    },
    {
      "cell_type": "markdown",
      "metadata": {
        "id": "5VBXx10tKUUd",
        "colab_type": "text"
      },
      "source": [
        "## Pm2.5 Data Scaler\n",
        "미세먼지 데이터를 위한 Scaler 구현입니다. 기능은 동일합니다."
      ]
    },
    {
      "cell_type": "code",
      "metadata": {
        "id": "qvsfTffHKm3n",
        "colab_type": "code",
        "colab": {}
      },
      "source": [
        "class PmScaler(Scaler):\n",
        "  def __init__(self):\n",
        "    super().__init__()"
      ],
      "execution_count": 5,
      "outputs": []
    },
    {
      "cell_type": "markdown",
      "metadata": {
        "id": "1jBSB8NkM95v",
        "colab_type": "text"
      },
      "source": [
        "## Proxy Data Scaler\n",
        "주위 환경 정보용 Scaler 구현입니다."
      ]
    },
    {
      "cell_type": "code",
      "metadata": {
        "id": "caONpXmSNG13",
        "colab_type": "code",
        "colab": {}
      },
      "source": [
        "class ProxyScaler(Scaler):\n",
        "  def __init__(self):\n",
        "    super().__init__()\n",
        "\n",
        "  def change_cbwd_data(self, table): # 문자열로 된 풍향 정보를 숫자로 변환합니다.\n",
        "    mapping = {}\n",
        "    cols = table[\"cbwd\"].value_counts().index\n",
        "    for i, col in enumerate(cols):\n",
        "      mapping[col] = i\n",
        "    table = table.replace({'cbwd' : mapping})\n",
        "    print(\"cbwd data changed to number : {SE : 0, NW: 1, cv: 2, NE:3} \")\n",
        "\n",
        "    return table\n",
        "\n",
        "  def data_normalize(self, data):\n",
        "    norm_data = self.scaler.fit_transform(data)\n",
        "    return norm_data\n",
        "    "
      ],
      "execution_count": 6,
      "outputs": []
    },
    {
      "cell_type": "markdown",
      "metadata": {
        "id": "Eup4SOeJOSC_",
        "colab_type": "text"
      },
      "source": [
        "# Make Custom Layer (Not Used)\n",
        "CNN 계층의 출력을 비율로 변환해주는 커스텀 계층입니다.\n",
        "\n",
        "현재는 사용하지 않습니다."
      ]
    },
    {
      "cell_type": "code",
      "metadata": {
        "id": "-iCR07elSv0u",
        "colab_type": "code",
        "colab": {}
      },
      "source": [
        "class DataCombine(K.layers.Layer):\n",
        "  def __init__(self, data, bins = None, **kwargs):\n",
        "    super().__init__(**kwargs)\n",
        "\n",
        "    if bins == None:\n",
        "      self.bins = [-9.166667e-02, -1e-15,1e-15, 1.212121e-01]\n",
        "    else:\n",
        "      self.bins = bins\n",
        "\n",
        "    self.grad_data = pm25.pct_change().fillna(method=\"pad\")\n",
        "    \n",
        "  def call(self, inputs):\n",
        "    # 예측량을 구함\n",
        "    rate = self._get_rate(data)\n",
        "    return rate * value.squeeze(axis=1)\n",
        "\n",
        "  def _get_rate(self, data):\n",
        "    # 변화율 별로 pm25의 예측량을 구해봄(임시)\n",
        "    index = data.argmax(axis=1)\n",
        "    rate = np.array([])\n",
        "    for i in range(len(index)):\n",
        "      if index[i] == 3:\n",
        "        rate = np.append(rate, 1)\n",
        "      else:\n",
        "        rate = np.append(rate, 1 + ((index[i]-3) * 0.25)) # 최대 50%의 변화율을 줘 봄\n",
        "    return rate\n",
        "\n",
        "  def _get_grad_pm25(self):\n",
        "    # pm25 의 변화율을 구하고 범주화함\n",
        "    grad_data = self.pm25.pct_change()\n",
        "    grad_data = grad_data.fillna(method=\"pad\")\n",
        "    bins = [-9.166667e-02, -1e-15,1e-15, 1.212121e-01]\n",
        "    # bins = [-10, -1e-15, 1e-15, 10]\n",
        "    grad_level = np.digitize(grad_data, bins=bins, right=False)\n",
        "    return grad_level\n"
      ],
      "execution_count": 7,
      "outputs": []
    },
    {
      "cell_type": "markdown",
      "metadata": {
        "id": "Y6FoQlidVtbh",
        "colab_type": "text"
      },
      "source": [
        "# Custom Generator\n",
        "데이터 제공을 위한 커스텀 제너레이터 구현"
      ]
    },
    {
      "cell_type": "code",
      "metadata": {
        "id": "lOq6xMb-VxwJ",
        "colab_type": "code",
        "colab": {}
      },
      "source": [
        "class CustomGenerator(K.utils.Sequence):\n",
        "  def __init__(self, cnn_gen, lstm_gen):\n",
        "    self.cnn_gen = cnn_gen\n",
        "    self.lstm_gen = lstm_gen\n",
        "\n",
        "  def __getitem__(self, idx):\n",
        "    cnn_x, cnn_y = self.cnn_gen[idx]\n",
        "    lstm_x, lstm_y = self.lstm_gen[idx]\n",
        "  \n",
        "    return [cnn_x, lstm_x], lstm_y\n",
        "\n",
        "  def __len__(self):\n",
        "    return self.cnn_gen.__len__() #위험!"
      ],
      "execution_count": 8,
      "outputs": []
    },
    {
      "cell_type": "markdown",
      "metadata": {
        "id": "D9zzf8N1YhIF",
        "colab_type": "text"
      },
      "source": [
        "# Make Model Trainer\n",
        "모델을 학습시켜주는 Trainer 클래스입니다."
      ]
    },
    {
      "cell_type": "code",
      "metadata": {
        "id": "8jufA_sTY6-g",
        "colab_type": "code",
        "colab": {}
      },
      "source": [
        "class ModelTrainer():\n",
        "  def __init__(self, pm25, proxy):\n",
        "    # --------- 데이터 보관 --------\n",
        "    self.pm25 = pm25.fillna(1e-8,limit=1).fillna(method=\"pad\")\n",
        "    self.proxy = proxy\n",
        "    print(f\"pm25 length : {len(self.pm25)}\" )\n",
        "    print(f\"proxydata length : {len(self.proxy)}\" )\n",
        "\n",
        "    # --------- 스케일러 생성 --------\n",
        "    self.pmScaler = PmScaler()\n",
        "    self.proxyScaler = ProxyScaler()\n",
        "\n",
        "    # ---------- train 용 callbacks -----------\n",
        "    self.callbacks = [K.callbacks.TensorBoard(log_dir='model_logs')]\n",
        "\n",
        "\n",
        "  def data_preprocess(self, rate = 0.1): # 데이터 전처리\n",
        "    self.proxy = self.proxyScaler.change_cbwd_data(self.proxy)\n",
        "    # -------- 데이터 정규화 ---------\n",
        "    self.pm25 = self.pmScaler.data_normalize(self.pm25)\n",
        "    self.proxy = self.proxyScaler.data_normalize(self.proxy)\n",
        "    # -------- 데이터 분할 ----------\n",
        "    self.cnn_train, self.cnn_val, self.cnn_test = self.proxyScaler.slice_data(data=self.proxy, rate = rate)\n",
        "    self.lstm_train, self.lstm_val, self.lstm_test = self.pmScaler.slice_data(data=self.pm25, rate = rate)\n",
        "    print(f\"cnn_x_train : {len(self.cnn_train)}, cnn_x_val : {len(self.cnn_val)}, cnn_x_test length: {len(self.cnn_test)}\")\n",
        "    print(f\"lstm_x_train : {len(self.lstm_train)}, lstm_x_val : {len(self.lstm_val)}, lstm_x_test length: {len(self.lstm_test)}\")\n",
        "\n",
        "  def make_datagenerator(self, data_len = 15, batch_size = 1): # 데이터 제너레이터 생성\n",
        "\n",
        "    self.cnn_train_data_gen = K.preprocessing.sequence.TimeseriesGenerator(self.cnn_train, self.cnn_train, length=data_len, batch_size = batch_size, shuffle=True)\n",
        "    self.cnn_val_data_gen = K.preprocessing.sequence.TimeseriesGenerator(self.cnn_val, self.cnn_val, length=data_len, batch_size = batch_size, shuffle=True)\n",
        "    self.cnn_test_data_gen = K.preprocessing.sequence.TimeseriesGenerator(self.cnn_test, self.cnn_test, length=data_len, batch_size = batch_size, shuffle=False)\n",
        "    print(f\"cnn_train_data_gen length : {self.cnn_train_data_gen.__len__()} // data_len: {data_len}\" )\n",
        "    print(f\"cnn_val_data_gen length : {self.cnn_val_data_gen.__len__()} // data_len: {data_len}\" )\n",
        "    print(f\"cnn_test_data_gen length : {self.cnn_test_data_gen.__len__()} // data_len: {data_len}\" )\n",
        "\n",
        "    self.lstm_train_data_gen = K.preprocessing.sequence.TimeseriesGenerator(self.lstm_train, self.lstm_train, length=data_len, batch_size = batch_size, shuffle=True)\n",
        "    self.lstm_val_data_gen = K.preprocessing.sequence.TimeseriesGenerator(self.lstm_val, self.lstm_val, length=data_len, batch_size = batch_size, shuffle=True)\n",
        "    self.lstm_test_data_gen = K.preprocessing.sequence.TimeseriesGenerator(self.lstm_test, self.lstm_test, length=data_len, batch_size = batch_size, shuffle=False)\n",
        "    print(f\"lstm_train_data_gen length : {self.lstm_train_data_gen.__len__()} // data_len: {data_len}\" )\n",
        "    print(f\"lstm_val_data_gen length : {self.lstm_val_data_gen.__len__()} // data_len: {data_len}\" )\n",
        "    print(f\"lstm_test_data_gen length : {self.lstm_test_data_gen.__len__()} // data_len: {data_len}\" )\n",
        "\n",
        "    self.total_train_data_gen = CustomGenerator(self.cnn_train_data_gen, self.lstm_train_data_gen)\n",
        "    self.total_val_data_gen = CustomGenerator(self.cnn_val_data_gen, self.lstm_val_data_gen)\n",
        "    self.total_test_data_gen = CustomGenerator(self.cnn_test_data_gen, self.lstm_test_data_gen)\n",
        "    print(\"total data generator generated\")\n",
        "\n",
        "  def generate_model(self): # 모델을 생성함\n",
        "    cnn_x, cnn_y = self.cnn_train_data_gen[0]\n",
        "    lstm_x, lstm_y = self.lstm_train_data_gen[0]\n",
        "\n",
        "    cnn_input = K.layers.Input(shape=(cnn_x.shape[1], cnn_x.shape[2])) # (행, 열)\n",
        "    lstm_input = K.layers.Input(shape=(lstm_x.shape[1], lstm_x.shape[2])) # (시간 수, 1)\n",
        "\n",
        "    reshape1 = K.layers.Reshape(target_shape=(1, cnn_x.shape[1], cnn_x.shape[2]))(cnn_input) #(배치, 차원 = 1, 행, 열)\n",
        "    cnn1 = K.layers.Conv2DTranspose(32, (2,2), activation=\"relu\")(reshape1)\n",
        "    maxpool1 = K.layers.MaxPool2D(strides=2)(cnn1)\n",
        "    flatten = K.layers.Flatten()(maxpool1)\n",
        "    dropout1 = K.layers.Dropout(0.1)(flatten)\n",
        "    dense1 = K.layers.Dense(100, activation=\"relu\")(dropout1)\n",
        "    dense2 = K.layers.Dense(1, activation=\"sigmoid\")(dense1)\n",
        "\n",
        "    reshape2 = K.layers.Reshape(target_shape=(-1, 1))(dense2) # (결과 값 수 , 1)\n",
        "    concat = K.layers.Concatenate(axis=1)([lstm_input, reshape2])\n",
        "\n",
        "    lstm1 = K.layers.LSTM(216)(concat)\n",
        "    dropout2 = K.layers.Dropout(0.3)(lstm1)\n",
        "    dense3 = K.layers.Dense(128, activation='relu')(dropout2)\n",
        "    dropout3 = K.layers.Dropout(0.3)(dense3)\n",
        "    dense4 = K.layers.Dense(1, activation=\"sigmoid\")(dropout3)\n",
        "\n",
        "    self.model = K.models.Model(inputs=[cnn_input,lstm_input] , outputs=dense4)\n",
        "    self.model.summary()\n",
        "\n",
        "    self.model.compile(loss=\"MSE\", optimizer = \"adam\")\n",
        "    return self.model\n",
        "\n",
        "  def fit(self, epochs=1): # 모델 학습\n",
        "    self.model.fit(x = self.total_train_data_gen, epochs=epochs, shuffle=True, validation_data=(self.total_val_data_gen), callbacks=self.callbacks)\n",
        "\n",
        "  def evaluate(self): #테스트 데이터로 모델 평가\n",
        "    self.model.evaluate(x = self.total_test_data_gen,)\n",
        "\n",
        "  def predict(self, data = None): # 데이터 입력받아 예측함 => 클래스 밖에서도 model.fit 으로 호출 가능\n",
        "    if data is None:\n",
        "      data = self.total_test_data_gen\n",
        "\n",
        "    prediction = self.model.predict(data)\n",
        "    return self.pmScaler.invert_scale(prediction)\n",
        "\n",
        "  def plot(self): # 그래프로 그립니다.\n",
        "    predict = self.predict()\n",
        "    plt.plot(self.pmScaler.invert_scale(self.lstm_test), label=\"Actual\")\n",
        "    plt.plot(predict, label=\"Predicted\")\n",
        "    plt.legend()\n",
        "    plt.title(\"Compare Predict With Actual Data\")\n",
        "    plt.show()\n",
        "\n",
        "  def load_model(self, path): # 저장된 모델을 불러옵니다.\n",
        "    self.model = K.models.load_model(path)\n",
        "    print(f\"model loaded from {path}\")\n",
        "    return self.model\n",
        "\n",
        "  def save_model(self, path): # 모델을 \n",
        "    self.model.save(path)\n",
        "    print(f\"model saved at {path}\")"
      ],
      "execution_count": 9,
      "outputs": []
    },
    {
      "cell_type": "markdown",
      "metadata": {
        "id": "U9Ext3rIhuvd",
        "colab_type": "text"
      },
      "source": [
        "논문에선 CNN 출력값을 범주화하고, 실제 예측값에 곱해서 변화량을 예측하는 데 사용했습니다.\n",
        "\n",
        "하지만 이 구현에선 위 과정을 생략하고 CNN 의 출력값을 sigmoid로 단순히 변화시켜 값을 예측했습니다."
      ]
    },
    {
      "cell_type": "markdown",
      "metadata": {
        "id": "P6Mzm6o1K_q6",
        "colab_type": "text"
      },
      "source": [
        "# 실제 코드 실행"
      ]
    },
    {
      "cell_type": "markdown",
      "metadata": {
        "id": "zkocI0fPNNSO",
        "colab_type": "text"
      },
      "source": [
        "미세먼지 데이터와 대기 환경 데이터를 한 번에 불러 옵니다."
      ]
    },
    {
      "cell_type": "code",
      "metadata": {
        "id": "ohvjgwspajGe",
        "colab_type": "code",
        "colab": {}
      },
      "source": [
        "pm25, proxy = get_data()"
      ],
      "execution_count": 10,
      "outputs": []
    },
    {
      "cell_type": "markdown",
      "metadata": {
        "id": "xbtXn3thNR5I",
        "colab_type": "text"
      },
      "source": [
        "ModelTrainer 클래스를 생성합니다.\n",
        "\n",
        "위에서 작업한 코드를 모두 불러옵니다."
      ]
    },
    {
      "cell_type": "code",
      "metadata": {
        "id": "bIkoSocyalY8",
        "colab_type": "code",
        "colab": {
          "base_uri": "https://localhost:8080/",
          "height": 51
        },
        "outputId": "93bdbfca-1881-4730-8513-8ece6bfb314d"
      },
      "source": [
        "trainer = ModelTrainer(pm25, proxy)"
      ],
      "execution_count": 11,
      "outputs": [
        {
          "output_type": "stream",
          "text": [
            "pm25 length : 43824\n",
            "proxydata length : 43824\n"
          ],
          "name": "stdout"
        }
      ]
    },
    {
      "cell_type": "markdown",
      "metadata": {
        "id": "uSNaIK7RNZh9",
        "colab_type": "text"
      },
      "source": [
        "기존에 가지고 있던 데이터를 가지고 결측치 제거, 정규화, 분할을 수행합니다.\n",
        "\n",
        "rate는 데이터를 학습, 검증, 테스트 데이터로 나누는 비율을 의미합니다."
      ]
    },
    {
      "cell_type": "code",
      "metadata": {
        "id": "HANN9rgTao0T",
        "colab_type": "code",
        "colab": {
          "base_uri": "https://localhost:8080/",
          "height": 68
        },
        "outputId": "2c780dd5-48ef-4090-9951-7c1719ead2f8"
      },
      "source": [
        "trainer.data_preprocess(rate=0.1)"
      ],
      "execution_count": 12,
      "outputs": [
        {
          "output_type": "stream",
          "text": [
            "cbwd data changed to number : {SE : 0, NW: 1, cv: 2, NE:3} \n",
            "cnn_x_train : 35060, cnn_x_val : 4382, cnn_x_test length: 4382\n",
            "lstm_x_train : 35060, lstm_x_val : 4382, lstm_x_test length: 4382\n"
          ],
          "name": "stdout"
        }
      ]
    },
    {
      "cell_type": "markdown",
      "metadata": {
        "id": "-MoGwUE4Nsbe",
        "colab_type": "text"
      },
      "source": [
        "만들어 둔 데이터를 가지고 Datagenerator 를 생성합니다.\n",
        "\n",
        "data_len은 얼마만큼의 시간 길이를 쓸 것인가를 의미합니다."
      ]
    },
    {
      "cell_type": "code",
      "metadata": {
        "id": "g68JCQXfatfb",
        "colab_type": "code",
        "colab": {
          "base_uri": "https://localhost:8080/",
          "height": 136
        },
        "outputId": "e78c4c77-8c3e-4fc1-aa57-caa67a612546"
      },
      "source": [
        "trainer.make_datagenerator(data_len = 15, batch_size = 128)"
      ],
      "execution_count": 13,
      "outputs": [
        {
          "output_type": "stream",
          "text": [
            "cnn_train_data_gen length : 274 // data_len: 15\n",
            "cnn_val_data_gen length : 35 // data_len: 15\n",
            "cnn_test_data_gen length : 35 // data_len: 15\n",
            "lstm_train_data_gen length : 274 // data_len: 15\n",
            "lstm_val_data_gen length : 35 // data_len: 15\n",
            "lstm_test_data_gen length : 35 // data_len: 15\n",
            "total data generator generated\n"
          ],
          "name": "stdout"
        }
      ]
    },
    {
      "cell_type": "markdown",
      "metadata": {
        "id": "8c8ehMTGOABT",
        "colab_type": "text"
      },
      "source": [
        "모델을 생성합니다."
      ]
    },
    {
      "cell_type": "code",
      "metadata": {
        "id": "hrDBS24a6XpG",
        "colab_type": "code",
        "colab": {
          "base_uri": "https://localhost:8080/",
          "height": 714
        },
        "outputId": "1012c576-9302-4895-870a-1ada2dfc665b"
      },
      "source": [
        "model = trainer.generate_model()"
      ],
      "execution_count": 14,
      "outputs": [
        {
          "output_type": "stream",
          "text": [
            "Model: \"functional_1\"\n",
            "__________________________________________________________________________________________________\n",
            "Layer (type)                    Output Shape         Param #     Connected to                     \n",
            "==================================================================================================\n",
            "input_1 (InputLayer)            [(None, 15, 7)]      0                                            \n",
            "__________________________________________________________________________________________________\n",
            "reshape (Reshape)               (None, 1, 15, 7)     0           input_1[0][0]                    \n",
            "__________________________________________________________________________________________________\n",
            "conv2d_transpose (Conv2DTranspo (None, 2, 16, 32)    928         reshape[0][0]                    \n",
            "__________________________________________________________________________________________________\n",
            "max_pooling2d (MaxPooling2D)    (None, 1, 8, 32)     0           conv2d_transpose[0][0]           \n",
            "__________________________________________________________________________________________________\n",
            "flatten (Flatten)               (None, 256)          0           max_pooling2d[0][0]              \n",
            "__________________________________________________________________________________________________\n",
            "dropout (Dropout)               (None, 256)          0           flatten[0][0]                    \n",
            "__________________________________________________________________________________________________\n",
            "dense (Dense)                   (None, 100)          25700       dropout[0][0]                    \n",
            "__________________________________________________________________________________________________\n",
            "dense_1 (Dense)                 (None, 1)            101         dense[0][0]                      \n",
            "__________________________________________________________________________________________________\n",
            "input_2 (InputLayer)            [(None, 15, 1)]      0                                            \n",
            "__________________________________________________________________________________________________\n",
            "reshape_1 (Reshape)             (None, 1, 1)         0           dense_1[0][0]                    \n",
            "__________________________________________________________________________________________________\n",
            "concatenate (Concatenate)       (None, 16, 1)        0           input_2[0][0]                    \n",
            "                                                                 reshape_1[0][0]                  \n",
            "__________________________________________________________________________________________________\n",
            "lstm (LSTM)                     (None, 216)          188352      concatenate[0][0]                \n",
            "__________________________________________________________________________________________________\n",
            "dropout_1 (Dropout)             (None, 216)          0           lstm[0][0]                       \n",
            "__________________________________________________________________________________________________\n",
            "dense_2 (Dense)                 (None, 128)          27776       dropout_1[0][0]                  \n",
            "__________________________________________________________________________________________________\n",
            "dropout_2 (Dropout)             (None, 128)          0           dense_2[0][0]                    \n",
            "__________________________________________________________________________________________________\n",
            "dense_3 (Dense)                 (None, 1)            129         dropout_2[0][0]                  \n",
            "==================================================================================================\n",
            "Total params: 242,986\n",
            "Trainable params: 242,986\n",
            "Non-trainable params: 0\n",
            "__________________________________________________________________________________________________\n"
          ],
          "name": "stdout"
        }
      ]
    },
    {
      "cell_type": "markdown",
      "metadata": {
        "id": "tRaWg7ZiOCEF",
        "colab_type": "text"
      },
      "source": [
        "모델을 학습시키거나, 이미 저장된 가중치를 불러옵니다."
      ]
    },
    {
      "cell_type": "code",
      "metadata": {
        "id": "K_ACBtptBrzA",
        "colab_type": "code",
        "colab": {
          "base_uri": "https://localhost:8080/",
          "height": 1000
        },
        "outputId": "f7308819-6cd3-46e7-9c85-469fc7df890d"
      },
      "source": [
        "trainer.fit(epochs=100)\n",
        "# trainer.load_model('/content/drive/My Drive/trained_model/AirPollution3')"
      ],
      "execution_count": 43,
      "outputs": [
        {
          "output_type": "stream",
          "text": [
            "Epoch 1/100\n",
            "  1/274 [..............................] - ETA: 0s - loss: 5.3140e-04WARNING:tensorflow:Callbacks method `on_train_batch_end` is slow compared to the batch time (batch time: 0.0106s vs `on_train_batch_end` time: 0.0294s). Check your callbacks.\n",
            "274/274 [==============================] - 2s 6ms/step - loss: 5.4711e-04 - val_loss: 6.3448e-04\n",
            "Epoch 2/100\n",
            "274/274 [==============================] - 2s 7ms/step - loss: 5.5333e-04 - val_loss: 6.6912e-04\n",
            "Epoch 3/100\n",
            "274/274 [==============================] - 2s 7ms/step - loss: 5.2680e-04 - val_loss: 5.5604e-04\n",
            "Epoch 4/100\n",
            "274/274 [==============================] - 2s 6ms/step - loss: 5.4694e-04 - val_loss: 6.2246e-04\n",
            "Epoch 5/100\n",
            "274/274 [==============================] - 2s 7ms/step - loss: 5.1496e-04 - val_loss: 6.3353e-04\n",
            "Epoch 6/100\n",
            "274/274 [==============================] - 2s 7ms/step - loss: 4.8891e-04 - val_loss: 6.1799e-04\n",
            "Epoch 7/100\n",
            "274/274 [==============================] - 2s 6ms/step - loss: 5.0080e-04 - val_loss: 6.2009e-04\n",
            "Epoch 8/100\n",
            "274/274 [==============================] - 2s 6ms/step - loss: 5.1819e-04 - val_loss: 8.6814e-04\n",
            "Epoch 9/100\n",
            "274/274 [==============================] - 2s 6ms/step - loss: 5.1098e-04 - val_loss: 7.6009e-04\n",
            "Epoch 10/100\n",
            "274/274 [==============================] - 2s 6ms/step - loss: 5.1629e-04 - val_loss: 6.3707e-04\n",
            "Epoch 11/100\n",
            "274/274 [==============================] - 2s 7ms/step - loss: 5.1174e-04 - val_loss: 7.1551e-04\n",
            "Epoch 12/100\n",
            "274/274 [==============================] - 2s 7ms/step - loss: 5.4535e-04 - val_loss: 6.9028e-04\n",
            "Epoch 13/100\n",
            "274/274 [==============================] - 2s 6ms/step - loss: 5.0419e-04 - val_loss: 7.1358e-04\n",
            "Epoch 14/100\n",
            "274/274 [==============================] - 2s 6ms/step - loss: 5.0844e-04 - val_loss: 8.3594e-04\n",
            "Epoch 15/100\n",
            "274/274 [==============================] - 2s 6ms/step - loss: 5.1446e-04 - val_loss: 8.0802e-04\n",
            "Epoch 16/100\n",
            "274/274 [==============================] - 2s 6ms/step - loss: 5.1025e-04 - val_loss: 9.8836e-04\n",
            "Epoch 17/100\n",
            "274/274 [==============================] - 2s 6ms/step - loss: 4.9253e-04 - val_loss: 6.2642e-04\n",
            "Epoch 18/100\n",
            "274/274 [==============================] - 2s 6ms/step - loss: 4.8348e-04 - val_loss: 7.7516e-04\n",
            "Epoch 19/100\n",
            "274/274 [==============================] - 2s 6ms/step - loss: 4.9657e-04 - val_loss: 5.6351e-04\n",
            "Epoch 20/100\n",
            "274/274 [==============================] - 2s 7ms/step - loss: 5.3262e-04 - val_loss: 9.1789e-04\n",
            "Epoch 21/100\n",
            "274/274 [==============================] - 2s 6ms/step - loss: 4.9924e-04 - val_loss: 7.2068e-04\n",
            "Epoch 22/100\n",
            "274/274 [==============================] - 2s 6ms/step - loss: 4.9287e-04 - val_loss: 9.0656e-04\n",
            "Epoch 23/100\n",
            "274/274 [==============================] - 2s 6ms/step - loss: 4.9752e-04 - val_loss: 8.0512e-04\n",
            "Epoch 24/100\n",
            "274/274 [==============================] - 2s 6ms/step - loss: 5.1962e-04 - val_loss: 5.6460e-04\n",
            "Epoch 25/100\n",
            "274/274 [==============================] - 2s 6ms/step - loss: 4.9901e-04 - val_loss: 7.9288e-04\n",
            "Epoch 26/100\n",
            "274/274 [==============================] - 2s 7ms/step - loss: 4.9843e-04 - val_loss: 6.7203e-04\n",
            "Epoch 27/100\n",
            "274/274 [==============================] - 2s 7ms/step - loss: 5.2756e-04 - val_loss: 5.7663e-04\n",
            "Epoch 28/100\n",
            "274/274 [==============================] - 2s 7ms/step - loss: 4.9775e-04 - val_loss: 6.9747e-04\n",
            "Epoch 29/100\n",
            "274/274 [==============================] - 2s 7ms/step - loss: 4.9949e-04 - val_loss: 6.1953e-04\n",
            "Epoch 30/100\n",
            "274/274 [==============================] - 2s 7ms/step - loss: 4.8613e-04 - val_loss: 8.0607e-04\n",
            "Epoch 31/100\n",
            "274/274 [==============================] - 2s 7ms/step - loss: 4.7726e-04 - val_loss: 7.0709e-04\n",
            "Epoch 32/100\n",
            "274/274 [==============================] - 2s 7ms/step - loss: 5.0201e-04 - val_loss: 8.8940e-04\n",
            "Epoch 33/100\n",
            "274/274 [==============================] - 2s 7ms/step - loss: 4.9285e-04 - val_loss: 8.1214e-04\n",
            "Epoch 34/100\n",
            "274/274 [==============================] - 2s 7ms/step - loss: 4.7478e-04 - val_loss: 7.8663e-04\n",
            "Epoch 35/100\n",
            "274/274 [==============================] - 2s 7ms/step - loss: 4.8893e-04 - val_loss: 6.0592e-04\n",
            "Epoch 36/100\n",
            "274/274 [==============================] - 2s 6ms/step - loss: 5.0111e-04 - val_loss: 7.1696e-04\n",
            "Epoch 37/100\n",
            "274/274 [==============================] - 2s 6ms/step - loss: 5.3532e-04 - val_loss: 7.8054e-04\n",
            "Epoch 38/100\n",
            "274/274 [==============================] - 2s 6ms/step - loss: 5.1678e-04 - val_loss: 7.9320e-04\n",
            "Epoch 39/100\n",
            "274/274 [==============================] - 2s 7ms/step - loss: 4.5531e-04 - val_loss: 6.8008e-04\n",
            "Epoch 40/100\n",
            "274/274 [==============================] - 2s 6ms/step - loss: 4.9927e-04 - val_loss: 8.2084e-04\n",
            "Epoch 41/100\n",
            "274/274 [==============================] - 2s 6ms/step - loss: 5.1897e-04 - val_loss: 7.6288e-04\n",
            "Epoch 42/100\n",
            "274/274 [==============================] - 2s 6ms/step - loss: 4.6731e-04 - val_loss: 8.7018e-04\n",
            "Epoch 43/100\n",
            "274/274 [==============================] - 2s 6ms/step - loss: 5.0194e-04 - val_loss: 5.9118e-04\n",
            "Epoch 44/100\n",
            "274/274 [==============================] - 2s 6ms/step - loss: 4.5515e-04 - val_loss: 7.4507e-04\n",
            "Epoch 45/100\n",
            "274/274 [==============================] - 2s 7ms/step - loss: 4.8033e-04 - val_loss: 7.7036e-04\n",
            "Epoch 46/100\n",
            "274/274 [==============================] - 2s 6ms/step - loss: 4.6539e-04 - val_loss: 7.8861e-04\n",
            "Epoch 47/100\n",
            "274/274 [==============================] - 2s 7ms/step - loss: 4.8290e-04 - val_loss: 6.3689e-04\n",
            "Epoch 48/100\n",
            "274/274 [==============================] - 2s 7ms/step - loss: 4.7378e-04 - val_loss: 7.8713e-04\n",
            "Epoch 49/100\n",
            "274/274 [==============================] - 2s 6ms/step - loss: 4.8439e-04 - val_loss: 6.5753e-04\n",
            "Epoch 50/100\n",
            "274/274 [==============================] - 2s 6ms/step - loss: 4.8209e-04 - val_loss: 7.9183e-04\n",
            "Epoch 51/100\n",
            "274/274 [==============================] - 2s 7ms/step - loss: 4.6995e-04 - val_loss: 8.0971e-04\n",
            "Epoch 52/100\n",
            "274/274 [==============================] - 2s 6ms/step - loss: 4.6220e-04 - val_loss: 8.6378e-04\n",
            "Epoch 53/100\n",
            "274/274 [==============================] - 2s 6ms/step - loss: 4.6731e-04 - val_loss: 6.3065e-04\n",
            "Epoch 54/100\n",
            "274/274 [==============================] - 2s 6ms/step - loss: 4.7467e-04 - val_loss: 7.4038e-04\n",
            "Epoch 55/100\n",
            "274/274 [==============================] - 2s 7ms/step - loss: 4.9581e-04 - val_loss: 0.0011\n",
            "Epoch 56/100\n",
            "274/274 [==============================] - 2s 6ms/step - loss: 4.8145e-04 - val_loss: 0.0010\n",
            "Epoch 57/100\n",
            "274/274 [==============================] - 2s 6ms/step - loss: 4.9878e-04 - val_loss: 8.6582e-04\n",
            "Epoch 58/100\n",
            "274/274 [==============================] - 2s 6ms/step - loss: 4.5490e-04 - val_loss: 7.9378e-04\n",
            "Epoch 59/100\n",
            "274/274 [==============================] - 2s 7ms/step - loss: 4.5722e-04 - val_loss: 8.2965e-04\n",
            "Epoch 60/100\n",
            "274/274 [==============================] - 2s 7ms/step - loss: 4.6663e-04 - val_loss: 7.2438e-04\n",
            "Epoch 61/100\n",
            "274/274 [==============================] - 2s 6ms/step - loss: 4.5514e-04 - val_loss: 6.0937e-04\n",
            "Epoch 62/100\n",
            "274/274 [==============================] - 2s 6ms/step - loss: 4.6897e-04 - val_loss: 8.1725e-04\n",
            "Epoch 63/100\n",
            "274/274 [==============================] - 2s 6ms/step - loss: 4.6314e-04 - val_loss: 7.1333e-04\n",
            "Epoch 64/100\n",
            "274/274 [==============================] - 2s 6ms/step - loss: 4.8685e-04 - val_loss: 8.3548e-04\n",
            "Epoch 65/100\n",
            "274/274 [==============================] - 2s 7ms/step - loss: 4.6504e-04 - val_loss: 6.2001e-04\n",
            "Epoch 66/100\n",
            "274/274 [==============================] - 2s 6ms/step - loss: 4.4463e-04 - val_loss: 0.0010\n",
            "Epoch 67/100\n",
            "274/274 [==============================] - 2s 7ms/step - loss: 4.4852e-04 - val_loss: 8.0138e-04\n",
            "Epoch 68/100\n",
            "274/274 [==============================] - 2s 7ms/step - loss: 4.5839e-04 - val_loss: 0.0011\n",
            "Epoch 69/100\n",
            "274/274 [==============================] - 2s 6ms/step - loss: 4.5561e-04 - val_loss: 6.7759e-04\n",
            "Epoch 70/100\n",
            "274/274 [==============================] - 2s 6ms/step - loss: 4.5003e-04 - val_loss: 8.3050e-04\n",
            "Epoch 71/100\n",
            "274/274 [==============================] - 2s 6ms/step - loss: 4.6333e-04 - val_loss: 8.4663e-04\n",
            "Epoch 72/100\n",
            "274/274 [==============================] - 2s 7ms/step - loss: 4.5950e-04 - val_loss: 6.0828e-04\n",
            "Epoch 73/100\n",
            "274/274 [==============================] - 2s 7ms/step - loss: 4.4690e-04 - val_loss: 9.6863e-04\n",
            "Epoch 74/100\n",
            "274/274 [==============================] - 2s 6ms/step - loss: 4.4478e-04 - val_loss: 7.8199e-04\n",
            "Epoch 75/100\n",
            "274/274 [==============================] - 2s 6ms/step - loss: 4.4348e-04 - val_loss: 9.3351e-04\n",
            "Epoch 76/100\n",
            "274/274 [==============================] - 2s 7ms/step - loss: 4.6254e-04 - val_loss: 6.6341e-04\n",
            "Epoch 77/100\n",
            "274/274 [==============================] - 2s 6ms/step - loss: 4.6300e-04 - val_loss: 8.1503e-04\n",
            "Epoch 78/100\n",
            "274/274 [==============================] - 2s 7ms/step - loss: 4.6979e-04 - val_loss: 7.5154e-04\n",
            "Epoch 79/100\n",
            "274/274 [==============================] - 2s 6ms/step - loss: 4.7161e-04 - val_loss: 6.1902e-04\n",
            "Epoch 80/100\n",
            "274/274 [==============================] - 2s 7ms/step - loss: 4.7864e-04 - val_loss: 8.6361e-04\n",
            "Epoch 81/100\n",
            "274/274 [==============================] - 2s 6ms/step - loss: 5.2988e-04 - val_loss: 6.7119e-04\n",
            "Epoch 82/100\n",
            "274/274 [==============================] - 2s 6ms/step - loss: 4.6579e-04 - val_loss: 5.6986e-04\n",
            "Epoch 83/100\n",
            "274/274 [==============================] - 2s 6ms/step - loss: 4.6103e-04 - val_loss: 6.5653e-04\n",
            "Epoch 84/100\n",
            "274/274 [==============================] - 2s 6ms/step - loss: 4.5218e-04 - val_loss: 6.7270e-04\n",
            "Epoch 85/100\n",
            "274/274 [==============================] - 2s 7ms/step - loss: 4.4259e-04 - val_loss: 9.3503e-04\n",
            "Epoch 86/100\n",
            "274/274 [==============================] - 2s 6ms/step - loss: 4.4594e-04 - val_loss: 7.9439e-04\n",
            "Epoch 87/100\n",
            "274/274 [==============================] - 2s 6ms/step - loss: 4.4954e-04 - val_loss: 8.1407e-04\n",
            "Epoch 88/100\n",
            "274/274 [==============================] - 2s 7ms/step - loss: 4.4277e-04 - val_loss: 7.3194e-04\n",
            "Epoch 89/100\n",
            "274/274 [==============================] - 2s 6ms/step - loss: 4.4750e-04 - val_loss: 7.3175e-04\n",
            "Epoch 90/100\n",
            "274/274 [==============================] - 2s 6ms/step - loss: 4.3433e-04 - val_loss: 5.9573e-04\n",
            "Epoch 91/100\n",
            "274/274 [==============================] - 2s 7ms/step - loss: 4.3747e-04 - val_loss: 7.5153e-04\n",
            "Epoch 92/100\n",
            "274/274 [==============================] - 2s 7ms/step - loss: 4.4772e-04 - val_loss: 9.1453e-04\n",
            "Epoch 93/100\n",
            "274/274 [==============================] - 2s 6ms/step - loss: 4.4924e-04 - val_loss: 6.0229e-04\n",
            "Epoch 94/100\n",
            "274/274 [==============================] - 2s 6ms/step - loss: 4.4562e-04 - val_loss: 8.4910e-04\n",
            "Epoch 95/100\n",
            "274/274 [==============================] - 2s 6ms/step - loss: 4.3986e-04 - val_loss: 6.8477e-04\n",
            "Epoch 96/100\n",
            "274/274 [==============================] - 2s 6ms/step - loss: 4.3920e-04 - val_loss: 7.3971e-04\n",
            "Epoch 97/100\n",
            "274/274 [==============================] - 2s 7ms/step - loss: 4.2969e-04 - val_loss: 6.6893e-04\n",
            "Epoch 98/100\n",
            "274/274 [==============================] - 2s 6ms/step - loss: 4.4217e-04 - val_loss: 7.6039e-04\n",
            "Epoch 99/100\n",
            "274/274 [==============================] - 2s 7ms/step - loss: 4.3004e-04 - val_loss: 7.3201e-04\n",
            "Epoch 100/100\n",
            "274/274 [==============================] - 2s 7ms/step - loss: 4.1803e-04 - val_loss: 8.5837e-04\n"
          ],
          "name": "stdout"
        }
      ]
    },
    {
      "cell_type": "markdown",
      "metadata": {
        "id": "PvtzIbPJOJnK",
        "colab_type": "text"
      },
      "source": [
        "모델이 올바르게 학습되었는가를 확인하는 코드입니다.\n"
      ]
    },
    {
      "cell_type": "code",
      "metadata": {
        "id": "P9HqoARKB213",
        "colab_type": "code",
        "colab": {
          "base_uri": "https://localhost:8080/",
          "height": 34
        },
        "outputId": "75b7a333-a049-49c5-ddab-2969e8943228"
      },
      "source": [
        "trainer.evaluate()"
      ],
      "execution_count": 44,
      "outputs": [
        {
          "output_type": "stream",
          "text": [
            "35/35 [==============================] - 0s 4ms/step - loss: 3.8967e-04\n"
          ],
          "name": "stdout"
        }
      ]
    },
    {
      "cell_type": "markdown",
      "metadata": {
        "id": "vhXGE6ZyONE4",
        "colab_type": "text"
      },
      "source": [
        "실제 모델이 미세먼지 값을 예측합니다.\n",
        "\n",
        "인자로 아무 것도 주어지지 않으면 ModelTrainer 클래스의 테스트 데이터로 작업을 수행합니다."
      ]
    },
    {
      "cell_type": "code",
      "metadata": {
        "id": "b1i-r2AFIUC-",
        "colab_type": "code",
        "colab": {}
      },
      "source": [
        "result = trainer.predict()"
      ],
      "execution_count": null,
      "outputs": []
    },
    {
      "cell_type": "markdown",
      "metadata": {
        "id": "Hp0vLp05OdPa",
        "colab_type": "text"
      },
      "source": [
        "ModelTrainer 클래스의 테스트 데이터를 가지고 실제 데이터와 비교해 그래프를 그립니다."
      ]
    },
    {
      "cell_type": "code",
      "metadata": {
        "id": "gS86nSaAIbBx",
        "colab_type": "code",
        "colab": {
          "base_uri": "https://localhost:8080/",
          "height": 281
        },
        "outputId": "b62616d9-2609-4b4d-adba-43626a2f8d04"
      },
      "source": [
        "trainer.plot()"
      ],
      "execution_count": 45,
      "outputs": [
        {
          "output_type": "display_data",
          "data": {
            "image/png": "[encoded data removed]",
            "text/plain": [
              "<Figure size 432x288 with 1 Axes>"
            ]
          },
          "metadata": {
            "tags": [],
            "needs_background": "light"
          }
        }
      ]
    },
    {
      "cell_type": "code",
      "metadata": {
        "id": "ET88Gs2Idmxh",
        "colab_type": "code",
        "colab": {
          "base_uri": "https://localhost:8080/",
          "height": 51
        },
        "outputId": "00c2e689-ed98-4e55-d824-0c79b6df1b8a"
      },
      "source": [
        "# trainer.save_model('/content/drive/My Drive/trained_model/AirPollution3-1')"
      ],
      "execution_count": 42,
      "outputs": [
        {
          "output_type": "stream",
          "text": [
            "INFO:tensorflow:Assets written to: /content/drive/My Drive/trained_model/AirPollution3-1/assets\n",
            "model saved at /content/drive/My Drive/trained_model/AirPollution3-1\n"
          ],
          "name": "stdout"
        }
      ]
    },
    {
      "cell_type": "markdown",
      "metadata": {
        "id": "gtRc7gFPOn5q",
        "colab_type": "text"
      },
      "source": [
        "# Tensorboard\n",
        "텐서보드는 모델의 학습 상황을 실시간으로 나타내는 익스텐션입니다.\n",
        "\n",
        "오차율 변동 사항을 에포크 별로 확인이 가능합니다."
      ]
    },
    {
      "cell_type": "code",
      "metadata": {
        "id": "uIOnfa0LMhdg",
        "colab_type": "code",
        "colab": {}
      },
      "source": [
        "%load_ext tensorboard"
      ],
      "execution_count": null,
      "outputs": []
    },
    {
      "cell_type": "code",
      "metadata": {
        "id": "AGs7H6tmNEEO",
        "colab_type": "code",
        "colab": {}
      },
      "source": [
        "%tensorboard --logdir {'model_logs'}"
      ],
      "execution_count": null,
      "outputs": []
    },
    {
      "cell_type": "markdown",
      "metadata": {
        "id": "7EUTjUjOO2S7",
        "colab_type": "text"
      },
      "source": [
        "# 시연\n",
        "위에서 가져 온 베이징 데이터로 작업을 수행합니다."
      ]
    },
    {
      "cell_type": "markdown",
      "metadata": {
        "id": "bKIVe_rtPK9N",
        "colab_type": "text"
      },
      "source": [
        "현재 43824개의 데이터가 존재합니다."
      ]
    },
    {
      "cell_type": "code",
      "metadata": {
        "id": "Gwi6LO3RO8a1",
        "colab_type": "code",
        "colab": {
          "base_uri": "https://localhost:8080/",
          "height": 34
        },
        "outputId": "61168f4c-92a6-4c42-c8f0-7c5db222e482"
      },
      "source": [
        "pm25, proxy = get_data()\n",
        "print(f\"proxy data len : {len(proxy)}, pm25 data len {len(pm25)}\")"
      ],
      "execution_count": 76,
      "outputs": [
        {
          "output_type": "stream",
          "text": [
            "proxy data len : 43824, pm25 data len 43824\n"
          ],
          "name": "stdout"
        }
      ]
    },
    {
      "cell_type": "markdown",
      "metadata": {
        "id": "FayQAKA1Qh6r",
        "colab_type": "text"
      },
      "source": [
        "Pandas 데이터 자료형을 Numpy 배열로 변경하겠습니다."
      ]
    },
    {
      "cell_type": "code",
      "metadata": {
        "id": "lJO_zbgbQagX",
        "colab_type": "code",
        "colab": {}
      },
      "source": [
        "np_pm25 = pm25.to_numpy()\n",
        "np_proxy = proxy.to_numpy()"
      ],
      "execution_count": 77,
      "outputs": []
    },
    {
      "cell_type": "markdown",
      "metadata": {
        "id": "691kSkwUPIs5",
        "colab_type": "text"
      },
      "source": [
        "이중에서 랜덤으로 하나를 골라 계측값을 확인하겠습니다.\n",
        "\n",
        "4382개의 Test데이터가 있었으므로 이 중에서 하나를 측정합니다."
      ]
    },
    {
      "cell_type": "code",
      "metadata": {
        "id": "O-xbRQRmPVNQ",
        "colab_type": "code",
        "colab": {
          "base_uri": "https://localhost:8080/",
          "height": 34
        },
        "outputId": "5b789e4e-1a3e-434a-c9de-62fe2f880b79"
      },
      "source": [
        "import random\n",
        "idx = random.randint(4382, len(np_pm25))\n",
        "print(f\"idx : {idx}, proxy[-idx]: {np_proxy[-idx]}, pm25[-idx]: {np_pm25[-idx]}\")"
      ],
      "execution_count": 78,
      "outputs": [
        {
          "output_type": "stream",
          "text": [
            "idx : 24841, proxy[-idx]: [1 2.0 1025.0 'SE' 5.81 0 2], pm25[-idx]: 278.0\n"
          ],
          "name": "stdout"
        }
      ]
    },
    {
      "cell_type": "markdown",
      "metadata": {
        "id": "1-PIz8eDQHTX",
        "colab_type": "text"
      },
      "source": [
        "데이터를 전처리합니다."
      ]
    },
    {
      "cell_type": "code",
      "metadata": {
        "id": "Rz8gGcoLQ5zG",
        "colab_type": "code",
        "colab": {
          "base_uri": "https://localhost:8080/",
          "height": 34
        },
        "outputId": "84aaf896-e9fa-444c-d07c-5eb05ccfb47e"
      },
      "source": [
        "pmScaler = PmScaler()\n",
        "proxyScaler = ProxyScaler()\n",
        "\n",
        "norm_pm25 = pmScaler.data_normalize(data = np_pm25)\n",
        "changed_proxy = proxyScaler.change_cbwd_data(proxy)\n",
        "norm_proxy = proxyScaler.data_normalize(data = changed_proxy)"
      ],
      "execution_count": 79,
      "outputs": [
        {
          "output_type": "stream",
          "text": [
            "cbwd data changed to number : {SE : 0, NW: 1, cv: 2, NE:3} \n"
          ],
          "name": "stdout"
        }
      ]
    },
    {
      "cell_type": "markdown",
      "metadata": {
        "id": "HmCOguLGRnYa",
        "colab_type": "text"
      },
      "source": [
        "모델 트레이너 클래스를 생성하고, 모델을 불러 옵니다."
      ]
    },
    {
      "cell_type": "code",
      "metadata": {
        "id": "ZLUHTNw0UmLE",
        "colab_type": "code",
        "colab": {
          "base_uri": "https://localhost:8080/",
          "height": 85
        },
        "outputId": "e3baedc3-230a-490d-e508-a397c0dae3f1"
      },
      "source": [
        "trainer = ModelTrainer(pm25, proxy) # 인자는 기존 학습의 잔재입니다.\n",
        "trainer.load_model('/content/drive/My Drive/trained_model/AirPollution3')"
      ],
      "execution_count": 80,
      "outputs": [
        {
          "output_type": "stream",
          "text": [
            "pm25 length : 43824\n",
            "proxydata length : 43824\n",
            "model loaded from /content/drive/My Drive/trained_model/AirPollution3\n"
          ],
          "name": "stdout"
        },
        {
          "output_type": "execute_result",
          "data": {
            "text/plain": [
              "<tensorflow.python.keras.engine.functional.Functional at 0x7f93653553c8>"
            ]
          },
          "metadata": {
            "tags": []
          },
          "execution_count": 80
        }
      ]
    },
    {
      "cell_type": "markdown",
      "metadata": {
        "id": "K7DEhMxzVGjZ",
        "colab_type": "text"
      },
      "source": [
        "시간 축 데이터가 15단위이므로, idx의 15시간 전 데이터를 넣겠습니다.\n",
        "\n",
        "배치 사이즈가 1이므로 첫 번째 차원을 1로 변경합니다.(reshape)"
      ]
    },
    {
      "cell_type": "code",
      "metadata": {
        "id": "5XoKowrDVdl8",
        "colab_type": "code",
        "colab": {}
      },
      "source": [
        "input_proxy = norm_proxy[-idx - 16 : -idx-1].reshape(1,15,-1)\n",
        "input_pm25 = norm_pm25[-idx - 16 : -idx-1].reshape(1,15,-1)"
      ],
      "execution_count": 81,
      "outputs": []
    },
    {
      "cell_type": "code",
      "metadata": {
        "id": "_NNHCATPV-h9",
        "colab_type": "code",
        "colab": {
          "base_uri": "https://localhost:8080/",
          "height": 51
        },
        "outputId": "4383a9b7-cc6d-4684-9df4-02fb8c555f12"
      },
      "source": [
        "print(input_proxy.shape)\n",
        "print(input_pm25.shape)"
      ],
      "execution_count": 82,
      "outputs": [
        {
          "output_type": "stream",
          "text": [
            "(1, 15, 7)\n",
            "(1, 15, 1)\n"
          ],
          "name": "stdout"
        }
      ]
    },
    {
      "cell_type": "markdown",
      "metadata": {
        "id": "POwN3tVBW7ym",
        "colab_type": "text"
      },
      "source": [
        "모델을 사용해 예측합니다.\n",
        "\n",
        "두 개의 입력을 array 로 입력해 주어야 합니다. ([cnn_input, lstm_input])의 모양"
      ]
    },
    {
      "cell_type": "code",
      "metadata": {
        "id": "oR6VBaW7VvRD",
        "colab_type": "code",
        "colab": {
          "base_uri": "https://localhost:8080/",
          "height": 54
        },
        "outputId": "275939df-c032-4c08-e75e-b0c50fd8409f"
      },
      "source": [
        "prediction = trainer.model.predict([input_proxy, input_pm25])"
      ],
      "execution_count": 83,
      "outputs": [
        {
          "output_type": "stream",
          "text": [
            "WARNING:tensorflow:5 out of the last 109 calls to <function Model.make_predict_function.<locals>.predict_function at 0x7f93652e1ae8> triggered tf.function retracing. Tracing is expensive and the excessive number of tracings could be due to (1) creating @tf.function repeatedly in a loop, (2) passing tensors with different shapes, (3) passing Python objects instead of tensors. For (1), please define your @tf.function outside of the loop. For (2), @tf.function has experimental_relax_shapes=True option that relaxes argument shapes that can avoid unnecessary retracing. For (3), please refer to https://www.tensorflow.org/tutorials/customization/performance#python_or_tensor_args and https://www.tensorflow.org/api_docs/python/tf/function for  more details.\n"
          ],
          "name": "stdout"
        }
      ]
    },
    {
      "cell_type": "markdown",
      "metadata": {
        "id": "SldCPZwIXO9A",
        "colab_type": "text"
      },
      "source": [
        "정규화 한 값을 원래 값으로 되돌립니다."
      ]
    },
    {
      "cell_type": "code",
      "metadata": {
        "id": "P8JWBYzzV7At",
        "colab_type": "code",
        "colab": {}
      },
      "source": [
        "invert_prediction = pmScaler.invert_scale(prediction)"
      ],
      "execution_count": 84,
      "outputs": []
    },
    {
      "cell_type": "markdown",
      "metadata": {
        "id": "qR_0IaobXYOv",
        "colab_type": "text"
      },
      "source": [
        "값을 확인합니다."
      ]
    },
    {
      "cell_type": "code",
      "metadata": {
        "id": "f1BHTSEJWZZQ",
        "colab_type": "code",
        "colab": {
          "base_uri": "https://localhost:8080/",
          "height": 34
        },
        "outputId": "bbe9954a-2de5-416d-8046-ed25fa7b8016"
      },
      "source": [
        "print(f\"Prediction value : {invert_prediction[0][0]}, Actual value : {np_pm25[-idx]}\")"
      ],
      "execution_count": 85,
      "outputs": [
        {
          "output_type": "stream",
          "text": [
            "Prediction value : 240.63742065429688, Actual value : 278.0\n"
          ],
          "name": "stdout"
        }
      ]
    },
    {
      "cell_type": "code",
      "metadata": {
        "id": "MtZDF9R7X2_7",
        "colab_type": "code",
        "colab": {}
      },
      "source": [
        ""
      ],
      "execution_count": 85,
      "outputs": []
    }
  ]
}