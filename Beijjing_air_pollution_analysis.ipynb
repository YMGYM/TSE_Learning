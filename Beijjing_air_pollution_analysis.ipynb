{
  "nbformat": 4,
  "nbformat_minor": 0,
  "metadata": {
    "colab": {
      "name": "Beijjing air pollution analysis.ipynb",
      "provenance": [],
      "toc_visible": true,
      "mount_file_id": "1VVxNboEQpnw2A3glG-XDoT2N6GRBs62p",
      "authorship_tag": "ABX9TyNvX7k1w/U0UE9Pl6wK9v8Y",
      "include_colab_link": true
    },
    "kernelspec": {
      "name": "python3",
      "display_name": "Python 3"
    }
  },
  "cells": [
    {
      "cell_type": "markdown",
      "metadata": {
        "id": "view-in-github",
        "colab_type": "text"
      },
      "source": [
        "<a href=\"https://colab.research.google.com/github/YMGYM/TSE_Learning/blob/master/Beijjing_air_pollution_analysis.ipynb\" target=\"_parent\"><img src=\"https://colab.research.google.com/assets/colab-badge.svg\" alt=\"Open In Colab\"/></a>"
      ]
    },
    {
      "cell_type": "markdown",
      "metadata": {
        "id": "H1pPG9NHcxwJ",
        "colab_type": "text"
      },
      "source": [
        "# Introduction\n",
        "\n",
        "이 파일은 황철현, 신강욱의\n",
        "`미세먼지 예측 성능 개선을 위한 CNN-LSTM 결합 방법`\n",
        "논문의 구현 연습 파일입니다.\n",
        "\n",
        "데이터셋은 [Beijing PM2.5 데이터셋](https://www.kaggle.com/djhavera/beijing-pm25-data-data-set)\n",
        "을 사용핬습니다."
      ]
    },
    {
      "cell_type": "markdown",
      "metadata": {
        "id": "QvcdM_7lbsTT",
        "colab_type": "text"
      },
      "source": [
        "# Load Data"
      ]
    },
    {
      "cell_type": "code",
      "metadata": {
        "id": "590K_zfBdoHv",
        "colab_type": "code",
        "colab": {
          "base_uri": "https://localhost:8080/",
          "height": 51
        },
        "outputId": "17451ee0-0f7e-49ef-8301-f9663531cd0f"
      },
      "source": [
        "! unzip /content/drive/My\\ Drive/Datasets/beijing_air.zip -d data"
      ],
      "execution_count": 1,
      "outputs": [
        {
          "output_type": "stream",
          "text": [
            "Archive:  /content/drive/My Drive/Datasets/beijing_air.zip\n",
            "  inflating: data/PRSA_data_2010.1.1-2014.12.31.csv  \n"
          ],
          "name": "stdout"
        }
      ]
    },
    {
      "cell_type": "code",
      "metadata": {
        "id": "AqQ-ukJLeLEf",
        "colab_type": "code",
        "colab": {}
      },
      "source": [
        "import pandas as pd"
      ],
      "execution_count": 2,
      "outputs": []
    },
    {
      "cell_type": "code",
      "metadata": {
        "id": "bEKINm67eQUD",
        "colab_type": "code",
        "colab": {}
      },
      "source": [
        "data = pd.read_csv('/content/data/PRSA_data_2010.1.1-2014.12.31.csv')"
      ],
      "execution_count": 3,
      "outputs": []
    },
    {
      "cell_type": "code",
      "metadata": {
        "id": "f0wizDVEeT4Y",
        "colab_type": "code",
        "colab": {
          "base_uri": "https://localhost:8080/",
          "height": 419
        },
        "outputId": "34d4edb2-c863-4b49-db6f-907c50cc7f96"
      },
      "source": [
        "data"
      ],
      "execution_count": 4,
      "outputs": [
        {
          "output_type": "execute_result",
          "data": {
            "text/html": [
              "<div>\n",
              "<style scoped>\n",
              "    .dataframe tbody tr th:only-of-type {\n",
              "        vertical-align: middle;\n",
              "    }\n",
              "\n",
              "    .dataframe tbody tr th {\n",
              "        vertical-align: top;\n",
              "    }\n",
              "\n",
              "    .dataframe thead th {\n",
              "        text-align: right;\n",
              "    }\n",
              "</style>\n",
              "<table border=\"1\" class=\"dataframe\">\n",
              "  <thead>\n",
              "    <tr style=\"text-align: right;\">\n",
              "      <th></th>\n",
              "      <th>No</th>\n",
              "      <th>year</th>\n",
              "      <th>month</th>\n",
              "      <th>day</th>\n",
              "      <th>hour</th>\n",
              "      <th>pm2.5</th>\n",
              "      <th>DEWP</th>\n",
              "      <th>TEMP</th>\n",
              "      <th>PRES</th>\n",
              "      <th>cbwd</th>\n",
              "      <th>Iws</th>\n",
              "      <th>Is</th>\n",
              "      <th>Ir</th>\n",
              "    </tr>\n",
              "  </thead>\n",
              "  <tbody>\n",
              "    <tr>\n",
              "      <th>0</th>\n",
              "      <td>1</td>\n",
              "      <td>2010</td>\n",
              "      <td>1</td>\n",
              "      <td>1</td>\n",
              "      <td>0</td>\n",
              "      <td>NaN</td>\n",
              "      <td>-21</td>\n",
              "      <td>-11.0</td>\n",
              "      <td>1021.0</td>\n",
              "      <td>NW</td>\n",
              "      <td>1.79</td>\n",
              "      <td>0</td>\n",
              "      <td>0</td>\n",
              "    </tr>\n",
              "    <tr>\n",
              "      <th>1</th>\n",
              "      <td>2</td>\n",
              "      <td>2010</td>\n",
              "      <td>1</td>\n",
              "      <td>1</td>\n",
              "      <td>1</td>\n",
              "      <td>NaN</td>\n",
              "      <td>-21</td>\n",
              "      <td>-12.0</td>\n",
              "      <td>1020.0</td>\n",
              "      <td>NW</td>\n",
              "      <td>4.92</td>\n",
              "      <td>0</td>\n",
              "      <td>0</td>\n",
              "    </tr>\n",
              "    <tr>\n",
              "      <th>2</th>\n",
              "      <td>3</td>\n",
              "      <td>2010</td>\n",
              "      <td>1</td>\n",
              "      <td>1</td>\n",
              "      <td>2</td>\n",
              "      <td>NaN</td>\n",
              "      <td>-21</td>\n",
              "      <td>-11.0</td>\n",
              "      <td>1019.0</td>\n",
              "      <td>NW</td>\n",
              "      <td>6.71</td>\n",
              "      <td>0</td>\n",
              "      <td>0</td>\n",
              "    </tr>\n",
              "    <tr>\n",
              "      <th>3</th>\n",
              "      <td>4</td>\n",
              "      <td>2010</td>\n",
              "      <td>1</td>\n",
              "      <td>1</td>\n",
              "      <td>3</td>\n",
              "      <td>NaN</td>\n",
              "      <td>-21</td>\n",
              "      <td>-14.0</td>\n",
              "      <td>1019.0</td>\n",
              "      <td>NW</td>\n",
              "      <td>9.84</td>\n",
              "      <td>0</td>\n",
              "      <td>0</td>\n",
              "    </tr>\n",
              "    <tr>\n",
              "      <th>4</th>\n",
              "      <td>5</td>\n",
              "      <td>2010</td>\n",
              "      <td>1</td>\n",
              "      <td>1</td>\n",
              "      <td>4</td>\n",
              "      <td>NaN</td>\n",
              "      <td>-20</td>\n",
              "      <td>-12.0</td>\n",
              "      <td>1018.0</td>\n",
              "      <td>NW</td>\n",
              "      <td>12.97</td>\n",
              "      <td>0</td>\n",
              "      <td>0</td>\n",
              "    </tr>\n",
              "    <tr>\n",
              "      <th>...</th>\n",
              "      <td>...</td>\n",
              "      <td>...</td>\n",
              "      <td>...</td>\n",
              "      <td>...</td>\n",
              "      <td>...</td>\n",
              "      <td>...</td>\n",
              "      <td>...</td>\n",
              "      <td>...</td>\n",
              "      <td>...</td>\n",
              "      <td>...</td>\n",
              "      <td>...</td>\n",
              "      <td>...</td>\n",
              "      <td>...</td>\n",
              "    </tr>\n",
              "    <tr>\n",
              "      <th>43819</th>\n",
              "      <td>43820</td>\n",
              "      <td>2014</td>\n",
              "      <td>12</td>\n",
              "      <td>31</td>\n",
              "      <td>19</td>\n",
              "      <td>8.0</td>\n",
              "      <td>-23</td>\n",
              "      <td>-2.0</td>\n",
              "      <td>1034.0</td>\n",
              "      <td>NW</td>\n",
              "      <td>231.97</td>\n",
              "      <td>0</td>\n",
              "      <td>0</td>\n",
              "    </tr>\n",
              "    <tr>\n",
              "      <th>43820</th>\n",
              "      <td>43821</td>\n",
              "      <td>2014</td>\n",
              "      <td>12</td>\n",
              "      <td>31</td>\n",
              "      <td>20</td>\n",
              "      <td>10.0</td>\n",
              "      <td>-22</td>\n",
              "      <td>-3.0</td>\n",
              "      <td>1034.0</td>\n",
              "      <td>NW</td>\n",
              "      <td>237.78</td>\n",
              "      <td>0</td>\n",
              "      <td>0</td>\n",
              "    </tr>\n",
              "    <tr>\n",
              "      <th>43821</th>\n",
              "      <td>43822</td>\n",
              "      <td>2014</td>\n",
              "      <td>12</td>\n",
              "      <td>31</td>\n",
              "      <td>21</td>\n",
              "      <td>10.0</td>\n",
              "      <td>-22</td>\n",
              "      <td>-3.0</td>\n",
              "      <td>1034.0</td>\n",
              "      <td>NW</td>\n",
              "      <td>242.70</td>\n",
              "      <td>0</td>\n",
              "      <td>0</td>\n",
              "    </tr>\n",
              "    <tr>\n",
              "      <th>43822</th>\n",
              "      <td>43823</td>\n",
              "      <td>2014</td>\n",
              "      <td>12</td>\n",
              "      <td>31</td>\n",
              "      <td>22</td>\n",
              "      <td>8.0</td>\n",
              "      <td>-22</td>\n",
              "      <td>-4.0</td>\n",
              "      <td>1034.0</td>\n",
              "      <td>NW</td>\n",
              "      <td>246.72</td>\n",
              "      <td>0</td>\n",
              "      <td>0</td>\n",
              "    </tr>\n",
              "    <tr>\n",
              "      <th>43823</th>\n",
              "      <td>43824</td>\n",
              "      <td>2014</td>\n",
              "      <td>12</td>\n",
              "      <td>31</td>\n",
              "      <td>23</td>\n",
              "      <td>12.0</td>\n",
              "      <td>-21</td>\n",
              "      <td>-3.0</td>\n",
              "      <td>1034.0</td>\n",
              "      <td>NW</td>\n",
              "      <td>249.85</td>\n",
              "      <td>0</td>\n",
              "      <td>0</td>\n",
              "    </tr>\n",
              "  </tbody>\n",
              "</table>\n",
              "<p>43824 rows × 13 columns</p>\n",
              "</div>"
            ],
            "text/plain": [
              "          No  year  month  day  hour  pm2.5  ...  TEMP    PRES  cbwd     Iws  Is  Ir\n",
              "0          1  2010      1    1     0    NaN  ... -11.0  1021.0    NW    1.79   0   0\n",
              "1          2  2010      1    1     1    NaN  ... -12.0  1020.0    NW    4.92   0   0\n",
              "2          3  2010      1    1     2    NaN  ... -11.0  1019.0    NW    6.71   0   0\n",
              "3          4  2010      1    1     3    NaN  ... -14.0  1019.0    NW    9.84   0   0\n",
              "4          5  2010      1    1     4    NaN  ... -12.0  1018.0    NW   12.97   0   0\n",
              "...      ...   ...    ...  ...   ...    ...  ...   ...     ...   ...     ...  ..  ..\n",
              "43819  43820  2014     12   31    19    8.0  ...  -2.0  1034.0    NW  231.97   0   0\n",
              "43820  43821  2014     12   31    20   10.0  ...  -3.0  1034.0    NW  237.78   0   0\n",
              "43821  43822  2014     12   31    21   10.0  ...  -3.0  1034.0    NW  242.70   0   0\n",
              "43822  43823  2014     12   31    22    8.0  ...  -4.0  1034.0    NW  246.72   0   0\n",
              "43823  43824  2014     12   31    23   12.0  ...  -3.0  1034.0    NW  249.85   0   0\n",
              "\n",
              "[43824 rows x 13 columns]"
            ]
          },
          "metadata": {
            "tags": []
          },
          "execution_count": 4
        }
      ]
    },
    {
      "cell_type": "code",
      "metadata": {
        "id": "lHitkYqgeUyU",
        "colab_type": "code",
        "colab": {}
      },
      "source": [
        ""
      ],
      "execution_count": null,
      "outputs": []
    }
  ]
}