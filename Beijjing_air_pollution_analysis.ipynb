{
  "nbformat": 4,
  "nbformat_minor": 0,
  "metadata": {
    "colab": {
      "name": "Beijjing air pollution analysis.ipynb",
      "provenance": [],
      "collapsed_sections": [],
      "toc_visible": true,
      "mount_file_id": "1VVxNboEQpnw2A3glG-XDoT2N6GRBs62p",
      "authorship_tag": "ABX9TyOsMidB9J7cK168E3YXciSN",
      "include_colab_link": true
    },
    "kernelspec": {
      "name": "python3",
      "display_name": "Python 3"
    }
  },
  "cells": [
    {
      "cell_type": "markdown",
      "metadata": {
        "id": "view-in-github",
        "colab_type": "text"
      },
      "source": [
        "<a href=\"https://colab.research.google.com/github/YMGYM/TSE_Learning/blob/master/Beijjing_air_pollution_analysis.ipynb\" target=\"_parent\"><img src=\"https://colab.research.google.com/assets/colab-badge.svg\" alt=\"Open In Colab\"/></a>"
      ]
    },
    {
      "cell_type": "markdown",
      "metadata": {
        "id": "H1pPG9NHcxwJ",
        "colab_type": "text"
      },
      "source": [
        "# Introduction\n",
        "\n",
        "이 파일은 황철현, 신강욱의\n",
        "`미세먼지 예측 성능 개선을 위한 CNN-LSTM 결합 방법`\n",
        "논문의 구현 연습 파일입니다.\n",
        "\n",
        "데이터셋은 [Beijing PM2.5 데이터셋](https://www.kaggle.com/djhavera/beijing-pm25-data-data-set)\n",
        "을 사용핬습니다."
      ]
    },
    {
      "cell_type": "markdown",
      "metadata": {
        "id": "QvcdM_7lbsTT",
        "colab_type": "text"
      },
      "source": [
        "# Load Data"
      ]
    },
    {
      "cell_type": "code",
      "metadata": {
        "id": "590K_zfBdoHv",
        "colab_type": "code",
        "colab": {
          "base_uri": "https://localhost:8080/",
          "height": 51
        },
        "outputId": "1710ff2a-d358-4105-a7d2-eee5322d2c3f"
      },
      "source": [
        "! unzip /content/drive/My\\ Drive/Datasets/beijing_air.zip -d data"
      ],
      "execution_count": 1,
      "outputs": [
        {
          "output_type": "stream",
          "text": [
            "Archive:  /content/drive/My Drive/Datasets/beijing_air.zip\n",
            "  inflating: data/PRSA_data_2010.1.1-2014.12.31.csv  \n"
          ],
          "name": "stdout"
        }
      ]
    },
    {
      "cell_type": "code",
      "metadata": {
        "id": "AqQ-ukJLeLEf",
        "colab_type": "code",
        "colab": {}
      },
      "source": [
        "import pandas as pd"
      ],
      "execution_count": 2,
      "outputs": []
    },
    {
      "cell_type": "code",
      "metadata": {
        "id": "bEKINm67eQUD",
        "colab_type": "code",
        "colab": {}
      },
      "source": [
        "data = pd.read_csv('/content/data/PRSA_data_2010.1.1-2014.12.31.csv')"
      ],
      "execution_count": 88,
      "outputs": []
    },
    {
      "cell_type": "code",
      "metadata": {
        "id": "f0wizDVEeT4Y",
        "colab_type": "code",
        "colab": {
          "base_uri": "https://localhost:8080/",
          "height": 419
        },
        "outputId": "01f32618-2d7e-4ecc-bbc0-fe4343b847ce"
      },
      "source": [
        "data"
      ],
      "execution_count": 89,
      "outputs": [
        {
          "output_type": "execute_result",
          "data": {
            "text/html": [
              "<div>\n",
              "<style scoped>\n",
              "    .dataframe tbody tr th:only-of-type {\n",
              "        vertical-align: middle;\n",
              "    }\n",
              "\n",
              "    .dataframe tbody tr th {\n",
              "        vertical-align: top;\n",
              "    }\n",
              "\n",
              "    .dataframe thead th {\n",
              "        text-align: right;\n",
              "    }\n",
              "</style>\n",
              "<table border=\"1\" class=\"dataframe\">\n",
              "  <thead>\n",
              "    <tr style=\"text-align: right;\">\n",
              "      <th></th>\n",
              "      <th>No</th>\n",
              "      <th>year</th>\n",
              "      <th>month</th>\n",
              "      <th>day</th>\n",
              "      <th>hour</th>\n",
              "      <th>pm2.5</th>\n",
              "      <th>DEWP</th>\n",
              "      <th>TEMP</th>\n",
              "      <th>PRES</th>\n",
              "      <th>cbwd</th>\n",
              "      <th>Iws</th>\n",
              "      <th>Is</th>\n",
              "      <th>Ir</th>\n",
              "    </tr>\n",
              "  </thead>\n",
              "  <tbody>\n",
              "    <tr>\n",
              "      <th>0</th>\n",
              "      <td>1</td>\n",
              "      <td>2010</td>\n",
              "      <td>1</td>\n",
              "      <td>1</td>\n",
              "      <td>0</td>\n",
              "      <td>NaN</td>\n",
              "      <td>-21</td>\n",
              "      <td>-11.0</td>\n",
              "      <td>1021.0</td>\n",
              "      <td>NW</td>\n",
              "      <td>1.79</td>\n",
              "      <td>0</td>\n",
              "      <td>0</td>\n",
              "    </tr>\n",
              "    <tr>\n",
              "      <th>1</th>\n",
              "      <td>2</td>\n",
              "      <td>2010</td>\n",
              "      <td>1</td>\n",
              "      <td>1</td>\n",
              "      <td>1</td>\n",
              "      <td>NaN</td>\n",
              "      <td>-21</td>\n",
              "      <td>-12.0</td>\n",
              "      <td>1020.0</td>\n",
              "      <td>NW</td>\n",
              "      <td>4.92</td>\n",
              "      <td>0</td>\n",
              "      <td>0</td>\n",
              "    </tr>\n",
              "    <tr>\n",
              "      <th>2</th>\n",
              "      <td>3</td>\n",
              "      <td>2010</td>\n",
              "      <td>1</td>\n",
              "      <td>1</td>\n",
              "      <td>2</td>\n",
              "      <td>NaN</td>\n",
              "      <td>-21</td>\n",
              "      <td>-11.0</td>\n",
              "      <td>1019.0</td>\n",
              "      <td>NW</td>\n",
              "      <td>6.71</td>\n",
              "      <td>0</td>\n",
              "      <td>0</td>\n",
              "    </tr>\n",
              "    <tr>\n",
              "      <th>3</th>\n",
              "      <td>4</td>\n",
              "      <td>2010</td>\n",
              "      <td>1</td>\n",
              "      <td>1</td>\n",
              "      <td>3</td>\n",
              "      <td>NaN</td>\n",
              "      <td>-21</td>\n",
              "      <td>-14.0</td>\n",
              "      <td>1019.0</td>\n",
              "      <td>NW</td>\n",
              "      <td>9.84</td>\n",
              "      <td>0</td>\n",
              "      <td>0</td>\n",
              "    </tr>\n",
              "    <tr>\n",
              "      <th>4</th>\n",
              "      <td>5</td>\n",
              "      <td>2010</td>\n",
              "      <td>1</td>\n",
              "      <td>1</td>\n",
              "      <td>4</td>\n",
              "      <td>NaN</td>\n",
              "      <td>-20</td>\n",
              "      <td>-12.0</td>\n",
              "      <td>1018.0</td>\n",
              "      <td>NW</td>\n",
              "      <td>12.97</td>\n",
              "      <td>0</td>\n",
              "      <td>0</td>\n",
              "    </tr>\n",
              "    <tr>\n",
              "      <th>...</th>\n",
              "      <td>...</td>\n",
              "      <td>...</td>\n",
              "      <td>...</td>\n",
              "      <td>...</td>\n",
              "      <td>...</td>\n",
              "      <td>...</td>\n",
              "      <td>...</td>\n",
              "      <td>...</td>\n",
              "      <td>...</td>\n",
              "      <td>...</td>\n",
              "      <td>...</td>\n",
              "      <td>...</td>\n",
              "      <td>...</td>\n",
              "    </tr>\n",
              "    <tr>\n",
              "      <th>43819</th>\n",
              "      <td>43820</td>\n",
              "      <td>2014</td>\n",
              "      <td>12</td>\n",
              "      <td>31</td>\n",
              "      <td>19</td>\n",
              "      <td>8.0</td>\n",
              "      <td>-23</td>\n",
              "      <td>-2.0</td>\n",
              "      <td>1034.0</td>\n",
              "      <td>NW</td>\n",
              "      <td>231.97</td>\n",
              "      <td>0</td>\n",
              "      <td>0</td>\n",
              "    </tr>\n",
              "    <tr>\n",
              "      <th>43820</th>\n",
              "      <td>43821</td>\n",
              "      <td>2014</td>\n",
              "      <td>12</td>\n",
              "      <td>31</td>\n",
              "      <td>20</td>\n",
              "      <td>10.0</td>\n",
              "      <td>-22</td>\n",
              "      <td>-3.0</td>\n",
              "      <td>1034.0</td>\n",
              "      <td>NW</td>\n",
              "      <td>237.78</td>\n",
              "      <td>0</td>\n",
              "      <td>0</td>\n",
              "    </tr>\n",
              "    <tr>\n",
              "      <th>43821</th>\n",
              "      <td>43822</td>\n",
              "      <td>2014</td>\n",
              "      <td>12</td>\n",
              "      <td>31</td>\n",
              "      <td>21</td>\n",
              "      <td>10.0</td>\n",
              "      <td>-22</td>\n",
              "      <td>-3.0</td>\n",
              "      <td>1034.0</td>\n",
              "      <td>NW</td>\n",
              "      <td>242.70</td>\n",
              "      <td>0</td>\n",
              "      <td>0</td>\n",
              "    </tr>\n",
              "    <tr>\n",
              "      <th>43822</th>\n",
              "      <td>43823</td>\n",
              "      <td>2014</td>\n",
              "      <td>12</td>\n",
              "      <td>31</td>\n",
              "      <td>22</td>\n",
              "      <td>8.0</td>\n",
              "      <td>-22</td>\n",
              "      <td>-4.0</td>\n",
              "      <td>1034.0</td>\n",
              "      <td>NW</td>\n",
              "      <td>246.72</td>\n",
              "      <td>0</td>\n",
              "      <td>0</td>\n",
              "    </tr>\n",
              "    <tr>\n",
              "      <th>43823</th>\n",
              "      <td>43824</td>\n",
              "      <td>2014</td>\n",
              "      <td>12</td>\n",
              "      <td>31</td>\n",
              "      <td>23</td>\n",
              "      <td>12.0</td>\n",
              "      <td>-21</td>\n",
              "      <td>-3.0</td>\n",
              "      <td>1034.0</td>\n",
              "      <td>NW</td>\n",
              "      <td>249.85</td>\n",
              "      <td>0</td>\n",
              "      <td>0</td>\n",
              "    </tr>\n",
              "  </tbody>\n",
              "</table>\n",
              "<p>43824 rows × 13 columns</p>\n",
              "</div>"
            ],
            "text/plain": [
              "          No  year  month  day  hour  pm2.5  ...  TEMP    PRES  cbwd     Iws  Is  Ir\n",
              "0          1  2010      1    1     0    NaN  ... -11.0  1021.0    NW    1.79   0   0\n",
              "1          2  2010      1    1     1    NaN  ... -12.0  1020.0    NW    4.92   0   0\n",
              "2          3  2010      1    1     2    NaN  ... -11.0  1019.0    NW    6.71   0   0\n",
              "3          4  2010      1    1     3    NaN  ... -14.0  1019.0    NW    9.84   0   0\n",
              "4          5  2010      1    1     4    NaN  ... -12.0  1018.0    NW   12.97   0   0\n",
              "...      ...   ...    ...  ...   ...    ...  ...   ...     ...   ...     ...  ..  ..\n",
              "43819  43820  2014     12   31    19    8.0  ...  -2.0  1034.0    NW  231.97   0   0\n",
              "43820  43821  2014     12   31    20   10.0  ...  -3.0  1034.0    NW  237.78   0   0\n",
              "43821  43822  2014     12   31    21   10.0  ...  -3.0  1034.0    NW  242.70   0   0\n",
              "43822  43823  2014     12   31    22    8.0  ...  -4.0  1034.0    NW  246.72   0   0\n",
              "43823  43824  2014     12   31    23   12.0  ...  -3.0  1034.0    NW  249.85   0   0\n",
              "\n",
              "[43824 rows x 13 columns]"
            ]
          },
          "metadata": {
            "tags": []
          },
          "execution_count": 89
        }
      ]
    },
    {
      "cell_type": "markdown",
      "metadata": {
        "id": "g3ogDc6MonVT",
        "colab_type": "text"
      },
      "source": [
        "- DEWP : 이슬점 온도\n",
        "- PRES : 기압\n",
        "- cbwd : Combined wind direction \n",
        "- IWS : Cumulated wind speed (m/s) \n",
        "- Is : Cumulated hours of snow \n",
        "- Ir : Cumulated hours of rain "
      ]
    },
    {
      "cell_type": "code",
      "metadata": {
        "id": "lHitkYqgeUyU",
        "colab_type": "code",
        "colab": {}
      },
      "source": [
        "dropped_data = data.drop(['No', 'year', 'month', 'day', 'hour'],axis=1)"
      ],
      "execution_count": 90,
      "outputs": []
    },
    {
      "cell_type": "code",
      "metadata": {
        "id": "WWUVoPy5n5sT",
        "colab_type": "code",
        "colab": {
          "base_uri": "https://localhost:8080/",
          "height": 419
        },
        "outputId": "1015cb33-1d7e-4409-d7bb-f350559f5900"
      },
      "source": [
        "dropped_data"
      ],
      "execution_count": 91,
      "outputs": [
        {
          "output_type": "execute_result",
          "data": {
            "text/html": [
              "<div>\n",
              "<style scoped>\n",
              "    .dataframe tbody tr th:only-of-type {\n",
              "        vertical-align: middle;\n",
              "    }\n",
              "\n",
              "    .dataframe tbody tr th {\n",
              "        vertical-align: top;\n",
              "    }\n",
              "\n",
              "    .dataframe thead th {\n",
              "        text-align: right;\n",
              "    }\n",
              "</style>\n",
              "<table border=\"1\" class=\"dataframe\">\n",
              "  <thead>\n",
              "    <tr style=\"text-align: right;\">\n",
              "      <th></th>\n",
              "      <th>pm2.5</th>\n",
              "      <th>DEWP</th>\n",
              "      <th>TEMP</th>\n",
              "      <th>PRES</th>\n",
              "      <th>cbwd</th>\n",
              "      <th>Iws</th>\n",
              "      <th>Is</th>\n",
              "      <th>Ir</th>\n",
              "    </tr>\n",
              "  </thead>\n",
              "  <tbody>\n",
              "    <tr>\n",
              "      <th>0</th>\n",
              "      <td>NaN</td>\n",
              "      <td>-21</td>\n",
              "      <td>-11.0</td>\n",
              "      <td>1021.0</td>\n",
              "      <td>NW</td>\n",
              "      <td>1.79</td>\n",
              "      <td>0</td>\n",
              "      <td>0</td>\n",
              "    </tr>\n",
              "    <tr>\n",
              "      <th>1</th>\n",
              "      <td>NaN</td>\n",
              "      <td>-21</td>\n",
              "      <td>-12.0</td>\n",
              "      <td>1020.0</td>\n",
              "      <td>NW</td>\n",
              "      <td>4.92</td>\n",
              "      <td>0</td>\n",
              "      <td>0</td>\n",
              "    </tr>\n",
              "    <tr>\n",
              "      <th>2</th>\n",
              "      <td>NaN</td>\n",
              "      <td>-21</td>\n",
              "      <td>-11.0</td>\n",
              "      <td>1019.0</td>\n",
              "      <td>NW</td>\n",
              "      <td>6.71</td>\n",
              "      <td>0</td>\n",
              "      <td>0</td>\n",
              "    </tr>\n",
              "    <tr>\n",
              "      <th>3</th>\n",
              "      <td>NaN</td>\n",
              "      <td>-21</td>\n",
              "      <td>-14.0</td>\n",
              "      <td>1019.0</td>\n",
              "      <td>NW</td>\n",
              "      <td>9.84</td>\n",
              "      <td>0</td>\n",
              "      <td>0</td>\n",
              "    </tr>\n",
              "    <tr>\n",
              "      <th>4</th>\n",
              "      <td>NaN</td>\n",
              "      <td>-20</td>\n",
              "      <td>-12.0</td>\n",
              "      <td>1018.0</td>\n",
              "      <td>NW</td>\n",
              "      <td>12.97</td>\n",
              "      <td>0</td>\n",
              "      <td>0</td>\n",
              "    </tr>\n",
              "    <tr>\n",
              "      <th>...</th>\n",
              "      <td>...</td>\n",
              "      <td>...</td>\n",
              "      <td>...</td>\n",
              "      <td>...</td>\n",
              "      <td>...</td>\n",
              "      <td>...</td>\n",
              "      <td>...</td>\n",
              "      <td>...</td>\n",
              "    </tr>\n",
              "    <tr>\n",
              "      <th>43819</th>\n",
              "      <td>8.0</td>\n",
              "      <td>-23</td>\n",
              "      <td>-2.0</td>\n",
              "      <td>1034.0</td>\n",
              "      <td>NW</td>\n",
              "      <td>231.97</td>\n",
              "      <td>0</td>\n",
              "      <td>0</td>\n",
              "    </tr>\n",
              "    <tr>\n",
              "      <th>43820</th>\n",
              "      <td>10.0</td>\n",
              "      <td>-22</td>\n",
              "      <td>-3.0</td>\n",
              "      <td>1034.0</td>\n",
              "      <td>NW</td>\n",
              "      <td>237.78</td>\n",
              "      <td>0</td>\n",
              "      <td>0</td>\n",
              "    </tr>\n",
              "    <tr>\n",
              "      <th>43821</th>\n",
              "      <td>10.0</td>\n",
              "      <td>-22</td>\n",
              "      <td>-3.0</td>\n",
              "      <td>1034.0</td>\n",
              "      <td>NW</td>\n",
              "      <td>242.70</td>\n",
              "      <td>0</td>\n",
              "      <td>0</td>\n",
              "    </tr>\n",
              "    <tr>\n",
              "      <th>43822</th>\n",
              "      <td>8.0</td>\n",
              "      <td>-22</td>\n",
              "      <td>-4.0</td>\n",
              "      <td>1034.0</td>\n",
              "      <td>NW</td>\n",
              "      <td>246.72</td>\n",
              "      <td>0</td>\n",
              "      <td>0</td>\n",
              "    </tr>\n",
              "    <tr>\n",
              "      <th>43823</th>\n",
              "      <td>12.0</td>\n",
              "      <td>-21</td>\n",
              "      <td>-3.0</td>\n",
              "      <td>1034.0</td>\n",
              "      <td>NW</td>\n",
              "      <td>249.85</td>\n",
              "      <td>0</td>\n",
              "      <td>0</td>\n",
              "    </tr>\n",
              "  </tbody>\n",
              "</table>\n",
              "<p>43824 rows × 8 columns</p>\n",
              "</div>"
            ],
            "text/plain": [
              "       pm2.5  DEWP  TEMP    PRES cbwd     Iws  Is  Ir\n",
              "0        NaN   -21 -11.0  1021.0   NW    1.79   0   0\n",
              "1        NaN   -21 -12.0  1020.0   NW    4.92   0   0\n",
              "2        NaN   -21 -11.0  1019.0   NW    6.71   0   0\n",
              "3        NaN   -21 -14.0  1019.0   NW    9.84   0   0\n",
              "4        NaN   -20 -12.0  1018.0   NW   12.97   0   0\n",
              "...      ...   ...   ...     ...  ...     ...  ..  ..\n",
              "43819    8.0   -23  -2.0  1034.0   NW  231.97   0   0\n",
              "43820   10.0   -22  -3.0  1034.0   NW  237.78   0   0\n",
              "43821   10.0   -22  -3.0  1034.0   NW  242.70   0   0\n",
              "43822    8.0   -22  -4.0  1034.0   NW  246.72   0   0\n",
              "43823   12.0   -21  -3.0  1034.0   NW  249.85   0   0\n",
              "\n",
              "[43824 rows x 8 columns]"
            ]
          },
          "metadata": {
            "tags": []
          },
          "execution_count": 91
        }
      ]
    },
    {
      "cell_type": "code",
      "metadata": {
        "id": "anvsMUMfoOpk",
        "colab_type": "code",
        "colab": {}
      },
      "source": [
        "pm25 = dropped_data.pop('pm2.5')"
      ],
      "execution_count": 92,
      "outputs": []
    },
    {
      "cell_type": "code",
      "metadata": {
        "id": "3zle3lG8oXzb",
        "colab_type": "code",
        "colab": {
          "base_uri": "https://localhost:8080/",
          "height": 419
        },
        "outputId": "42633fee-9cb3-429d-8a49-4913db5c6ff5"
      },
      "source": [
        "dropped_data"
      ],
      "execution_count": 93,
      "outputs": [
        {
          "output_type": "execute_result",
          "data": {
            "text/html": [
              "<div>\n",
              "<style scoped>\n",
              "    .dataframe tbody tr th:only-of-type {\n",
              "        vertical-align: middle;\n",
              "    }\n",
              "\n",
              "    .dataframe tbody tr th {\n",
              "        vertical-align: top;\n",
              "    }\n",
              "\n",
              "    .dataframe thead th {\n",
              "        text-align: right;\n",
              "    }\n",
              "</style>\n",
              "<table border=\"1\" class=\"dataframe\">\n",
              "  <thead>\n",
              "    <tr style=\"text-align: right;\">\n",
              "      <th></th>\n",
              "      <th>DEWP</th>\n",
              "      <th>TEMP</th>\n",
              "      <th>PRES</th>\n",
              "      <th>cbwd</th>\n",
              "      <th>Iws</th>\n",
              "      <th>Is</th>\n",
              "      <th>Ir</th>\n",
              "    </tr>\n",
              "  </thead>\n",
              "  <tbody>\n",
              "    <tr>\n",
              "      <th>0</th>\n",
              "      <td>-21</td>\n",
              "      <td>-11.0</td>\n",
              "      <td>1021.0</td>\n",
              "      <td>NW</td>\n",
              "      <td>1.79</td>\n",
              "      <td>0</td>\n",
              "      <td>0</td>\n",
              "    </tr>\n",
              "    <tr>\n",
              "      <th>1</th>\n",
              "      <td>-21</td>\n",
              "      <td>-12.0</td>\n",
              "      <td>1020.0</td>\n",
              "      <td>NW</td>\n",
              "      <td>4.92</td>\n",
              "      <td>0</td>\n",
              "      <td>0</td>\n",
              "    </tr>\n",
              "    <tr>\n",
              "      <th>2</th>\n",
              "      <td>-21</td>\n",
              "      <td>-11.0</td>\n",
              "      <td>1019.0</td>\n",
              "      <td>NW</td>\n",
              "      <td>6.71</td>\n",
              "      <td>0</td>\n",
              "      <td>0</td>\n",
              "    </tr>\n",
              "    <tr>\n",
              "      <th>3</th>\n",
              "      <td>-21</td>\n",
              "      <td>-14.0</td>\n",
              "      <td>1019.0</td>\n",
              "      <td>NW</td>\n",
              "      <td>9.84</td>\n",
              "      <td>0</td>\n",
              "      <td>0</td>\n",
              "    </tr>\n",
              "    <tr>\n",
              "      <th>4</th>\n",
              "      <td>-20</td>\n",
              "      <td>-12.0</td>\n",
              "      <td>1018.0</td>\n",
              "      <td>NW</td>\n",
              "      <td>12.97</td>\n",
              "      <td>0</td>\n",
              "      <td>0</td>\n",
              "    </tr>\n",
              "    <tr>\n",
              "      <th>...</th>\n",
              "      <td>...</td>\n",
              "      <td>...</td>\n",
              "      <td>...</td>\n",
              "      <td>...</td>\n",
              "      <td>...</td>\n",
              "      <td>...</td>\n",
              "      <td>...</td>\n",
              "    </tr>\n",
              "    <tr>\n",
              "      <th>43819</th>\n",
              "      <td>-23</td>\n",
              "      <td>-2.0</td>\n",
              "      <td>1034.0</td>\n",
              "      <td>NW</td>\n",
              "      <td>231.97</td>\n",
              "      <td>0</td>\n",
              "      <td>0</td>\n",
              "    </tr>\n",
              "    <tr>\n",
              "      <th>43820</th>\n",
              "      <td>-22</td>\n",
              "      <td>-3.0</td>\n",
              "      <td>1034.0</td>\n",
              "      <td>NW</td>\n",
              "      <td>237.78</td>\n",
              "      <td>0</td>\n",
              "      <td>0</td>\n",
              "    </tr>\n",
              "    <tr>\n",
              "      <th>43821</th>\n",
              "      <td>-22</td>\n",
              "      <td>-3.0</td>\n",
              "      <td>1034.0</td>\n",
              "      <td>NW</td>\n",
              "      <td>242.70</td>\n",
              "      <td>0</td>\n",
              "      <td>0</td>\n",
              "    </tr>\n",
              "    <tr>\n",
              "      <th>43822</th>\n",
              "      <td>-22</td>\n",
              "      <td>-4.0</td>\n",
              "      <td>1034.0</td>\n",
              "      <td>NW</td>\n",
              "      <td>246.72</td>\n",
              "      <td>0</td>\n",
              "      <td>0</td>\n",
              "    </tr>\n",
              "    <tr>\n",
              "      <th>43823</th>\n",
              "      <td>-21</td>\n",
              "      <td>-3.0</td>\n",
              "      <td>1034.0</td>\n",
              "      <td>NW</td>\n",
              "      <td>249.85</td>\n",
              "      <td>0</td>\n",
              "      <td>0</td>\n",
              "    </tr>\n",
              "  </tbody>\n",
              "</table>\n",
              "<p>43824 rows × 7 columns</p>\n",
              "</div>"
            ],
            "text/plain": [
              "       DEWP  TEMP    PRES cbwd     Iws  Is  Ir\n",
              "0       -21 -11.0  1021.0   NW    1.79   0   0\n",
              "1       -21 -12.0  1020.0   NW    4.92   0   0\n",
              "2       -21 -11.0  1019.0   NW    6.71   0   0\n",
              "3       -21 -14.0  1019.0   NW    9.84   0   0\n",
              "4       -20 -12.0  1018.0   NW   12.97   0   0\n",
              "...     ...   ...     ...  ...     ...  ..  ..\n",
              "43819   -23  -2.0  1034.0   NW  231.97   0   0\n",
              "43820   -22  -3.0  1034.0   NW  237.78   0   0\n",
              "43821   -22  -3.0  1034.0   NW  242.70   0   0\n",
              "43822   -22  -4.0  1034.0   NW  246.72   0   0\n",
              "43823   -21  -3.0  1034.0   NW  249.85   0   0\n",
              "\n",
              "[43824 rows x 7 columns]"
            ]
          },
          "metadata": {
            "tags": []
          },
          "execution_count": 93
        }
      ]
    },
    {
      "cell_type": "code",
      "metadata": {
        "id": "Ylviq395rc9K",
        "colab_type": "code",
        "colab": {
          "base_uri": "https://localhost:8080/",
          "height": 281
        },
        "outputId": "3c501d59-f72e-4964-ebc1-0cdc20a9df3c"
      },
      "source": [
        "import matplotlib.pyplot as plt\n",
        "\n",
        "plt.title(\"PM 2.5 Data\")\n",
        "plt.plot(pm25)\n",
        "plt.show()"
      ],
      "execution_count": 94,
      "outputs": [
        {
          "output_type": "display_data",
          "data": {
            "image/png": "[encoded data removed]",
            "text/plain": [
              "<Figure size 432x288 with 1 Axes>"
            ]
          },
          "metadata": {
            "tags": [],
            "needs_background": "light"
          }
        }
      ]
    },
    {
      "cell_type": "markdown",
      "metadata": {
        "id": "5omjiXlO_Cml",
        "colab_type": "text"
      },
      "source": [
        "# NaN Data fix\n",
        "결측치 값을 확인하여 제거합니다.\n",
        "[이곳](https://rfriend.tistory.com/262?category=675917) 을 참고했습니다."
      ]
    },
    {
      "cell_type": "code",
      "metadata": {
        "id": "q9Ub_9AtA0E7",
        "colab_type": "code",
        "colab": {
          "base_uri": "https://localhost:8080/",
          "height": 34
        },
        "outputId": "793ae038-cbe2-44a2-d3d4-cd897214c60b"
      },
      "source": [
        "pm25.isnull().sum()"
      ],
      "execution_count": 96,
      "outputs": [
        {
          "output_type": "execute_result",
          "data": {
            "text/plain": [
              "0"
            ]
          },
          "metadata": {
            "tags": []
          },
          "execution_count": 96
        }
      ]
    },
    {
      "cell_type": "code",
      "metadata": {
        "id": "heMA10FODAn6",
        "colab_type": "code",
        "colab": {}
      },
      "source": [
        "pm25 = pm25.fillna(pm25.mean())"
      ],
      "execution_count": 95,
      "outputs": []
    },
    {
      "cell_type": "code",
      "metadata": {
        "id": "dpCLMjSXGOWg",
        "colab_type": "code",
        "colab": {
          "base_uri": "https://localhost:8080/",
          "height": 164
        },
        "outputId": "5642e01b-59f4-4745-93dc-c00c549158bb"
      },
      "source": [
        "pm25 = pm25.dropna()"
      ],
      "execution_count": 67,
      "outputs": [
        {
          "output_type": "error",
          "ename": "AttributeError",
          "evalue": "ignored",
          "traceback": [
            "\u001b[0;31m---------------------------------------------------------------------------\u001b[0m",
            "\u001b[0;31mAttributeError\u001b[0m                            Traceback (most recent call last)",
            "\u001b[0;32m<ipython-input-67-a4f120df3713>\u001b[0m in \u001b[0;36m<module>\u001b[0;34m()\u001b[0m\n\u001b[0;32m----> 1\u001b[0;31m \u001b[0mpm25\u001b[0m \u001b[0;34m=\u001b[0m \u001b[0mpm25\u001b[0m\u001b[0;34m.\u001b[0m\u001b[0mdropna\u001b[0m\u001b[0;34m(\u001b[0m\u001b[0;34m)\u001b[0m\u001b[0;34m\u001b[0m\u001b[0;34m\u001b[0m\u001b[0m\n\u001b[0m",
            "\u001b[0;31mAttributeError\u001b[0m: 'function' object has no attribute 'dropna'"
          ]
        }
      ]
    },
    {
      "cell_type": "markdown",
      "metadata": {
        "id": "QdXrpwMLeKhy",
        "colab_type": "text"
      },
      "source": [
        "# Make Time Series\n",
        "\n",
        "데이터를 주어진 타임별 시계열 데이터로 전환합니다.\n",
        "\n",
        "print_data(origin, xs, ys, time) 함수를 통해 임의의 시간에서 결과값을 확인해 봅니다."
      ]
    },
    {
      "cell_type": "code",
      "metadata": {
        "id": "lWe0w6hAfqyO",
        "colab_type": "code",
        "colab": {}
      },
      "source": [
        "import numpy as np"
      ],
      "execution_count": 11,
      "outputs": []
    },
    {
      "cell_type": "code",
      "metadata": {
        "id": "tU2hWSb4gvWx",
        "colab_type": "code",
        "colab": {}
      },
      "source": [
        "def print_data(origin, xs, ys, time):\n",
        "  import random\n",
        "  cnt = random.randint(0, len(data))\n",
        "\n",
        "  print(f\"The {cnt} number of origin is {origin[cnt]}\\n\")\n",
        "  print(f\"The {cnt} + {time} number of origin is {origin[cnt + time]}\\n\")\n",
        "  print(f\"The {cnt} number of xs is {xs[cnt]}\\n\")\n",
        "  print(f\"The next of ys is {ys[cnt]}\\n\")"
      ],
      "execution_count": 28,
      "outputs": []
    },
    {
      "cell_type": "code",
      "metadata": {
        "id": "QiiwKjffaluZ",
        "colab_type": "code",
        "colab": {}
      },
      "source": [
        "def make_timeSerise(data, time):\n",
        "  input = np.array([])\n",
        "  output = np.array([])\n",
        "\n",
        "  for t in range(0, len(data) - time -1):\n",
        "\n",
        "    if t == 0:\n",
        "      input = np.append(input, data[:time])\n",
        "      output = np.append(output, data[time])\n",
        "    else:\n",
        "      input = np.vstack((input, data[t: t+time]))\n",
        "      output = np.vstack((output, data[t + time]))\n",
        "\n",
        "  print(\"----------------Correct Check----------------\")\n",
        "  print(f\"xs.shape is {input.shape}\\n\")\n",
        "  print(f\"ys.shape is {output.shape}\\n\")\n",
        "  print_data(data, input, output, time)\n",
        "  return input, output"
      ],
      "execution_count": 29,
      "outputs": []
    },
    {
      "cell_type": "code",
      "metadata": {
        "id": "KGU0gYnCfpFr",
        "colab_type": "code",
        "colab": {
          "base_uri": "https://localhost:8080/",
          "height": 255
        },
        "outputId": "b85f6be6-1288-4d12-f8db-e8d241dbeb3c"
      },
      "source": [
        "xs, ys = make_timeSerise(pm25, 15)"
      ],
      "execution_count": 98,
      "outputs": [
        {
          "output_type": "stream",
          "text": [
            "----------------Correct Check----------------\n",
            "xs.shape is (43808, 15)\n",
            "\n",
            "ys.shape is (43808, 1)\n",
            "\n",
            "The 5338 number of origin is 166.0\n",
            "\n",
            "The 5338 + 15 number of origin is 81.0\n",
            "\n",
            "The 5338 number of xs is [166. 223. 181. 128. 117.  97.  96.  79.  61.  66.  69.  76.  81.  70.\n",
            "  83.]\n",
            "\n",
            "The next of ys is [81.]\n",
            "\n"
          ],
          "name": "stdout"
        }
      ]
    },
    {
      "cell_type": "code",
      "metadata": {
        "id": "DlWCTtpvAk8M",
        "colab_type": "code",
        "colab": {
          "base_uri": "https://localhost:8080/",
          "height": 170
        },
        "outputId": "5d9fad64-d337-4e49-f1da-8b418aecb0f2"
      },
      "source": [
        "print_data(pm25, xs, ys, 15) # for debugging"
      ],
      "execution_count": 30,
      "outputs": [
        {
          "output_type": "stream",
          "text": [
            "The 17081 number of origin is 238.0\n",
            "\n",
            "The 17081 + 15 number of origin is 11.0\n",
            "\n",
            "The 17081 number of xs is [238. 247. 279. 304. 320. 282.  56.  16.  15.  14.  14.  13.  10.  10.\n",
            "  11.]\n",
            "\n",
            "The next of ys is [11.]\n",
            "\n"
          ],
          "name": "stdout"
        }
      ]
    },
    {
      "cell_type": "markdown",
      "metadata": {
        "id": "U9cLmTVKpw8_",
        "colab_type": "text"
      },
      "source": [
        "## Using Keras Function\n",
        "케라스의 Time Series Generator 을 사용해 제너레이터를 생성함"
      ]
    },
    {
      "cell_type": "code",
      "metadata": {
        "id": "dGxdMaSojMAl",
        "colab_type": "code",
        "colab": {}
      },
      "source": [
        "import tensorflow as tf\n",
        "import tensorflow.keras as K"
      ],
      "execution_count": 118,
      "outputs": []
    },
    {
      "cell_type": "code",
      "metadata": {
        "id": "4s5DUf9ljOX0",
        "colab_type": "code",
        "colab": {}
      },
      "source": [
        "input_target = pm25[:-15]\n",
        "output_target = pm25[15:]"
      ],
      "execution_count": 152,
      "outputs": []
    },
    {
      "cell_type": "code",
      "metadata": {
        "id": "bceDP_xAjXCb",
        "colab_type": "code",
        "colab": {}
      },
      "source": [
        "data_gen = K.preprocessing.sequence.TimeseriesGenerator(input_target, output_target, length=15, shuffle=True)"
      ],
      "execution_count": 153,
      "outputs": []
    },
    {
      "cell_type": "code",
      "metadata": {
        "id": "JtBx-4I_jgfG",
        "colab_type": "code",
        "colab": {}
      },
      "source": [
        "x, y = data_gen[0]"
      ],
      "execution_count": 130,
      "outputs": []
    },
    {
      "cell_type": "code",
      "metadata": {
        "id": "h2E05k_7jq-0",
        "colab_type": "code",
        "colab": {
          "base_uri": "https://localhost:8080/",
          "height": 34
        },
        "outputId": "e664a791-6a91-4b90-ad6b-dd5e71e7d2f7"
      },
      "source": [
        "y.shape"
      ],
      "execution_count": 180,
      "outputs": [
        {
          "output_type": "execute_result",
          "data": {
            "text/plain": [
              "(128, 1)"
            ]
          },
          "metadata": {
            "tags": []
          },
          "execution_count": 180
        }
      ]
    },
    {
      "cell_type": "markdown",
      "metadata": {
        "id": "huaIxXqZmdvZ",
        "colab_type": "text"
      },
      "source": [
        "## Make test_dataset\n",
        "검증 데이터셋을 만듭니다."
      ]
    },
    {
      "cell_type": "code",
      "metadata": {
        "id": "KTAfnN-nmY0w",
        "colab_type": "code",
        "colab": {}
      },
      "source": [
        "def make_test_data(xs, ys, rate):\n",
        "  arrlen = int(len(xs) * (rate))\n",
        "  np.random.shuffle(xs)\n",
        "  np.random.shuffle(ys)\n",
        "\n",
        "  xs_train, xs_val, xs_test = xs[:-1 * (arrlen * 2)], xs[-1 * (arrlen * 2) : -1 * (arrlen)], xs[-1 * (arrlen):]\n",
        "  ys_train, ys_val, ys_test = ys[:-1 * (arrlen * 2)], ys[-1 * (arrlen * 2) : -1 * (arrlen)], ys[-1 * (arrlen):]\n",
        "\n",
        "  # xs_train = xs_train.reshape(-1, 1, 15)\n",
        "  # xs_val = xs_val.reshape(-1, 1, 15)\n",
        "  # xs_test = xs_test.reshape(-1, 1, 15)\n",
        "  # ys_train = ys_train.reshape(-1, 1, 1)\n",
        "  # ys_val = ys_val.reshape(-1, 1, 1)\n",
        "  # ys_test = ys_test.reshape(-1, 1, 1)\n",
        "\n",
        "  return (xs_train, ys_train), (xs_val, ys_val), (xs_test, ys_test)"
      ],
      "execution_count": 192,
      "outputs": []
    },
    {
      "cell_type": "code",
      "metadata": {
        "id": "EdOspnRZnGox",
        "colab_type": "code",
        "colab": {}
      },
      "source": [
        "(xs_train, ys_train), (xs_val, ys_val), (xs_test, ys_test) = make_test_data(xs, ys, 0.1)"
      ],
      "execution_count": 193,
      "outputs": []
    },
    {
      "cell_type": "code",
      "metadata": {
        "id": "dCgvmBqWuwcA",
        "colab_type": "code",
        "colab": {
          "base_uri": "https://localhost:8080/",
          "height": 34
        },
        "outputId": "77fae36b-6b12-4fb8-d3d7-8ac7f5539e92"
      },
      "source": [
        "xs_train.shape"
      ],
      "execution_count": 194,
      "outputs": [
        {
          "output_type": "execute_result",
          "data": {
            "text/plain": [
              "(35048, 15)"
            ]
          },
          "metadata": {
            "tags": []
          },
          "execution_count": 194
        }
      ]
    },
    {
      "cell_type": "markdown",
      "metadata": {
        "id": "YesypgkykVZ3",
        "colab_type": "text"
      },
      "source": [
        "# Prediction(basic LSTM)\n",
        "기본적인 LSTM모델을 활용해 예측해 봅니다."
      ]
    },
    {
      "cell_type": "code",
      "metadata": {
        "id": "qrm2zfnsmQOi",
        "colab_type": "code",
        "colab": {}
      },
      "source": [
        "import tensorflow as tf\n",
        "import tensorflow.keras as K"
      ],
      "execution_count": 41,
      "outputs": []
    },
    {
      "cell_type": "code",
      "metadata": {
        "id": "THhFKzadpVCH",
        "colab_type": "code",
        "colab": {}
      },
      "source": [
        "model = K.Sequential()\n",
        "model.add(K.layers.BatchNormalization(input_shape=(x.shape[1],)))\n",
        "model.add(K.layers.Reshape((1,15)))\n",
        "model.add(K.layers.LSTM(216, return_sequences=True))\n",
        "model.add(K.layers.BatchNormalization())\n",
        "model.add(K.layers.Dense(128, activation=\"relu\"))\n",
        "model.add(K.layers.BatchNormalization())\n",
        "model.add(K.layers.Dense(1, activation=\"sigmoid\"))"
      ],
      "execution_count": 199,
      "outputs": []
    },
    {
      "cell_type": "code",
      "metadata": {
        "id": "wG7P3rn8snvM",
        "colab_type": "code",
        "colab": {
          "base_uri": "https://localhost:8080/",
          "height": 391
        },
        "outputId": "7753e4ca-7243-4d03-e9bf-571d74f44eca"
      },
      "source": [
        "model.summary()"
      ],
      "execution_count": 200,
      "outputs": [
        {
          "output_type": "stream",
          "text": [
            "Model: \"sequential_14\"\n",
            "_________________________________________________________________\n",
            "Layer (type)                 Output Shape              Param #   \n",
            "=================================================================\n",
            "batch_normalization_35 (Batc (None, 15)                60        \n",
            "_________________________________________________________________\n",
            "reshape_3 (Reshape)          (None, 1, 15)             0         \n",
            "_________________________________________________________________\n",
            "lstm_9 (LSTM)                (None, 1, 216)            200448    \n",
            "_________________________________________________________________\n",
            "batch_normalization_36 (Batc (None, 1, 216)            864       \n",
            "_________________________________________________________________\n",
            "dense_29 (Dense)             (None, 1, 128)            27776     \n",
            "_________________________________________________________________\n",
            "batch_normalization_37 (Batc (None, 1, 128)            512       \n",
            "_________________________________________________________________\n",
            "dense_30 (Dense)             (None, 1, 1)              129       \n",
            "=================================================================\n",
            "Total params: 229,789\n",
            "Trainable params: 229,071\n",
            "Non-trainable params: 718\n",
            "_________________________________________________________________\n"
          ],
          "name": "stdout"
        }
      ]
    },
    {
      "cell_type": "code",
      "metadata": {
        "id": "W7bWU5Yvsrm3",
        "colab_type": "code",
        "colab": {}
      },
      "source": [
        "model.compile(optimizer=\"adam\", loss=K.losses.CategoricalCrossentropy())\n",
        "# model.compile(optimizer=\"adam\", loss=\"MSE\")"
      ],
      "execution_count": 201,
      "outputs": []
    },
    {
      "cell_type": "code",
      "metadata": {
        "id": "POYVsY4kuc9p",
        "colab_type": "code",
        "colab": {
          "base_uri": "https://localhost:8080/",
          "height": 153
        },
        "outputId": "7a2c9c9b-30e8-41dc-862f-c78bad379410"
      },
      "source": [
        "model.fit(x=data_gen, epochs=10)\n",
        "# model.fit(x=xs_train, y=ys_train, epochs=50, batch_size=128, validation_data=(xs_val, ys_val))"
      ],
      "execution_count": null,
      "outputs": [
        {
          "output_type": "stream",
          "text": [
            "Epoch 1/10\n",
            "343/343 [==============================] - 10s 28ms/step - loss: 17671.3301\n",
            "Epoch 2/10\n",
            "343/343 [==============================] - 9s 28ms/step - loss: 17338.7988\n",
            "Epoch 3/10\n",
            "343/343 [==============================] - 9s 27ms/step - loss: 17546.9336\n",
            "Epoch 4/10\n",
            " 18/343 [>.............................] - ETA: 8s - loss: 17146.9219"
          ],
          "name": "stdout"
        }
      ]
    },
    {
      "cell_type": "code",
      "metadata": {
        "id": "V7IrH52zun1K",
        "colab_type": "code",
        "colab": {}
      },
      "source": [
        ""
      ],
      "execution_count": null,
      "outputs": []
    }
  ]
}