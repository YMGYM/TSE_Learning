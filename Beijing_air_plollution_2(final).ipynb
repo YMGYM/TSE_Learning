{
  "nbformat": 4,
  "nbformat_minor": 0,
  "metadata": {
    "colab": {
      "name": "Beijing_air_plollution_2(final).ipynb의 사본",
      "provenance": [],
      "collapsed_sections": [],
      "toc_visible": true,
      "mount_file_id": "1y-pdxy-P2Z8wSWKW-VVEv3k7QFrcbl_H",
      "authorship_tag": "ABX9TyMSgD1yIa8QPuD1TU5Hz9rQ",
      "include_colab_link": true
    },
    "kernelspec": {
      "name": "python3",
      "display_name": "Python 3"
    },
    "accelerator": "GPU"
  },
  "cells": [
    {
      "cell_type": "markdown",
      "metadata": {
        "id": "view-in-github",
        "colab_type": "text"
      },
      "source": [
        "<a href=\"https://colab.research.google.com/github/YMGYM/TSE_Learning/blob/master/Beijing_air_plollution_2(final).ipynb\" target=\"_parent\"><img src=\"https://colab.research.google.com/assets/colab-badge.svg\" alt=\"Open In Colab\"/></a>"
      ]
    },
    {
      "cell_type": "markdown",
      "metadata": {
        "id": "hPythiWfQCnX",
        "colab_type": "text"
      },
      "source": [
        "# Introduction\n",
        "\n",
        "이 파일은 황철현, 신강욱의\n",
        "`미세먼지 예측 성능 개선을 위한 CNN-LSTM 결합 방법`\n",
        "논문의 구현 연습 파일입니다.\n",
        "\n",
        "데이터셋은 [Beijing PM2.5 데이터셋](https://www.kaggle.com/djhavera/beijing-pm25-data-data-set)\n",
        "을 사용했습니다."
      ]
    },
    {
      "cell_type": "markdown",
      "metadata": {
        "id": "hMnquIS4QfaO",
        "colab_type": "text"
      },
      "source": [
        "# Import All"
      ]
    },
    {
      "cell_type": "code",
      "metadata": {
        "id": "SJ9ZCMavQg_n",
        "colab_type": "code",
        "colab": {}
      },
      "source": [
        "import pandas as pd\n",
        "import numpy as np\n",
        "import tensorflow as tf\n",
        "import tensorflow.keras as K\n",
        "import matplotlib.pyplot as plt\n",
        "from sklearn.preprocessing import MinMaxScaler"
      ],
      "execution_count": null,
      "outputs": []
    },
    {
      "cell_type": "markdown",
      "metadata": {
        "id": "miGdslSrQXBM",
        "colab_type": "text"
      },
      "source": [
        "# Load Data"
      ]
    },
    {
      "cell_type": "code",
      "metadata": {
        "id": "8xY3TOYzQbgv",
        "colab_type": "code",
        "colab": {
          "base_uri": "https://localhost:8080/",
          "height": 51
        },
        "outputId": "0b05c48a-f19a-420f-e95a-6f014c464078"
      },
      "source": [
        "! unzip /content/drive/My\\ Drive/Datasets/beijing_air.zip -d data"
      ],
      "execution_count": null,
      "outputs": [
        {
          "output_type": "stream",
          "text": [
            "Archive:  /content/drive/My Drive/Datasets/beijing_air.zip\n",
            "  inflating: data/PRSA_data_2010.1.1-2014.12.31.csv  \n"
          ],
          "name": "stdout"
        }
      ]
    },
    {
      "cell_type": "code",
      "metadata": {
        "id": "6R5W7oRhQ6Ow",
        "colab_type": "code",
        "colab": {}
      },
      "source": [
        "def get_data():\n",
        "  all_data = pd.read_csv('/content/data/PRSA_data_2010.1.1-2014.12.31.csv') # 전체 데이터\n",
        "  dropped_data = all_data.drop(['No', 'year', 'month', 'day', 'hour'],axis=1) # 필요 없는 데이터는 버림\n",
        "  pm25 = dropped_data.pop('pm2.5') # 미세먼지 데이터 확인\n",
        "  pm25 = pm25.fillna(method='pad')\n",
        "  \n",
        "  return pm25, dropped_data"
      ],
      "execution_count": null,
      "outputs": []
    },
    {
      "cell_type": "markdown",
      "metadata": {
        "id": "I5dnAMuOR1N0",
        "colab_type": "text"
      },
      "source": [
        "# Make Normalize Dataset"
      ]
    },
    {
      "cell_type": "code",
      "metadata": {
        "id": "UhbeIxNDR1hX",
        "colab_type": "code",
        "colab": {}
      },
      "source": [
        "class PmScaler():\n",
        "  def __init__(self, pm25):\n",
        "    self.scaler = MinMaxScaler()\n",
        "    self.pm25 = pm25.fillna(1e-8, limit=1)\n",
        "    self.pm25 = self.pm25.fillna(method=\"pad\")\n",
        "    \n",
        "  def make_norlized_dataset(self, x = None, data_len=2): \n",
        "    if x is None:\n",
        "      x = self.pm25[data_len-1:]\n",
        "    if isinstance(x, type(np.array([]))) == False:\n",
        "      reshaped = x.to_numpy().reshape(-1,1)\n",
        "    else:\n",
        "      reshaped = x.reshape(-1,1)\n",
        "    self.scaled_data = self.scaler.fit_transform(reshaped)\n",
        "\n",
        "    return self.scaled_data\n",
        "  def slice_data(self, rate = 0.1, x = None):\n",
        "    if x is None:\n",
        "      x = self.scaled_data\n",
        "\n",
        "    arrlen = int(len(x) * (rate) + 1)\n",
        "    train, val, test = x[:-1 * (arrlen * 2)], x[-1 * (arrlen * 2) : -1 * (arrlen)], x[-1 * (arrlen):]\n",
        "\n",
        "    return train[1:], val[1:], test[1:]\n",
        "  \n",
        "  def invert_scale(self, x):\n",
        "    inverse = self.scaler.inverse_transform(x)\n",
        "    return inverse"
      ],
      "execution_count": 49,
      "outputs": []
    },
    {
      "cell_type": "code",
      "metadata": {
        "id": "Ri1ktmAkpauR",
        "colab_type": "code",
        "colab": {}
      },
      "source": [
        "class ProxyDataScaler():\n",
        "  def __init__(self, data):\n",
        "    self.table = data\n",
        "    self.scaler = MinMaxScaler()\n",
        "    \n",
        "  def change_cbwd_data(self):\n",
        "    mapping = {}\n",
        "    cols = self.table[\"cbwd\"].value_counts().index\n",
        "\n",
        "    for i, col in enumerate(cols):\n",
        "      mapping[col] = i # mapping = {\"SE\" : 0, \"NW\": 1, \"cv\": 2, \"NE\":3}\n",
        "    self.table = self.table.replace({'cbwd' : mapping})\n",
        "    print(\"cbwd data changed to number : {SE : 0, NW: 1, cv: 2, NE:3} \")\n",
        "\n",
        "  def make_normalize_data(self):\n",
        "    self.norm_data = self.scaler.fit_transform(self.table)\n",
        "    return self.norm_data\n",
        "\n",
        "  def slice_proxy_data(self, time):\n",
        "    col_cnt = len(self.table.columns)\n",
        "    if (self.norm_data is not None): # 정규화된 데이터가 있는지 확인\n",
        "      print(\"norm_data detected\")\n",
        "\n",
        "      if isinstance(self.norm_data, type(np.array([]))) == False: # 데이터를 numpy 형식으로 변환\n",
        "        data = self.norm_data.to_numpy().astype(\"float32\")\n",
        "      else:\n",
        "        data = self.norm_data.astype(\"float32\")\n",
        "\n",
        "    else:\n",
        "      print(\"norm_data not detected\")\n",
        "      data = self.table.to_numpy().astype(\"float32\")\n",
        "\n",
        "    self.sliced_data = np.zeros(shape=(1,time,col_cnt))\n",
        "\n",
        "    for i in range((len(data)-time) + 1):\n",
        "      if i == 0:\n",
        "        self.sliced_data = data[:i+time].reshape(1, time,-1)\n",
        "      else:\n",
        "        self.sliced_data = np.vstack((self.sliced_data, data[i:i+time].reshape(1,time,-1)))\n",
        "        \n",
        "    return self.sliced_data\n",
        "\n",
        "  def split_data(self, data = None, rate = 0.1):\n",
        "    if data is None:\n",
        "      arrlen = int(len(self.sliced_data) * (rate) + 1)\n",
        "      data = self.sliced_data\n",
        "    else:\n",
        "      arrlen = int(len(data) * rate + 1)\n",
        "      data = data\n",
        "\n",
        "    train, val, test = data[:-1 * (arrlen * 2)], data[-1 * (arrlen * 2) : -1 * (arrlen)], data[-1 * (arrlen):]\n",
        "\n",
        "    return train, val, test"
      ],
      "execution_count": 50,
      "outputs": []
    },
    {
      "cell_type": "markdown",
      "metadata": {
        "id": "COffyY3ow6By",
        "colab_type": "text"
      },
      "source": [
        "# New LSTM Data generator"
      ]
    },
    {
      "cell_type": "code",
      "metadata": {
        "id": "weEk_Ih-w89V",
        "colab_type": "code",
        "colab": {}
      },
      "source": [
        "class LSTMInputGenerator(K.utils.Sequence):\n",
        "  def __init__(self, lstm_x, lstm_y, data_len, cnn_output, batch_size=1):\n",
        "    self.lstm_data_gen = K.preprocessing.sequence.TimeseriesGenerator(lstm_x, lstm_x, batch_size=batch_size, length=data_len, shuffle=False)\n",
        "    self.cnn_output = cnn_output[data_len-1:]\n",
        "    print(f\"lstm_data_gen len : {self.lstm_data_gen.__len__()}, cnn_output len : {len(self.cnn_output)}\")\n",
        "    self.batch_size = batch_size\n",
        "    \n",
        "  def __getitem__(self, index):\n",
        "    lstm_x, lstm_y = self.lstm_data_gen[index]\n",
        "    stack_data = self.cnn_output[index*self.batch_size : (index + 1)*self.batch_size].reshape(-1,1,1)\n",
        "    # print(f\"index : {index} / lstm_x shape : {lstm_x.shape} / stack_data.shape: {stack_data.shape}\")\n",
        "    return_x = np.concatenate((lstm_x, stack_data),axis=1)\n",
        "    return return_x, lstm_y\n",
        "    \n",
        "  def __len__(self):\n",
        "    return self.lstm_data_gen.__len__()"
      ],
      "execution_count": 51,
      "outputs": []
    },
    {
      "cell_type": "markdown",
      "metadata": {
        "id": "1iO5V6OhRZNJ",
        "colab_type": "text"
      },
      "source": [
        "# Entire Model"
      ]
    },
    {
      "cell_type": "code",
      "metadata": {
        "id": "arSPbMdqRepE",
        "colab_type": "code",
        "colab": {}
      },
      "source": [
        "class EntireModel():\n",
        "  def __init__(self, pm25, proxydata):\n",
        "    # -----------scaler 클래스 생성 -------------------\n",
        "    self.pm25 = pm25.fillna(1e-8, limit=1)\n",
        "    self.pm25 = self.pm25.fillna(method=\"pad\")\n",
        "    print(f\"pm25 length : {len(self.pm25)}\" )\n",
        "    self.proxydata = proxydata\n",
        "    print(f\"proxydata length : {len(self.proxydata)}\" )\n",
        "    self.pmScaler = PmScaler(pm25)\n",
        "    self.proxyScaler = ProxyDataScaler(proxydata)\n",
        "    \n",
        "    # ---------- train 용 callbacks -----------\n",
        "    self.lstm_callbacks = [K.callbacks.TensorBoard(log_dir='lstm_logs')]\n",
        "    self.cnn_callbacks = [K.callbacks.TensorBoard(log_dir='cnn_logs')]\n",
        "\n",
        "  def make_proxy_data_generator(self, data_len = 2):\n",
        "    # ---------- proxy 데이터 전처리 -----------\n",
        "    self.proxyScaler.change_cbwd_data() # 문자 데이터를 숫자 범주로\n",
        "    norm_data = self.proxyScaler.make_normalize_data() # 데이터 정규화\n",
        "    self.proxyScaler.slice_proxy_data(data_len) # 데이터 길이별로 자름\n",
        "    print(f\"sliced_data length : {len(self.proxyScaler.sliced_data)}// shape : {self.proxyScaler.sliced_data.shape} // data_len: {data_len}\" )\n",
        "    cnn_x_train, cnn_x_val, cnn_x_test = self.proxyScaler.split_data( rate = 0.1) # x 데이터 분할\n",
        "    print(f\"cnn_x_train : {len(cnn_x_train)}, {cnn_x_train.shape}, cnn_x_val : {len(cnn_x_val)}, cnn_x_test length: {len(cnn_x_test)}  // data_len: {data_len}\" )\n",
        "    self.grad_level = self._get_grad_pm25() # 미세먼지 변화량을 구함\n",
        "    print(f\"grad_level length : {len(self.grad_level)} // data_len: {data_len}\" )\n",
        "    cnn_y_train, cnn_y_val, cnn_y_test = self._cnn_y_split(self.grad_level, data_len) # y 데이터 분할\n",
        "    print(f\"cnn_y_train : {len(cnn_y_train)}, cnn_y_val : {len(cnn_y_val)}, cnn_x_test length: {len(cnn_y_test)}  // data_len: {data_len}\" )\n",
        "    # ---------- Data Generator 생성 ---------\n",
        "    self.cnn_train_data_gen = K.preprocessing.sequence.TimeseriesGenerator(cnn_x_train, cnn_y_train, length=1, batch_size = 128, shuffle=False)\n",
        "    self.cnn_val_data_gen = K.preprocessing.sequence.TimeseriesGenerator(cnn_x_val, cnn_y_val, length=1, batch_size = 128, shuffle=False)\n",
        "    self.cnn_test_data_gen = K.preprocessing.sequence.TimeseriesGenerator(cnn_x_test, cnn_y_test, length=1, batch_size = 1, shuffle=False)\n",
        "    print(f\"cnn_train_data_gen length : {self.cnn_train_data_gen.__len__()} // data_len: {data_len}\" )\n",
        "    # ----------- 모델 생성 --------------\n",
        "    print(\"Make CNN Model....\")\n",
        "    self.cnn_model = self._get_cnn_model(input_shape=(1, cnn_x_train.shape[1], cnn_x_train.shape[2]))\n",
        "\n",
        "  def make_lstm_data_generator(self, data_len = 15, batch_size = 1):\n",
        "    # ---------- pm25 데이터 전처리 -----------\n",
        "    self.pmScaler.make_norlized_dataset()\n",
        "    pm25_x_train, pm25_x_val, pm25_x_test = self.pmScaler.slice_data(rate = 0.1)\n",
        "    print(f\"pm25_x_train length : {len(pm25_x_train)}\" )\n",
        "    print(f\"pm25_x_val length : {len(pm25_x_val)}\" )\n",
        "    print(f\"pm25_x_test length : {len(pm25_x_test)}\" )\n",
        "    self.pm25_test = pm25_x_test\n",
        "\n",
        "    # ---------- pm25 Data Generator -------------\n",
        "    self.pm25_train_data_gen = K.preprocessing.sequence.TimeseriesGenerator(pm25_x_train, pm25_x_train, batch_size=batch_size, length=1, shuffle=False)\n",
        "    self.pm25_val_data_gen = K.preprocessing.sequence.TimeseriesGenerator(pm25_x_val, pm25_x_val, batch_size = batch_size, length=1, shuffle=False)\n",
        "    self.pm25_test_data_gen = K.preprocessing.sequence.TimeseriesGenerator(pm25_x_test, pm25_x_test, batch_size = 1, length=1, shuffle=False)\n",
        "\n",
        "    # ---------- CNN result ------------\n",
        "    print(\"get CNN output..\")\n",
        "    print(\"-----------get train output ---------\")\n",
        "    self.cnn_train_output = self.cnn_model.predict(self.cnn_train_data_gen)\n",
        "    print(f\"cnn_train_output length : {len(self.cnn_train_output)}\" )\n",
        "    cnn_train_output_gen = K.preprocessing.sequence.TimeseriesGenerator(self.cnn_train_output, self.cnn_train_output, batch_size = batch_size, length=1, shuffle=False)\n",
        "    rated_cnn_train_output = self._make_lstm_input(cnn_train_output_gen, self.pm25_train_data_gen)\n",
        "    print(f\"rated_cnn_train_output length : {len(rated_cnn_train_output)}\" )\n",
        "\n",
        "    print(\"-----------get validation output ---------\")\n",
        "    self.cnn_val_output = self.cnn_model.predict(self.cnn_val_data_gen)\n",
        "    print(f\"cnn_val_output length : {len(self.cnn_val_output)}\" )\n",
        "    cnn_val_output_gen = K.preprocessing.sequence.TimeseriesGenerator(self.cnn_val_output, self.cnn_val_output, batch_size = batch_size, length=1, shuffle=False)\n",
        "    rated_cnn_val_output = self._make_lstm_input(cnn_val_output_gen, self.pm25_val_data_gen)\n",
        "    print(f\"rated_cnn_val_output length : {len(rated_cnn_val_output)}\" )\n",
        "\n",
        "\n",
        "    print(\"-----------get test output ---------\")\n",
        "    self.cnn_test_output = self.cnn_model.predict(self.cnn_test_data_gen)\n",
        "    print(f\"cnn_test_output length : {len(self.cnn_test_output)}\" )\n",
        "    cnn_test_output_gen = K.preprocessing.sequence.TimeseriesGenerator(self.cnn_test_output, self.cnn_test_output, batch_size = batch_size, length=1, shuffle=False)\n",
        "    rated_cnn_test_output = self._make_lstm_input(cnn_test_output_gen, self.pm25_test_data_gen)\n",
        "\n",
        "    # ---------- LSTM data gen ---------\n",
        "    self.lstm_train_data_gen = LSTMInputGenerator(pm25_x_train, pm25_x_train, data_len, rated_cnn_train_output, batch_size = batch_size)\n",
        "    self.lstm_val_data_gen = LSTMInputGenerator(pm25_x_val, pm25_x_val, data_len, rated_cnn_val_output, batch_size = batch_size)\n",
        "    self.lstm_test_data_gen = LSTMInputGenerator(pm25_x_test, pm25_x_test, data_len, rated_cnn_test_output, batch_size = batch_size)\n",
        "\n",
        "    # ---------- 모델 생성\n",
        "    print(\"make LSTM model...\")\n",
        "    self.lstm_model = self._get_lstm_model(input_shape=(data_len + 1,1))\n",
        "\n",
        "  def cnn_model_fit(self, epochs=1):\n",
        "    self.cnn_model.fit(x=self.cnn_train_data_gen, epochs=epochs, validation_data=(self.cnn_val_data_gen), callbacks=self.cnn_callbacks)\n",
        "\n",
        "  def lstm_model_fit(self, epochs=1):\n",
        "    self.lstm_model.fit(x=self.lstm_train_data_gen, epochs=epochs, validation_data=self.lstm_val_data_gen, callbacks=self.lstm_callbacks)\n",
        "\n",
        "  def total_model_evaluate(self):\n",
        "    return self.lstm_model.evaluate(self.lstm_test_data_gen)\n",
        "\n",
        "  def total_model_predict(self, data = None):\n",
        "    if data is None:\n",
        "      data = self.lstm_test_data_gen\n",
        "    return self.lstm_model.predict(x=data)\n",
        "\n",
        "  def predict(self, pm25, proxy):\n",
        "    cnn_result = self.cnn_model.predict(x=proxy)\n",
        "    lstm_result = self.lstm_model.predict(x=pm25)\n",
        "\n",
        "  def load_lstm_model(self, path):\n",
        "    print(f\"Load model from {path}...\")\n",
        "    self.lstm_model = K.models.load_model(path)\n",
        "    print(\"Done\")\n",
        "\n",
        "  def _get_cnn_model(self, input_shape):\n",
        "    cnnModel = K.Sequential()\n",
        "    cnnModel.add(K.layers.Conv2DTranspose(32, (2,2), input_shape=input_shape, activation=\"relu\"))\n",
        "    cnnModel.add(K.layers.MaxPool2D(strides=2))\n",
        "    cnnModel.add(K.layers.Flatten())\n",
        "    cnnModel.add(K.layers.Dropout(0.1))\n",
        "    cnnModel.add(K.layers.Dense(100, activation=\"relu\"))\n",
        "    cnnModel.add(K.layers.ReLU())\n",
        "    cnnModel.add(K.layers.Dense(5, activation=\"softmax\"))\n",
        "    cnnModel.summary()\n",
        "    cnnModel.compile(optimizer=\"adam\", loss=\"MSE\")\n",
        "\n",
        "    return cnnModel\n",
        "\n",
        "  def _get_lstm_model(self, input_shape):\n",
        "    lstm_model = K.Sequential()\n",
        "    lstm_model.add(K.layers.LSTM(216, input_shape=input_shape))\n",
        "    lstm_model.add(K.layers.Dropout(0.3))\n",
        "    lstm_model.add(K.layers.Dense(128, activation=\"relu\"))\n",
        "    lstm_model.add(K.layers.Dropout(0.3))\n",
        "    lstm_model.add(K.layers.Dense(1, activation=\"sigmoid\"))\n",
        "    lstm_model.summary()\n",
        "    lstm_model.compile(optimizer=\"adam\", loss=\"MSE\")\n",
        "\n",
        "    return lstm_model\n",
        "\n",
        "  def _cnn_y_split(self, data, data_length, rate=0.1):\n",
        "    # cnn에 입력할 Y 데이터를 나눔\n",
        "    data = data[data_length-1:]\n",
        "    data = K.utils.to_categorical(data)\n",
        "    arrlen = int(len(data) * rate + 1)\n",
        "\n",
        "    train, val, test =  data[:-1 * (arrlen * 2)], data[-1 * (arrlen * 2) : -1 * (arrlen)], data[-1 * (arrlen):]\n",
        "    return train, val, test\n",
        "\n",
        "  def _get_grad_pm25(self):\n",
        "    # pm25 의 변화율을 구하고 범주화함\n",
        "    grad_data = self.pm25.pct_change()\n",
        "    grad_data = grad_data.fillna(method=\"pad\")\n",
        "    bins = [-9.166667e-02, -1e-15,1e-15, 1.212121e-01]\n",
        "    # bins = [-10, -1e-15, 1e-15, 10]\n",
        "    grad_level = np.digitize(grad_data, bins=bins, right=False)\n",
        "    return grad_level\n",
        "\n",
        "  def _get_rate(self, data):\n",
        "    # 변화율 별로 pm25의 예측량을 구해봄(임시)\n",
        "    index = data.argmax(axis=1)\n",
        "    rate = np.array([])\n",
        "    for i in range(len(index)):\n",
        "      if index[i] == 3:\n",
        "        rate = np.append(rate, 1)\n",
        "      else:\n",
        "        rate = np.append(rate, 1 + ((index[i]-3) * 0.25)) # 최대 50%의 변화율을 줘 봄\n",
        "    return rate\n",
        "  \n",
        "  def _compute_with_data(self, data, value):\n",
        "    # 예측량을 구함\n",
        "    rate = self._get_rate(data)\n",
        "    return rate * value.squeeze(axis=1)\n",
        "\n",
        "  def _make_lstm_input(self, cnn_output_gen, lstm_data_gen):\n",
        "    # 기존 lstm_input 에 위에서 구한 변화율을 곱한 뒤에 쌓음.\n",
        "    result = np.zeros(shape=(1,))\n",
        "    for i in range(cnn_output_gen.__len__()):\n",
        "      lx, ly = lstm_data_gen[i]\n",
        "      cx, cy = cnn_output_gen[i]\n",
        "      # print(f\"cx shape : {cx.shape}, lx shape : {lx.shape}\")\n",
        "      if i == 0:\n",
        "        result = self._compute_with_data(cx.squeeze(axis=1), lx.squeeze(axis=1))\n",
        "      else:\n",
        "        result = np.hstack((result, self._compute_with_data(cx.squeeze(axis=1), lx.squeeze(axis=1))))\n",
        "    return result\n",
        "        "
      ],
      "execution_count": 52,
      "outputs": []
    },
    {
      "cell_type": "markdown",
      "metadata": {
        "id": "Da1JnS-Q3rl-",
        "colab_type": "text"
      },
      "source": [
        "# Model Init"
      ]
    },
    {
      "cell_type": "code",
      "metadata": {
        "id": "OUOca31BqV8i",
        "colab_type": "code",
        "colab": {}
      },
      "source": [
        "pm25, proxy = get_data()"
      ],
      "execution_count": 53,
      "outputs": []
    },
    {
      "cell_type": "code",
      "metadata": {
        "id": "05e59Gkp4BwK",
        "colab_type": "code",
        "colab": {
          "base_uri": "https://localhost:8080/",
          "height": 51
        },
        "outputId": "ac4308f7-d231-43b0-ffdc-c2db060f4474"
      },
      "source": [
        "model = EntireModel(pm25, proxy)"
      ],
      "execution_count": 54,
      "outputs": [
        {
          "output_type": "stream",
          "text": [
            "pm25 length : 43824\n",
            "proxydata length : 43824\n"
          ],
          "name": "stdout"
        }
      ]
    },
    {
      "cell_type": "code",
      "metadata": {
        "id": "u-eRVA1z4FPT",
        "colab_type": "code",
        "colab": {
          "base_uri": "https://localhost:8080/",
          "height": 527
        },
        "outputId": "0882be19-ae56-421d-b59b-8cff82a21483"
      },
      "source": [
        "model.make_proxy_data_generator(data_len = 2)"
      ],
      "execution_count": 55,
      "outputs": [
        {
          "output_type": "stream",
          "text": [
            "cbwd data changed to number : {SE : 0, NW: 1, cv: 2, NE:3} \n",
            "norm_data detected\n",
            "sliced_data length : 43823// shape : (43823, 2, 7) // data_len: 2\n",
            "cnn_x_train : 35057, (35057, 2, 7), cnn_x_val : 4383, cnn_x_test length: 4383  // data_len: 2\n",
            "grad_level length : 43824 // data_len: 2\n",
            "cnn_y_train : 35057, cnn_y_val : 4383, cnn_x_test length: 4383  // data_len: 2\n",
            "cnn_train_data_gen length : 274 // data_len: 2\n",
            "Make CNN Model....\n",
            "Model: \"sequential_8\"\n",
            "_________________________________________________________________\n",
            "Layer (type)                 Output Shape              Param #   \n",
            "=================================================================\n",
            "conv2d_transpose_6 (Conv2DTr (None, 2, 3, 32)          928       \n",
            "_________________________________________________________________\n",
            "max_pooling2d_6 (MaxPooling2 (None, 1, 1, 32)          0         \n",
            "_________________________________________________________________\n",
            "flatten_6 (Flatten)          (None, 32)                0         \n",
            "_________________________________________________________________\n",
            "dropout_10 (Dropout)         (None, 32)                0         \n",
            "_________________________________________________________________\n",
            "dense_16 (Dense)             (None, 100)               3300      \n",
            "_________________________________________________________________\n",
            "re_lu_6 (ReLU)               (None, 100)               0         \n",
            "_________________________________________________________________\n",
            "dense_17 (Dense)             (None, 5)                 505       \n",
            "=================================================================\n",
            "Total params: 4,733\n",
            "Trainable params: 4,733\n",
            "Non-trainable params: 0\n",
            "_________________________________________________________________\n"
          ],
          "name": "stdout"
        }
      ]
    },
    {
      "cell_type": "code",
      "metadata": {
        "id": "WEkiK5cS6OYh",
        "colab_type": "code",
        "colab": {
          "base_uri": "https://localhost:8080/",
          "height": 480
        },
        "outputId": "da993aa6-4097-45e1-a21d-a96f9c6b1747"
      },
      "source": [
        "model.cnn_model_fit(epochs=40)"
      ],
      "execution_count": 39,
      "outputs": [
        {
          "output_type": "stream",
          "text": [
            "Epoch 1/40\n",
            "  2/274 [..............................] - ETA: 7s - loss: 0.1591WARNING:tensorflow:Callbacks method `on_train_batch_end` is slow compared to the batch time (batch time: 0.0072s vs `on_train_batch_end` time: 0.0445s). Check your callbacks.\n",
            "274/274 [==============================] - 1s 4ms/step - loss: 0.1565 - val_loss: 0.1542\n",
            "Epoch 2/40\n",
            "274/274 [==============================] - 1s 3ms/step - loss: 0.1552 - val_loss: 0.1527\n",
            "Epoch 3/40\n",
            "274/274 [==============================] - 1s 3ms/step - loss: 0.1544 - val_loss: 0.1521\n",
            "Epoch 4/40\n",
            " 18/274 [>.............................] - ETA: 0s - loss: 0.1544"
          ],
          "name": "stdout"
        },
        {
          "output_type": "error",
          "ename": "KeyboardInterrupt",
          "evalue": "ignored",
          "traceback": [
            "\u001b[0;31m---------------------------------------------------------------------------\u001b[0m",
            "\u001b[0;31mKeyboardInterrupt\u001b[0m                         Traceback (most recent call last)",
            "\u001b[0;32m<ipython-input-39-8a93e77b05ff>\u001b[0m in \u001b[0;36m<module>\u001b[0;34m()\u001b[0m\n\u001b[0;32m----> 1\u001b[0;31m \u001b[0mmodel\u001b[0m\u001b[0;34m.\u001b[0m\u001b[0mcnn_model_fit\u001b[0m\u001b[0;34m(\u001b[0m\u001b[0mepochs\u001b[0m\u001b[0;34m=\u001b[0m\u001b[0;36m40\u001b[0m\u001b[0;34m)\u001b[0m\u001b[0;34m\u001b[0m\u001b[0;34m\u001b[0m\u001b[0m\n\u001b[0m",
            "\u001b[0;32m<ipython-input-35-81828951d8aa>\u001b[0m in \u001b[0;36mcnn_model_fit\u001b[0;34m(self, epochs)\u001b[0m\n\u001b[1;32m     82\u001b[0m \u001b[0;34m\u001b[0m\u001b[0m\n\u001b[1;32m     83\u001b[0m   \u001b[0;32mdef\u001b[0m \u001b[0mcnn_model_fit\u001b[0m\u001b[0;34m(\u001b[0m\u001b[0mself\u001b[0m\u001b[0;34m,\u001b[0m \u001b[0mepochs\u001b[0m\u001b[0;34m=\u001b[0m\u001b[0;36m1\u001b[0m\u001b[0;34m)\u001b[0m\u001b[0;34m:\u001b[0m\u001b[0;34m\u001b[0m\u001b[0;34m\u001b[0m\u001b[0m\n\u001b[0;32m---> 84\u001b[0;31m     \u001b[0mself\u001b[0m\u001b[0;34m.\u001b[0m\u001b[0mcnn_model\u001b[0m\u001b[0;34m.\u001b[0m\u001b[0mfit\u001b[0m\u001b[0;34m(\u001b[0m\u001b[0mx\u001b[0m\u001b[0;34m=\u001b[0m\u001b[0mself\u001b[0m\u001b[0;34m.\u001b[0m\u001b[0mcnn_train_data_gen\u001b[0m\u001b[0;34m,\u001b[0m \u001b[0mepochs\u001b[0m\u001b[0;34m=\u001b[0m\u001b[0mepochs\u001b[0m\u001b[0;34m,\u001b[0m \u001b[0mvalidation_data\u001b[0m\u001b[0;34m=\u001b[0m\u001b[0;34m(\u001b[0m\u001b[0mself\u001b[0m\u001b[0;34m.\u001b[0m\u001b[0mcnn_val_data_gen\u001b[0m\u001b[0;34m)\u001b[0m\u001b[0;34m,\u001b[0m \u001b[0mcallbacks\u001b[0m\u001b[0;34m=\u001b[0m\u001b[0mself\u001b[0m\u001b[0;34m.\u001b[0m\u001b[0mcnn_callbacks\u001b[0m\u001b[0;34m)\u001b[0m\u001b[0;34m\u001b[0m\u001b[0;34m\u001b[0m\u001b[0m\n\u001b[0m\u001b[1;32m     85\u001b[0m \u001b[0;34m\u001b[0m\u001b[0m\n\u001b[1;32m     86\u001b[0m   \u001b[0;32mdef\u001b[0m \u001b[0mlstm_model_fit\u001b[0m\u001b[0;34m(\u001b[0m\u001b[0mself\u001b[0m\u001b[0;34m,\u001b[0m \u001b[0mepochs\u001b[0m\u001b[0;34m=\u001b[0m\u001b[0;36m1\u001b[0m\u001b[0;34m)\u001b[0m\u001b[0;34m:\u001b[0m\u001b[0;34m\u001b[0m\u001b[0;34m\u001b[0m\u001b[0m\n",
            "\u001b[0;32m/usr/local/lib/python3.6/dist-packages/tensorflow/python/keras/engine/training.py\u001b[0m in \u001b[0;36m_method_wrapper\u001b[0;34m(self, *args, **kwargs)\u001b[0m\n\u001b[1;32m    106\u001b[0m   \u001b[0;32mdef\u001b[0m \u001b[0m_method_wrapper\u001b[0m\u001b[0;34m(\u001b[0m\u001b[0mself\u001b[0m\u001b[0;34m,\u001b[0m \u001b[0;34m*\u001b[0m\u001b[0margs\u001b[0m\u001b[0;34m,\u001b[0m \u001b[0;34m**\u001b[0m\u001b[0mkwargs\u001b[0m\u001b[0;34m)\u001b[0m\u001b[0;34m:\u001b[0m\u001b[0;34m\u001b[0m\u001b[0;34m\u001b[0m\u001b[0m\n\u001b[1;32m    107\u001b[0m     \u001b[0;32mif\u001b[0m \u001b[0;32mnot\u001b[0m \u001b[0mself\u001b[0m\u001b[0;34m.\u001b[0m\u001b[0m_in_multi_worker_mode\u001b[0m\u001b[0;34m(\u001b[0m\u001b[0;34m)\u001b[0m\u001b[0;34m:\u001b[0m  \u001b[0;31m# pylint: disable=protected-access\u001b[0m\u001b[0;34m\u001b[0m\u001b[0;34m\u001b[0m\u001b[0m\n\u001b[0;32m--> 108\u001b[0;31m       \u001b[0;32mreturn\u001b[0m \u001b[0mmethod\u001b[0m\u001b[0;34m(\u001b[0m\u001b[0mself\u001b[0m\u001b[0;34m,\u001b[0m \u001b[0;34m*\u001b[0m\u001b[0margs\u001b[0m\u001b[0;34m,\u001b[0m \u001b[0;34m**\u001b[0m\u001b[0mkwargs\u001b[0m\u001b[0;34m)\u001b[0m\u001b[0;34m\u001b[0m\u001b[0;34m\u001b[0m\u001b[0m\n\u001b[0m\u001b[1;32m    109\u001b[0m \u001b[0;34m\u001b[0m\u001b[0m\n\u001b[1;32m    110\u001b[0m     \u001b[0;31m# Running inside `run_distribute_coordinator` already.\u001b[0m\u001b[0;34m\u001b[0m\u001b[0;34m\u001b[0m\u001b[0;34m\u001b[0m\u001b[0m\n",
            "\u001b[0;32m/usr/local/lib/python3.6/dist-packages/tensorflow/python/keras/engine/training.py\u001b[0m in \u001b[0;36mfit\u001b[0;34m(self, x, y, batch_size, epochs, verbose, callbacks, validation_split, validation_data, shuffle, class_weight, sample_weight, initial_epoch, steps_per_epoch, validation_steps, validation_batch_size, validation_freq, max_queue_size, workers, use_multiprocessing)\u001b[0m\n\u001b[1;32m   1101\u001b[0m               \u001b[0mlogs\u001b[0m \u001b[0;34m=\u001b[0m \u001b[0mtmp_logs\u001b[0m  \u001b[0;31m# No error, now safe to assign to logs.\u001b[0m\u001b[0;34m\u001b[0m\u001b[0;34m\u001b[0m\u001b[0m\n\u001b[1;32m   1102\u001b[0m               \u001b[0mend_step\u001b[0m \u001b[0;34m=\u001b[0m \u001b[0mstep\u001b[0m \u001b[0;34m+\u001b[0m \u001b[0mdata_handler\u001b[0m\u001b[0;34m.\u001b[0m\u001b[0mstep_increment\u001b[0m\u001b[0;34m\u001b[0m\u001b[0;34m\u001b[0m\u001b[0m\n\u001b[0;32m-> 1103\u001b[0;31m               \u001b[0mcallbacks\u001b[0m\u001b[0;34m.\u001b[0m\u001b[0mon_train_batch_end\u001b[0m\u001b[0;34m(\u001b[0m\u001b[0mend_step\u001b[0m\u001b[0;34m,\u001b[0m \u001b[0mlogs\u001b[0m\u001b[0;34m)\u001b[0m\u001b[0;34m\u001b[0m\u001b[0;34m\u001b[0m\u001b[0m\n\u001b[0m\u001b[1;32m   1104\u001b[0m         \u001b[0mepoch_logs\u001b[0m \u001b[0;34m=\u001b[0m \u001b[0mcopy\u001b[0m\u001b[0;34m.\u001b[0m\u001b[0mcopy\u001b[0m\u001b[0;34m(\u001b[0m\u001b[0mlogs\u001b[0m\u001b[0;34m)\u001b[0m\u001b[0;34m\u001b[0m\u001b[0;34m\u001b[0m\u001b[0m\n\u001b[1;32m   1105\u001b[0m \u001b[0;34m\u001b[0m\u001b[0m\n",
            "\u001b[0;32m/usr/local/lib/python3.6/dist-packages/tensorflow/python/keras/callbacks.py\u001b[0m in \u001b[0;36mon_train_batch_end\u001b[0;34m(self, batch, logs)\u001b[0m\n\u001b[1;32m    438\u001b[0m     \"\"\"\n\u001b[1;32m    439\u001b[0m     \u001b[0;32mif\u001b[0m \u001b[0mself\u001b[0m\u001b[0;34m.\u001b[0m\u001b[0m_should_call_train_batch_hooks\u001b[0m\u001b[0;34m:\u001b[0m\u001b[0;34m\u001b[0m\u001b[0;34m\u001b[0m\u001b[0m\n\u001b[0;32m--> 440\u001b[0;31m       \u001b[0mself\u001b[0m\u001b[0;34m.\u001b[0m\u001b[0m_call_batch_hook\u001b[0m\u001b[0;34m(\u001b[0m\u001b[0mModeKeys\u001b[0m\u001b[0;34m.\u001b[0m\u001b[0mTRAIN\u001b[0m\u001b[0;34m,\u001b[0m \u001b[0;34m'end'\u001b[0m\u001b[0;34m,\u001b[0m \u001b[0mbatch\u001b[0m\u001b[0;34m,\u001b[0m \u001b[0mlogs\u001b[0m\u001b[0;34m=\u001b[0m\u001b[0mlogs\u001b[0m\u001b[0;34m)\u001b[0m\u001b[0;34m\u001b[0m\u001b[0;34m\u001b[0m\u001b[0m\n\u001b[0m\u001b[1;32m    441\u001b[0m \u001b[0;34m\u001b[0m\u001b[0m\n\u001b[1;32m    442\u001b[0m   \u001b[0;32mdef\u001b[0m \u001b[0mon_test_batch_begin\u001b[0m\u001b[0;34m(\u001b[0m\u001b[0mself\u001b[0m\u001b[0;34m,\u001b[0m \u001b[0mbatch\u001b[0m\u001b[0;34m,\u001b[0m \u001b[0mlogs\u001b[0m\u001b[0;34m=\u001b[0m\u001b[0;32mNone\u001b[0m\u001b[0;34m)\u001b[0m\u001b[0;34m:\u001b[0m\u001b[0;34m\u001b[0m\u001b[0;34m\u001b[0m\u001b[0m\n",
            "\u001b[0;32m/usr/local/lib/python3.6/dist-packages/tensorflow/python/keras/callbacks.py\u001b[0m in \u001b[0;36m_call_batch_hook\u001b[0;34m(self, mode, hook, batch, logs)\u001b[0m\n\u001b[1;32m    287\u001b[0m       \u001b[0mself\u001b[0m\u001b[0;34m.\u001b[0m\u001b[0m_call_batch_begin_hook\u001b[0m\u001b[0;34m(\u001b[0m\u001b[0mmode\u001b[0m\u001b[0;34m,\u001b[0m \u001b[0mbatch\u001b[0m\u001b[0;34m,\u001b[0m \u001b[0mlogs\u001b[0m\u001b[0;34m)\u001b[0m\u001b[0;34m\u001b[0m\u001b[0;34m\u001b[0m\u001b[0m\n\u001b[1;32m    288\u001b[0m     \u001b[0;32melif\u001b[0m \u001b[0mhook\u001b[0m \u001b[0;34m==\u001b[0m \u001b[0;34m'end'\u001b[0m\u001b[0;34m:\u001b[0m\u001b[0;34m\u001b[0m\u001b[0;34m\u001b[0m\u001b[0m\n\u001b[0;32m--> 289\u001b[0;31m       \u001b[0mself\u001b[0m\u001b[0;34m.\u001b[0m\u001b[0m_call_batch_end_hook\u001b[0m\u001b[0;34m(\u001b[0m\u001b[0mmode\u001b[0m\u001b[0;34m,\u001b[0m \u001b[0mbatch\u001b[0m\u001b[0;34m,\u001b[0m \u001b[0mlogs\u001b[0m\u001b[0;34m)\u001b[0m\u001b[0;34m\u001b[0m\u001b[0;34m\u001b[0m\u001b[0m\n\u001b[0m\u001b[1;32m    290\u001b[0m     \u001b[0;32melse\u001b[0m\u001b[0;34m:\u001b[0m\u001b[0;34m\u001b[0m\u001b[0;34m\u001b[0m\u001b[0m\n\u001b[1;32m    291\u001b[0m       \u001b[0;32mraise\u001b[0m \u001b[0mValueError\u001b[0m\u001b[0;34m(\u001b[0m\u001b[0;34m'Unrecognized hook: {}'\u001b[0m\u001b[0;34m.\u001b[0m\u001b[0mformat\u001b[0m\u001b[0;34m(\u001b[0m\u001b[0mhook\u001b[0m\u001b[0;34m)\u001b[0m\u001b[0;34m)\u001b[0m\u001b[0;34m\u001b[0m\u001b[0;34m\u001b[0m\u001b[0m\n",
            "\u001b[0;32m/usr/local/lib/python3.6/dist-packages/tensorflow/python/keras/callbacks.py\u001b[0m in \u001b[0;36m_call_batch_end_hook\u001b[0;34m(self, mode, batch, logs)\u001b[0m\n\u001b[1;32m    307\u001b[0m       \u001b[0mbatch_time\u001b[0m \u001b[0;34m=\u001b[0m \u001b[0mtime\u001b[0m\u001b[0;34m.\u001b[0m\u001b[0mtime\u001b[0m\u001b[0;34m(\u001b[0m\u001b[0;34m)\u001b[0m \u001b[0;34m-\u001b[0m \u001b[0mself\u001b[0m\u001b[0;34m.\u001b[0m\u001b[0m_batch_start_time\u001b[0m\u001b[0;34m\u001b[0m\u001b[0;34m\u001b[0m\u001b[0m\n\u001b[1;32m    308\u001b[0m \u001b[0;34m\u001b[0m\u001b[0m\n\u001b[0;32m--> 309\u001b[0;31m     \u001b[0mself\u001b[0m\u001b[0;34m.\u001b[0m\u001b[0m_call_batch_hook_helper\u001b[0m\u001b[0;34m(\u001b[0m\u001b[0mhook_name\u001b[0m\u001b[0;34m,\u001b[0m \u001b[0mbatch\u001b[0m\u001b[0;34m,\u001b[0m \u001b[0mlogs\u001b[0m\u001b[0;34m)\u001b[0m\u001b[0;34m\u001b[0m\u001b[0;34m\u001b[0m\u001b[0m\n\u001b[0m\u001b[1;32m    310\u001b[0m \u001b[0;34m\u001b[0m\u001b[0m\n\u001b[1;32m    311\u001b[0m     \u001b[0;32mif\u001b[0m \u001b[0mself\u001b[0m\u001b[0;34m.\u001b[0m\u001b[0m_check_timing\u001b[0m\u001b[0;34m:\u001b[0m\u001b[0;34m\u001b[0m\u001b[0;34m\u001b[0m\u001b[0m\n",
            "\u001b[0;32m/usr/local/lib/python3.6/dist-packages/tensorflow/python/keras/callbacks.py\u001b[0m in \u001b[0;36m_call_batch_hook_helper\u001b[0;34m(self, hook_name, batch, logs)\u001b[0m\n\u001b[1;32m    340\u001b[0m       \u001b[0mhook\u001b[0m \u001b[0;34m=\u001b[0m \u001b[0mgetattr\u001b[0m\u001b[0;34m(\u001b[0m\u001b[0mcallback\u001b[0m\u001b[0;34m,\u001b[0m \u001b[0mhook_name\u001b[0m\u001b[0;34m)\u001b[0m\u001b[0;34m\u001b[0m\u001b[0;34m\u001b[0m\u001b[0m\n\u001b[1;32m    341\u001b[0m       \u001b[0;32mif\u001b[0m \u001b[0mgetattr\u001b[0m\u001b[0;34m(\u001b[0m\u001b[0mcallback\u001b[0m\u001b[0;34m,\u001b[0m \u001b[0;34m'_supports_tf_logs'\u001b[0m\u001b[0;34m,\u001b[0m \u001b[0;32mFalse\u001b[0m\u001b[0;34m)\u001b[0m\u001b[0;34m:\u001b[0m\u001b[0;34m\u001b[0m\u001b[0;34m\u001b[0m\u001b[0m\n\u001b[0;32m--> 342\u001b[0;31m         \u001b[0mhook\u001b[0m\u001b[0;34m(\u001b[0m\u001b[0mbatch\u001b[0m\u001b[0;34m,\u001b[0m \u001b[0mlogs\u001b[0m\u001b[0;34m)\u001b[0m\u001b[0;34m\u001b[0m\u001b[0;34m\u001b[0m\u001b[0m\n\u001b[0m\u001b[1;32m    343\u001b[0m       \u001b[0;32melse\u001b[0m\u001b[0;34m:\u001b[0m\u001b[0;34m\u001b[0m\u001b[0;34m\u001b[0m\u001b[0m\n\u001b[1;32m    344\u001b[0m         \u001b[0;32mif\u001b[0m \u001b[0mnumpy_logs\u001b[0m \u001b[0;32mis\u001b[0m \u001b[0;32mNone\u001b[0m\u001b[0;34m:\u001b[0m  \u001b[0;31m# Only convert once.\u001b[0m\u001b[0;34m\u001b[0m\u001b[0;34m\u001b[0m\u001b[0m\n",
            "\u001b[0;32m/usr/local/lib/python3.6/dist-packages/tensorflow/python/keras/callbacks.py\u001b[0m in \u001b[0;36mon_train_batch_end\u001b[0;34m(self, batch, logs)\u001b[0m\n\u001b[1;32m    959\u001b[0m \u001b[0;34m\u001b[0m\u001b[0m\n\u001b[1;32m    960\u001b[0m   \u001b[0;32mdef\u001b[0m \u001b[0mon_train_batch_end\u001b[0m\u001b[0;34m(\u001b[0m\u001b[0mself\u001b[0m\u001b[0;34m,\u001b[0m \u001b[0mbatch\u001b[0m\u001b[0;34m,\u001b[0m \u001b[0mlogs\u001b[0m\u001b[0;34m=\u001b[0m\u001b[0;32mNone\u001b[0m\u001b[0;34m)\u001b[0m\u001b[0;34m:\u001b[0m\u001b[0;34m\u001b[0m\u001b[0;34m\u001b[0m\u001b[0m\n\u001b[0;32m--> 961\u001b[0;31m     \u001b[0mself\u001b[0m\u001b[0;34m.\u001b[0m\u001b[0m_batch_update_progbar\u001b[0m\u001b[0;34m(\u001b[0m\u001b[0mbatch\u001b[0m\u001b[0;34m,\u001b[0m \u001b[0mlogs\u001b[0m\u001b[0;34m)\u001b[0m\u001b[0;34m\u001b[0m\u001b[0;34m\u001b[0m\u001b[0m\n\u001b[0m\u001b[1;32m    962\u001b[0m \u001b[0;34m\u001b[0m\u001b[0m\n\u001b[1;32m    963\u001b[0m   \u001b[0;32mdef\u001b[0m \u001b[0mon_test_batch_end\u001b[0m\u001b[0;34m(\u001b[0m\u001b[0mself\u001b[0m\u001b[0;34m,\u001b[0m \u001b[0mbatch\u001b[0m\u001b[0;34m,\u001b[0m \u001b[0mlogs\u001b[0m\u001b[0;34m=\u001b[0m\u001b[0;32mNone\u001b[0m\u001b[0;34m)\u001b[0m\u001b[0;34m:\u001b[0m\u001b[0;34m\u001b[0m\u001b[0;34m\u001b[0m\u001b[0m\n",
            "\u001b[0;32m/usr/local/lib/python3.6/dist-packages/tensorflow/python/keras/callbacks.py\u001b[0m in \u001b[0;36m_batch_update_progbar\u001b[0;34m(self, batch, logs)\u001b[0m\n\u001b[1;32m   1015\u001b[0m       \u001b[0;31m# Only block async when verbose = 1.\u001b[0m\u001b[0;34m\u001b[0m\u001b[0;34m\u001b[0m\u001b[0;34m\u001b[0m\u001b[0m\n\u001b[1;32m   1016\u001b[0m       \u001b[0mlogs\u001b[0m \u001b[0;34m=\u001b[0m \u001b[0mtf_utils\u001b[0m\u001b[0;34m.\u001b[0m\u001b[0mto_numpy_or_python_type\u001b[0m\u001b[0;34m(\u001b[0m\u001b[0mlogs\u001b[0m\u001b[0;34m)\u001b[0m\u001b[0;34m\u001b[0m\u001b[0;34m\u001b[0m\u001b[0m\n\u001b[0;32m-> 1017\u001b[0;31m       \u001b[0mself\u001b[0m\u001b[0;34m.\u001b[0m\u001b[0mprogbar\u001b[0m\u001b[0;34m.\u001b[0m\u001b[0mupdate\u001b[0m\u001b[0;34m(\u001b[0m\u001b[0mself\u001b[0m\u001b[0;34m.\u001b[0m\u001b[0mseen\u001b[0m\u001b[0;34m,\u001b[0m \u001b[0mlist\u001b[0m\u001b[0;34m(\u001b[0m\u001b[0mlogs\u001b[0m\u001b[0;34m.\u001b[0m\u001b[0mitems\u001b[0m\u001b[0;34m(\u001b[0m\u001b[0;34m)\u001b[0m\u001b[0;34m)\u001b[0m\u001b[0;34m,\u001b[0m \u001b[0mfinalize\u001b[0m\u001b[0;34m=\u001b[0m\u001b[0;32mFalse\u001b[0m\u001b[0;34m)\u001b[0m\u001b[0;34m\u001b[0m\u001b[0;34m\u001b[0m\u001b[0m\n\u001b[0m\u001b[1;32m   1018\u001b[0m \u001b[0;34m\u001b[0m\u001b[0m\n\u001b[1;32m   1019\u001b[0m   \u001b[0;32mdef\u001b[0m \u001b[0m_finalize_progbar\u001b[0m\u001b[0;34m(\u001b[0m\u001b[0mself\u001b[0m\u001b[0;34m,\u001b[0m \u001b[0mlogs\u001b[0m\u001b[0;34m)\u001b[0m\u001b[0;34m:\u001b[0m\u001b[0;34m\u001b[0m\u001b[0;34m\u001b[0m\u001b[0m\n",
            "\u001b[0;32m/usr/local/lib/python3.6/dist-packages/tensorflow/python/keras/utils/generic_utils.py\u001b[0m in \u001b[0;36mupdate\u001b[0;34m(self, current, values, finalize)\u001b[0m\n\u001b[1;32m    640\u001b[0m \u001b[0;34m\u001b[0m\u001b[0m\n\u001b[1;32m    641\u001b[0m       \u001b[0msys\u001b[0m\u001b[0;34m.\u001b[0m\u001b[0mstdout\u001b[0m\u001b[0;34m.\u001b[0m\u001b[0mwrite\u001b[0m\u001b[0;34m(\u001b[0m\u001b[0minfo\u001b[0m\u001b[0;34m)\u001b[0m\u001b[0;34m\u001b[0m\u001b[0;34m\u001b[0m\u001b[0m\n\u001b[0;32m--> 642\u001b[0;31m       \u001b[0msys\u001b[0m\u001b[0;34m.\u001b[0m\u001b[0mstdout\u001b[0m\u001b[0;34m.\u001b[0m\u001b[0mflush\u001b[0m\u001b[0;34m(\u001b[0m\u001b[0;34m)\u001b[0m\u001b[0;34m\u001b[0m\u001b[0;34m\u001b[0m\u001b[0m\n\u001b[0m\u001b[1;32m    643\u001b[0m \u001b[0;34m\u001b[0m\u001b[0m\n\u001b[1;32m    644\u001b[0m     \u001b[0;32melif\u001b[0m \u001b[0mself\u001b[0m\u001b[0;34m.\u001b[0m\u001b[0mverbose\u001b[0m \u001b[0;34m==\u001b[0m \u001b[0;36m2\u001b[0m\u001b[0;34m:\u001b[0m\u001b[0;34m\u001b[0m\u001b[0;34m\u001b[0m\u001b[0m\n",
            "\u001b[0;32m/usr/local/lib/python3.6/dist-packages/ipykernel/iostream.py\u001b[0m in \u001b[0;36mflush\u001b[0;34m(self)\u001b[0m\n\u001b[1;32m    347\u001b[0m                 \u001b[0mself\u001b[0m\u001b[0;34m.\u001b[0m\u001b[0mpub_thread\u001b[0m\u001b[0;34m.\u001b[0m\u001b[0mschedule\u001b[0m\u001b[0;34m(\u001b[0m\u001b[0mevt\u001b[0m\u001b[0;34m.\u001b[0m\u001b[0mset\u001b[0m\u001b[0;34m)\u001b[0m\u001b[0;34m\u001b[0m\u001b[0;34m\u001b[0m\u001b[0m\n\u001b[1;32m    348\u001b[0m                 \u001b[0;31m# and give a timeout to avoid\u001b[0m\u001b[0;34m\u001b[0m\u001b[0;34m\u001b[0m\u001b[0;34m\u001b[0m\u001b[0m\n\u001b[0;32m--> 349\u001b[0;31m                 \u001b[0;32mif\u001b[0m \u001b[0;32mnot\u001b[0m \u001b[0mevt\u001b[0m\u001b[0;34m.\u001b[0m\u001b[0mwait\u001b[0m\u001b[0;34m(\u001b[0m\u001b[0mself\u001b[0m\u001b[0;34m.\u001b[0m\u001b[0mflush_timeout\u001b[0m\u001b[0;34m)\u001b[0m\u001b[0;34m:\u001b[0m\u001b[0;34m\u001b[0m\u001b[0;34m\u001b[0m\u001b[0m\n\u001b[0m\u001b[1;32m    350\u001b[0m                     \u001b[0;31m# write directly to __stderr__ instead of warning because\u001b[0m\u001b[0;34m\u001b[0m\u001b[0;34m\u001b[0m\u001b[0;34m\u001b[0m\u001b[0m\n\u001b[1;32m    351\u001b[0m                     \u001b[0;31m# if this is happening sys.stderr may be the problem.\u001b[0m\u001b[0;34m\u001b[0m\u001b[0;34m\u001b[0m\u001b[0;34m\u001b[0m\u001b[0m\n",
            "\u001b[0;32m/usr/lib/python3.6/threading.py\u001b[0m in \u001b[0;36mwait\u001b[0;34m(self, timeout)\u001b[0m\n\u001b[1;32m    549\u001b[0m             \u001b[0msignaled\u001b[0m \u001b[0;34m=\u001b[0m \u001b[0mself\u001b[0m\u001b[0;34m.\u001b[0m\u001b[0m_flag\u001b[0m\u001b[0;34m\u001b[0m\u001b[0;34m\u001b[0m\u001b[0m\n\u001b[1;32m    550\u001b[0m             \u001b[0;32mif\u001b[0m \u001b[0;32mnot\u001b[0m \u001b[0msignaled\u001b[0m\u001b[0;34m:\u001b[0m\u001b[0;34m\u001b[0m\u001b[0;34m\u001b[0m\u001b[0m\n\u001b[0;32m--> 551\u001b[0;31m                 \u001b[0msignaled\u001b[0m \u001b[0;34m=\u001b[0m \u001b[0mself\u001b[0m\u001b[0;34m.\u001b[0m\u001b[0m_cond\u001b[0m\u001b[0;34m.\u001b[0m\u001b[0mwait\u001b[0m\u001b[0;34m(\u001b[0m\u001b[0mtimeout\u001b[0m\u001b[0;34m)\u001b[0m\u001b[0;34m\u001b[0m\u001b[0;34m\u001b[0m\u001b[0m\n\u001b[0m\u001b[1;32m    552\u001b[0m             \u001b[0;32mreturn\u001b[0m \u001b[0msignaled\u001b[0m\u001b[0;34m\u001b[0m\u001b[0;34m\u001b[0m\u001b[0m\n\u001b[1;32m    553\u001b[0m \u001b[0;34m\u001b[0m\u001b[0m\n",
            "\u001b[0;32m/usr/lib/python3.6/threading.py\u001b[0m in \u001b[0;36mwait\u001b[0;34m(self, timeout)\u001b[0m\n\u001b[1;32m    297\u001b[0m             \u001b[0;32melse\u001b[0m\u001b[0;34m:\u001b[0m\u001b[0;34m\u001b[0m\u001b[0;34m\u001b[0m\u001b[0m\n\u001b[1;32m    298\u001b[0m                 \u001b[0;32mif\u001b[0m \u001b[0mtimeout\u001b[0m \u001b[0;34m>\u001b[0m \u001b[0;36m0\u001b[0m\u001b[0;34m:\u001b[0m\u001b[0;34m\u001b[0m\u001b[0;34m\u001b[0m\u001b[0m\n\u001b[0;32m--> 299\u001b[0;31m                     \u001b[0mgotit\u001b[0m \u001b[0;34m=\u001b[0m \u001b[0mwaiter\u001b[0m\u001b[0;34m.\u001b[0m\u001b[0macquire\u001b[0m\u001b[0;34m(\u001b[0m\u001b[0;32mTrue\u001b[0m\u001b[0;34m,\u001b[0m \u001b[0mtimeout\u001b[0m\u001b[0;34m)\u001b[0m\u001b[0;34m\u001b[0m\u001b[0;34m\u001b[0m\u001b[0m\n\u001b[0m\u001b[1;32m    300\u001b[0m                 \u001b[0;32melse\u001b[0m\u001b[0;34m:\u001b[0m\u001b[0;34m\u001b[0m\u001b[0;34m\u001b[0m\u001b[0m\n\u001b[1;32m    301\u001b[0m                     \u001b[0mgotit\u001b[0m \u001b[0;34m=\u001b[0m \u001b[0mwaiter\u001b[0m\u001b[0;34m.\u001b[0m\u001b[0macquire\u001b[0m\u001b[0;34m(\u001b[0m\u001b[0;32mFalse\u001b[0m\u001b[0;34m)\u001b[0m\u001b[0;34m\u001b[0m\u001b[0;34m\u001b[0m\u001b[0m\n",
            "\u001b[0;31mKeyboardInterrupt\u001b[0m: "
          ]
        }
      ]
    },
    {
      "cell_type": "code",
      "metadata": {
        "id": "m9OVQONU9Im3",
        "colab_type": "code",
        "colab": {
          "base_uri": "https://localhost:8080/",
          "height": 595
        },
        "outputId": "dbffd617-db2b-4277-d10e-8957ef29bf1b"
      },
      "source": [
        "model.make_lstm_data_generator(data_len = 15, batch_size=128)"
      ],
      "execution_count": 56,
      "outputs": [
        {
          "output_type": "stream",
          "text": [
            "pm25_x_train length : 35056\n",
            "pm25_x_val length : 4382\n",
            "pm25_x_test length : 4382\n",
            "get CNN output..\n",
            "-----------get train output ---------\n",
            "cnn_train_output length : 35056\n",
            "rated_cnn_train_output length : 35055\n",
            "-----------get validation output ---------\n",
            "cnn_val_output length : 4382\n",
            "rated_cnn_val_output length : 4381\n",
            "-----------get test output ---------\n",
            "cnn_test_output length : 4382\n",
            "lstm_data_gen len : 274, cnn_output len : 35041\n",
            "lstm_data_gen len : 35, cnn_output len : 4367\n",
            "lstm_data_gen len : 35, cnn_output len : 4367\n",
            "make LSTM model...\n",
            "Model: \"sequential_9\"\n",
            "_________________________________________________________________\n",
            "Layer (type)                 Output Shape              Param #   \n",
            "=================================================================\n",
            "lstm_2 (LSTM)                (None, 216)               188352    \n",
            "_________________________________________________________________\n",
            "dropout_11 (Dropout)         (None, 216)               0         \n",
            "_________________________________________________________________\n",
            "dense_18 (Dense)             (None, 128)               27776     \n",
            "_________________________________________________________________\n",
            "dropout_12 (Dropout)         (None, 128)               0         \n",
            "_________________________________________________________________\n",
            "dense_19 (Dense)             (None, 1)                 129       \n",
            "=================================================================\n",
            "Total params: 216,257\n",
            "Trainable params: 216,257\n",
            "Non-trainable params: 0\n",
            "_________________________________________________________________\n"
          ],
          "name": "stdout"
        }
      ]
    },
    {
      "cell_type": "code",
      "metadata": {
        "id": "m9eL_aeiX1HD",
        "colab_type": "code",
        "colab": {
          "base_uri": "https://localhost:8080/",
          "height": 51
        },
        "outputId": "c8e5baeb-02bf-44b6-bea3-86563b1b9e74"
      },
      "source": [
        "model.load_lstm_model('/content/drive/My Drive/trained_model/AirPollution')"
      ],
      "execution_count": null,
      "outputs": [
        {
          "output_type": "stream",
          "text": [
            "Load model from /content/drive/My Drive/trained_model/AirPollution...\n",
            "Done\n"
          ],
          "name": "stdout"
        }
      ]
    },
    {
      "cell_type": "code",
      "metadata": {
        "id": "ZwRdaKZiMc4e",
        "colab_type": "code",
        "colab": {
          "base_uri": "https://localhost:8080/",
          "height": 1000
        },
        "outputId": "e9bfaf39-a84e-4f29-84f9-359c44c894c6"
      },
      "source": [
        "model.lstm_model_fit(epochs=100)"
      ],
      "execution_count": null,
      "outputs": [
        {
          "output_type": "stream",
          "text": [
            "Epoch 1/100\n",
            "  2/274 [..............................] - ETA: 10s - loss: 3.9075e-04WARNING:tensorflow:Callbacks method `on_train_batch_end` is slow compared to the batch time (batch time: 0.0113s vs `on_train_batch_end` time: 0.0630s). Check your callbacks.\n",
            "274/274 [==============================] - 2s 7ms/step - loss: 6.9972e-04 - val_loss: 6.1297e-04\n",
            "Epoch 2/100\n",
            "274/274 [==============================] - 1s 5ms/step - loss: 6.9693e-04 - val_loss: 6.8670e-04\n",
            "Epoch 3/100\n",
            "274/274 [==============================] - 1s 5ms/step - loss: 6.7976e-04 - val_loss: 5.9599e-04\n",
            "Epoch 4/100\n",
            "274/274 [==============================] - 1s 5ms/step - loss: 6.7785e-04 - val_loss: 6.0850e-04\n",
            "Epoch 5/100\n",
            "274/274 [==============================] - 1s 5ms/step - loss: 6.7391e-04 - val_loss: 6.0773e-04\n",
            "Epoch 6/100\n",
            "274/274 [==============================] - 1s 5ms/step - loss: 6.5554e-04 - val_loss: 5.9946e-04\n",
            "Epoch 7/100\n",
            "274/274 [==============================] - 1s 5ms/step - loss: 6.6476e-04 - val_loss: 5.9820e-04\n",
            "Epoch 8/100\n",
            "274/274 [==============================] - 1s 5ms/step - loss: 6.6500e-04 - val_loss: 6.3834e-04\n",
            "Epoch 9/100\n",
            "274/274 [==============================] - 1s 5ms/step - loss: 6.7265e-04 - val_loss: 5.9292e-04\n",
            "Epoch 10/100\n",
            "274/274 [==============================] - 1s 5ms/step - loss: 6.5340e-04 - val_loss: 5.7114e-04\n",
            "Epoch 11/100\n",
            "274/274 [==============================] - 1s 5ms/step - loss: 6.4222e-04 - val_loss: 5.9605e-04\n",
            "Epoch 12/100\n",
            "274/274 [==============================] - 1s 5ms/step - loss: 6.5391e-04 - val_loss: 6.2343e-04\n",
            "Epoch 13/100\n",
            "274/274 [==============================] - 1s 5ms/step - loss: 6.3876e-04 - val_loss: 5.8224e-04\n",
            "Epoch 14/100\n",
            "274/274 [==============================] - 1s 5ms/step - loss: 6.6305e-04 - val_loss: 5.8926e-04\n",
            "Epoch 15/100\n",
            "274/274 [==============================] - 1s 5ms/step - loss: 6.5395e-04 - val_loss: 5.9614e-04\n",
            "Epoch 16/100\n",
            "274/274 [==============================] - 1s 5ms/step - loss: 6.4857e-04 - val_loss: 6.2376e-04\n",
            "Epoch 17/100\n",
            "274/274 [==============================] - 1s 5ms/step - loss: 6.3456e-04 - val_loss: 5.8722e-04\n",
            "Epoch 18/100\n",
            "274/274 [==============================] - 1s 5ms/step - loss: 6.4455e-04 - val_loss: 6.2575e-04\n",
            "Epoch 19/100\n",
            "274/274 [==============================] - 1s 5ms/step - loss: 6.4003e-04 - val_loss: 6.6586e-04\n",
            "Epoch 20/100\n",
            "274/274 [==============================] - 1s 5ms/step - loss: 6.4584e-04 - val_loss: 5.9280e-04\n",
            "Epoch 21/100\n",
            "274/274 [==============================] - 1s 5ms/step - loss: 6.4716e-04 - val_loss: 5.7877e-04\n",
            "Epoch 22/100\n",
            "274/274 [==============================] - 1s 5ms/step - loss: 6.3625e-04 - val_loss: 5.9166e-04\n",
            "Epoch 23/100\n",
            "274/274 [==============================] - 1s 5ms/step - loss: 6.4214e-04 - val_loss: 6.8345e-04\n",
            "Epoch 24/100\n",
            "274/274 [==============================] - 1s 5ms/step - loss: 6.5772e-04 - val_loss: 5.8633e-04\n",
            "Epoch 25/100\n",
            "274/274 [==============================] - 1s 5ms/step - loss: 6.3394e-04 - val_loss: 6.2167e-04\n",
            "Epoch 26/100\n",
            "274/274 [==============================] - 1s 5ms/step - loss: 6.2585e-04 - val_loss: 5.8512e-04\n",
            "Epoch 27/100\n",
            "274/274 [==============================] - 1s 5ms/step - loss: 6.3591e-04 - val_loss: 5.8889e-04\n",
            "Epoch 28/100\n",
            "274/274 [==============================] - 1s 5ms/step - loss: 6.4534e-04 - val_loss: 5.6980e-04\n",
            "Epoch 29/100\n",
            "274/274 [==============================] - 1s 5ms/step - loss: 6.2170e-04 - val_loss: 6.1728e-04\n",
            "Epoch 30/100\n",
            "274/274 [==============================] - 1s 5ms/step - loss: 6.3426e-04 - val_loss: 5.9046e-04\n",
            "Epoch 31/100\n",
            "274/274 [==============================] - 1s 5ms/step - loss: 6.2117e-04 - val_loss: 5.8860e-04\n",
            "Epoch 32/100\n",
            "274/274 [==============================] - 1s 5ms/step - loss: 6.3333e-04 - val_loss: 6.8018e-04\n",
            "Epoch 33/100\n",
            "274/274 [==============================] - 1s 5ms/step - loss: 6.3018e-04 - val_loss: 5.9051e-04\n",
            "Epoch 34/100\n",
            "274/274 [==============================] - 1s 5ms/step - loss: 6.1909e-04 - val_loss: 5.8219e-04\n",
            "Epoch 35/100\n",
            "274/274 [==============================] - 1s 5ms/step - loss: 6.1733e-04 - val_loss: 5.8141e-04\n",
            "Epoch 36/100\n",
            "274/274 [==============================] - 1s 5ms/step - loss: 6.2235e-04 - val_loss: 5.8004e-04\n",
            "Epoch 37/100\n",
            "274/274 [==============================] - 1s 5ms/step - loss: 6.2565e-04 - val_loss: 5.7517e-04\n",
            "Epoch 38/100\n",
            "274/274 [==============================] - 1s 5ms/step - loss: 6.3488e-04 - val_loss: 5.8122e-04\n",
            "Epoch 39/100\n",
            "274/274 [==============================] - 1s 5ms/step - loss: 6.1675e-04 - val_loss: 5.9537e-04\n",
            "Epoch 40/100\n",
            "274/274 [==============================] - 1s 5ms/step - loss: 6.2017e-04 - val_loss: 5.7529e-04\n",
            "Epoch 41/100\n",
            "274/274 [==============================] - 1s 5ms/step - loss: 6.2752e-04 - val_loss: 6.0147e-04\n",
            "Epoch 42/100\n",
            "274/274 [==============================] - 1s 5ms/step - loss: 6.1947e-04 - val_loss: 5.9180e-04\n",
            "Epoch 43/100\n",
            "274/274 [==============================] - 1s 5ms/step - loss: 6.0920e-04 - val_loss: 5.8842e-04\n",
            "Epoch 44/100\n",
            "274/274 [==============================] - 1s 5ms/step - loss: 6.1177e-04 - val_loss: 6.1586e-04\n",
            "Epoch 45/100\n",
            "274/274 [==============================] - 1s 5ms/step - loss: 6.3572e-04 - val_loss: 5.8281e-04\n",
            "Epoch 46/100\n",
            "274/274 [==============================] - 1s 5ms/step - loss: 6.2542e-04 - val_loss: 5.8056e-04\n",
            "Epoch 47/100\n",
            "274/274 [==============================] - 1s 5ms/step - loss: 6.1021e-04 - val_loss: 6.1079e-04\n",
            "Epoch 48/100\n",
            "274/274 [==============================] - 1s 5ms/step - loss: 6.2192e-04 - val_loss: 5.9051e-04\n",
            "Epoch 49/100\n",
            "274/274 [==============================] - 1s 5ms/step - loss: 6.3586e-04 - val_loss: 5.9029e-04\n",
            "Epoch 50/100\n",
            "274/274 [==============================] - 1s 5ms/step - loss: 6.2738e-04 - val_loss: 7.0960e-04\n",
            "Epoch 51/100\n",
            "274/274 [==============================] - 1s 5ms/step - loss: 6.2130e-04 - val_loss: 6.2035e-04\n",
            "Epoch 52/100\n",
            "274/274 [==============================] - 1s 5ms/step - loss: 6.2199e-04 - val_loss: 5.7903e-04\n",
            "Epoch 53/100\n",
            "274/274 [==============================] - 1s 5ms/step - loss: 6.1206e-04 - val_loss: 6.1447e-04\n",
            "Epoch 54/100\n",
            "274/274 [==============================] - 1s 5ms/step - loss: 6.1134e-04 - val_loss: 7.6512e-04\n",
            "Epoch 55/100\n",
            "274/274 [==============================] - 1s 5ms/step - loss: 6.2126e-04 - val_loss: 5.8908e-04\n",
            "Epoch 56/100\n",
            "274/274 [==============================] - 1s 5ms/step - loss: 6.0300e-04 - val_loss: 6.1052e-04\n",
            "Epoch 57/100\n",
            "274/274 [==============================] - 1s 5ms/step - loss: 6.0915e-04 - val_loss: 5.9338e-04\n",
            "Epoch 58/100\n",
            "274/274 [==============================] - 1s 5ms/step - loss: 6.1915e-04 - val_loss: 5.9704e-04\n",
            "Epoch 59/100\n",
            "274/274 [==============================] - 1s 5ms/step - loss: 6.1462e-04 - val_loss: 5.7701e-04\n",
            "Epoch 60/100\n",
            "274/274 [==============================] - 1s 5ms/step - loss: 5.9634e-04 - val_loss: 6.0125e-04\n",
            "Epoch 61/100\n",
            "274/274 [==============================] - 1s 5ms/step - loss: 6.1193e-04 - val_loss: 5.9562e-04\n",
            "Epoch 62/100\n",
            "274/274 [==============================] - 1s 5ms/step - loss: 6.0848e-04 - val_loss: 5.8719e-04\n",
            "Epoch 63/100\n",
            "274/274 [==============================] - 1s 5ms/step - loss: 6.0922e-04 - val_loss: 5.7721e-04\n",
            "Epoch 64/100\n",
            "274/274 [==============================] - 1s 5ms/step - loss: 5.9859e-04 - val_loss: 7.0264e-04\n",
            "Epoch 65/100\n",
            "274/274 [==============================] - 1s 5ms/step - loss: 6.2540e-04 - val_loss: 6.0151e-04\n",
            "Epoch 66/100\n",
            "274/274 [==============================] - 1s 5ms/step - loss: 6.1127e-04 - val_loss: 5.7862e-04\n",
            "Epoch 67/100\n",
            "274/274 [==============================] - 1s 5ms/step - loss: 6.1397e-04 - val_loss: 5.8024e-04\n",
            "Epoch 68/100\n",
            "274/274 [==============================] - 1s 5ms/step - loss: 6.1710e-04 - val_loss: 5.7851e-04\n",
            "Epoch 69/100\n",
            "274/274 [==============================] - 1s 5ms/step - loss: 6.0455e-04 - val_loss: 5.8658e-04\n",
            "Epoch 70/100\n",
            "274/274 [==============================] - 1s 5ms/step - loss: 6.0263e-04 - val_loss: 5.8154e-04\n",
            "Epoch 71/100\n",
            "274/274 [==============================] - 1s 5ms/step - loss: 6.2170e-04 - val_loss: 5.8581e-04\n",
            "Epoch 72/100\n",
            "274/274 [==============================] - 1s 5ms/step - loss: 6.1277e-04 - val_loss: 5.8760e-04\n",
            "Epoch 73/100\n",
            "274/274 [==============================] - 1s 5ms/step - loss: 6.0779e-04 - val_loss: 5.8321e-04\n",
            "Epoch 74/100\n",
            "274/274 [==============================] - 1s 5ms/step - loss: 6.1492e-04 - val_loss: 5.8458e-04\n",
            "Epoch 75/100\n",
            "274/274 [==============================] - 1s 5ms/step - loss: 5.9918e-04 - val_loss: 5.7013e-04\n",
            "Epoch 76/100\n",
            "274/274 [==============================] - 1s 5ms/step - loss: 6.0358e-04 - val_loss: 5.6572e-04\n",
            "Epoch 77/100\n",
            "274/274 [==============================] - 1s 5ms/step - loss: 6.0169e-04 - val_loss: 5.7520e-04\n",
            "Epoch 78/100\n",
            "274/274 [==============================] - 1s 5ms/step - loss: 6.0328e-04 - val_loss: 5.9813e-04\n",
            "Epoch 79/100\n",
            "274/274 [==============================] - 1s 5ms/step - loss: 6.0836e-04 - val_loss: 5.9881e-04\n",
            "Epoch 80/100\n",
            "274/274 [==============================] - 1s 5ms/step - loss: 6.0524e-04 - val_loss: 5.8759e-04\n",
            "Epoch 81/100\n",
            "274/274 [==============================] - 1s 5ms/step - loss: 5.9390e-04 - val_loss: 5.9888e-04\n",
            "Epoch 82/100\n",
            "274/274 [==============================] - 1s 5ms/step - loss: 5.9937e-04 - val_loss: 5.7295e-04\n",
            "Epoch 83/100\n",
            "274/274 [==============================] - 1s 5ms/step - loss: 6.0600e-04 - val_loss: 5.9776e-04\n",
            "Epoch 84/100\n",
            "274/274 [==============================] - 1s 5ms/step - loss: 6.0525e-04 - val_loss: 5.7054e-04\n",
            "Epoch 85/100\n",
            "274/274 [==============================] - 1s 5ms/step - loss: 6.0329e-04 - val_loss: 5.7499e-04\n",
            "Epoch 86/100\n",
            "274/274 [==============================] - 1s 5ms/step - loss: 6.0268e-04 - val_loss: 6.2229e-04\n",
            "Epoch 87/100\n",
            "274/274 [==============================] - 1s 5ms/step - loss: 5.9121e-04 - val_loss: 5.7431e-04\n",
            "Epoch 88/100\n",
            "274/274 [==============================] - 1s 5ms/step - loss: 6.0379e-04 - val_loss: 6.9863e-04\n",
            "Epoch 89/100\n",
            "274/274 [==============================] - 1s 5ms/step - loss: 5.9855e-04 - val_loss: 5.9579e-04\n",
            "Epoch 90/100\n",
            "274/274 [==============================] - 1s 5ms/step - loss: 6.0099e-04 - val_loss: 5.7591e-04\n",
            "Epoch 91/100\n",
            "274/274 [==============================] - 1s 5ms/step - loss: 6.0768e-04 - val_loss: 5.8753e-04\n",
            "Epoch 92/100\n",
            "274/274 [==============================] - 1s 5ms/step - loss: 5.9925e-04 - val_loss: 5.9430e-04\n",
            "Epoch 93/100\n",
            "274/274 [==============================] - 1s 5ms/step - loss: 5.9233e-04 - val_loss: 5.8980e-04\n",
            "Epoch 94/100\n",
            "274/274 [==============================] - 1s 5ms/step - loss: 5.9638e-04 - val_loss: 6.9270e-04\n",
            "Epoch 95/100\n",
            "274/274 [==============================] - 1s 5ms/step - loss: 5.9367e-04 - val_loss: 5.8197e-04\n",
            "Epoch 96/100\n",
            "274/274 [==============================] - 1s 5ms/step - loss: 6.0441e-04 - val_loss: 5.9581e-04\n",
            "Epoch 97/100\n",
            "274/274 [==============================] - 1s 5ms/step - loss: 6.0307e-04 - val_loss: 5.6782e-04\n",
            "Epoch 98/100\n",
            "274/274 [==============================] - 1s 5ms/step - loss: 5.9804e-04 - val_loss: 6.0009e-04\n",
            "Epoch 99/100\n",
            "274/274 [==============================] - 1s 5ms/step - loss: 5.9438e-04 - val_loss: 5.8095e-04\n",
            "Epoch 100/100\n",
            "274/274 [==============================] - 2s 6ms/step - loss: 5.9294e-04 - val_loss: 5.8508e-04\n"
          ],
          "name": "stdout"
        }
      ]
    },
    {
      "cell_type": "code",
      "metadata": {
        "id": "OEDmXA7wuMH2",
        "colab_type": "code",
        "colab": {
          "base_uri": "https://localhost:8080/",
          "height": 51
        },
        "outputId": "bc86617b-8c87-4bd8-ac2f-f76d09cd74be"
      },
      "source": [
        "model.total_model_evaluate()"
      ],
      "execution_count": null,
      "outputs": [
        {
          "output_type": "stream",
          "text": [
            "35/35 [==============================] - 0s 3ms/step - loss: 3.7294e-04\n"
          ],
          "name": "stdout"
        },
        {
          "output_type": "execute_result",
          "data": {
            "text/plain": [
              "0.00037293750210665166"
            ]
          },
          "metadata": {
            "tags": []
          },
          "execution_count": 14
        }
      ]
    },
    {
      "cell_type": "code",
      "metadata": {
        "id": "yT-duD7y_N6s",
        "colab_type": "code",
        "colab": {}
      },
      "source": [
        "predict = model.total_model_predict()"
      ],
      "execution_count": null,
      "outputs": []
    },
    {
      "cell_type": "code",
      "metadata": {
        "id": "TWmnZ3MuQDAL",
        "colab_type": "code",
        "colab": {
          "base_uri": "https://localhost:8080/",
          "height": 281
        },
        "outputId": "5dc3bb81-9d3e-4fd4-db0a-5e743a5f0cc5"
      },
      "source": [
        "plt.plot(model.pm25_test, label=\"Actual\")\n",
        "plt.plot(predict, label=\"Predicted\")\n",
        "plt.legend()\n",
        "plt.title(\"Compare Predict With Actual Data\")\n",
        "plt.show()"
      ],
      "execution_count": null,
      "outputs": [
        {
          "output_type": "display_data",
          "data": {
            "image/png": "[encoded data removed]",
            "text/plain": [
              "<Figure size 432x288 with 1 Axes>"
            ]
          },
          "metadata": {
            "tags": [],
            "needs_background": "light"
          }
        }
      ]
    },
    {
      "cell_type": "code",
      "metadata": {
        "id": "uu9O30Aftg30",
        "colab_type": "code",
        "colab": {
          "base_uri": "https://localhost:8080/",
          "height": 156
        },
        "outputId": "c95ad73e-b6a3-4c5d-d504-70cf1af82f5c"
      },
      "source": [
        "# model.lstm_model.save('/content/drive/My Drive/trained_model/AirPollution2')"
      ],
      "execution_count": null,
      "outputs": [
        {
          "output_type": "stream",
          "text": [
            "WARNING:tensorflow:From /usr/local/lib/python3.6/dist-packages/tensorflow/python/training/tracking/tracking.py:111: Model.state_updates (from tensorflow.python.keras.engine.training) is deprecated and will be removed in a future version.\n",
            "Instructions for updating:\n",
            "This property should not be used in TensorFlow 2.0, as updates are applied automatically.\n",
            "WARNING:tensorflow:From /usr/local/lib/python3.6/dist-packages/tensorflow/python/training/tracking/tracking.py:111: Layer.updates (from tensorflow.python.keras.engine.base_layer) is deprecated and will be removed in a future version.\n",
            "Instructions for updating:\n",
            "This property should not be used in TensorFlow 2.0, as updates are applied automatically.\n",
            "INFO:tensorflow:Assets written to: /content/drive/My Drive/trained_model/AirPollution2/assets\n"
          ],
          "name": "stdout"
        }
      ]
    },
    {
      "cell_type": "code",
      "metadata": {
        "id": "eUY5C5nfqKjZ",
        "colab_type": "code",
        "colab": {}
      },
      "source": [
        "sample_x = pm25[0]"
      ],
      "execution_count": null,
      "outputs": []
    },
    {
      "cell_type": "code",
      "metadata": {
        "id": "0DHlGRYEqXjw",
        "colab_type": "code",
        "colab": {
          "base_uri": "https://localhost:8080/",
          "height": 34
        },
        "outputId": "b0fed3b1-63d5-4dea-c5e4-175ee4940f34"
      },
      "source": [
        "sample_x"
      ],
      "execution_count": null,
      "outputs": [
        {
          "output_type": "execute_result",
          "data": {
            "text/plain": [
              "nan"
            ]
          },
          "metadata": {
            "tags": []
          },
          "execution_count": 16
        }
      ]
    },
    {
      "cell_type": "code",
      "metadata": {
        "id": "eN7hZIQdqaPO",
        "colab_type": "code",
        "colab": {}
      },
      "source": [
        ""
      ],
      "execution_count": null,
      "outputs": []
    }
  ]
}