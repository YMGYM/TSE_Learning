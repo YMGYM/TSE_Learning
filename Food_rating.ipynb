{
  "nbformat": 4,
  "nbformat_minor": 0,
  "metadata": {
    "colab": {
      "name": "Food_rating.ipynb",
      "provenance": [],
      "mount_file_id": "18eK97BBJpMhh3UFYvc2aYLNcmw0ZOXqE",
      "authorship_tag": "ABX9TyMsC61VouhTWzCtz0DlGLJ0",
      "include_colab_link": true
    },
    "kernelspec": {
      "name": "python3",
      "display_name": "Python 3"
    }
  },
  "cells": [
    {
      "cell_type": "markdown",
      "metadata": {
        "id": "view-in-github",
        "colab_type": "text"
      },
      "source": [
        "<a href=\"https://colab.research.google.com/github/YMGYM/TSE_Learning/blob/master/Food_rating.ipynb\" target=\"_parent\"><img src=\"https://colab.research.google.com/assets/colab-badge.svg\" alt=\"Open In Colab\"/></a>"
      ]
    },
    {
      "cell_type": "markdown",
      "metadata": {
        "id": "UQ5SIDqrF2kt"
      },
      "source": [
        "# 데이터 로드 And 처리"
      ]
    },
    {
      "cell_type": "code",
      "metadata": {
        "id": "4yI-BdDbnym7"
      },
      "source": [
        "import pandas as pd"
      ],
      "execution_count": 1,
      "outputs": []
    },
    {
      "cell_type": "code",
      "metadata": {
        "id": "nSx_GUIfzar4"
      },
      "source": [
        "table = pd.read_csv('/content/drive/My Drive/Datasets/military_food.csv', encoding='CP949' )"
      ],
      "execution_count": 2,
      "outputs": []
    },
    {
      "cell_type": "code",
      "metadata": {
        "id": "VwpkM7s1z0IP"
      },
      "source": [
        "table = table.fillna(\"None\")"
      ],
      "execution_count": 3,
      "outputs": []
    },
    {
      "cell_type": "code",
      "metadata": {
        "id": "Lqo4jkQXj8FV"
      },
      "source": [
        "start_id = table[table[\"날짜\"] != \"None\"].index"
      ],
      "execution_count": 10,
      "outputs": []
    },
    {
      "cell_type": "code",
      "metadata": {
        "id": "_MIJ8D-ekgOf",
        "outputId": "db95d65e-d576-4ec7-f4f2-b972e353dd2b",
        "colab": {
          "base_uri": "https://localhost:8080/"
        }
      },
      "source": [
        "len(start_id)"
      ],
      "execution_count": 11,
      "outputs": [
        {
          "output_type": "execute_result",
          "data": {
            "text/plain": [
              "324"
            ]
          },
          "metadata": {
            "tags": []
          },
          "execution_count": 11
        }
      ]
    },
    {
      "cell_type": "code",
      "metadata": {
        "id": "XiLG_f4bFI5N"
      },
      "source": [
        "breakfast = table[\"조식\"]\n",
        "lunch = table[\"중식\"]\n",
        "dinner = table[\"석식\"]"
      ],
      "execution_count": 13,
      "outputs": []
    },
    {
      "cell_type": "markdown",
      "metadata": {
        "id": "tq_gOMW6F-pr"
      },
      "source": [
        "# 데이터 토큰화"
      ]
    },
    {
      "cell_type": "code",
      "metadata": {
        "id": "5mvgYJxCHQ7b"
      },
      "source": [
        "food_to_id.get(\"aaa\")"
      ],
      "execution_count": 19,
      "outputs": []
    },
    {
      "cell_type": "code",
      "metadata": {
        "id": "3J5wZoKYGVCA"
      },
      "source": [
        "food_to_id = {}\n",
        "id_to_food = {}"
      ],
      "execution_count": 15,
      "outputs": []
    },
    {
      "cell_type": "code",
      "metadata": {
        "id": "osStAyBJFbjl"
      },
      "source": [
        "class Tokenizer():\n",
        "  def __init__(self):\n",
        "    self.food_to_id = {}\n",
        "    self.id_to_food = {}\n",
        "\n",
        "  def add_token(self, arr):\n",
        "    for food in arr:\n",
        "      if food != \"None\" and self.food_to_id.get(food) == None :\n",
        "        self.food_to_id[food] = len(self.food_to_id)\n",
        "        self.id_to_food[len(self.id_to_food)] = food\n",
        "\n",
        "    print(\"Done\")\n",
        "\n",
        "  def tokenize(self, arr):\n",
        "    tokenized = []\n",
        "\n",
        "    for food in arr:\n",
        "      if self.food_to_id.get(food) != None:\n",
        "        tokenized.append(self.food_to_id[food])\n",
        "\n",
        "    return tokenized\n",
        "      "
      ],
      "execution_count": 107,
      "outputs": []
    },
    {
      "cell_type": "code",
      "metadata": {
        "id": "h5j8TJhLH868"
      },
      "source": [
        "tokenizer = Tokenizer()"
      ],
      "execution_count": 108,
      "outputs": []
    },
    {
      "cell_type": "code",
      "metadata": {
        "id": "BqLkdmwoIP_u",
        "outputId": "1b39fb2d-cdcb-418d-91c9-3c2dfdfe0eab",
        "colab": {
          "base_uri": "https://localhost:8080/"
        }
      },
      "source": [
        "tokenizer.add_token(breakfast)"
      ],
      "execution_count": 109,
      "outputs": [
        {
          "output_type": "stream",
          "text": [
            "Done\n"
          ],
          "name": "stdout"
        }
      ]
    },
    {
      "cell_type": "code",
      "metadata": {
        "id": "33gWxbGTITEj",
        "outputId": "6b9aeabc-3f77-468e-f526-a92257fcc62d",
        "colab": {
          "base_uri": "https://localhost:8080/"
        }
      },
      "source": [
        "tokenizer.add_token(lunch)"
      ],
      "execution_count": 110,
      "outputs": [
        {
          "output_type": "stream",
          "text": [
            "Done\n"
          ],
          "name": "stdout"
        }
      ]
    },
    {
      "cell_type": "code",
      "metadata": {
        "id": "z9QbLZ9VIVEE",
        "outputId": "67600b2c-f355-4a01-c84f-443598dad72b",
        "colab": {
          "base_uri": "https://localhost:8080/"
        }
      },
      "source": [
        "tokenizer.add_token(dinner)"
      ],
      "execution_count": 111,
      "outputs": [
        {
          "output_type": "stream",
          "text": [
            "Done\n"
          ],
          "name": "stdout"
        }
      ]
    },
    {
      "cell_type": "code",
      "metadata": {
        "id": "lOLahUN8IW1X",
        "outputId": "6250fd16-6db4-4a9c-b8d0-fa5ef35aaf8b",
        "colab": {
          "base_uri": "https://localhost:8080/"
        }
      },
      "source": [
        "len(tokenizer.food_to_id)"
      ],
      "execution_count": 112,
      "outputs": [
        {
          "output_type": "execute_result",
          "data": {
            "text/plain": [
              "716"
            ]
          },
          "metadata": {
            "tags": []
          },
          "execution_count": 112
        }
      ]
    },
    {
      "cell_type": "code",
      "metadata": {
        "id": "qlQIv738IYZC"
      },
      "source": [
        "tokened_breakfast = tokenizer.tokenize(breakfast)"
      ],
      "execution_count": 113,
      "outputs": []
    },
    {
      "cell_type": "code",
      "metadata": {
        "id": "mnva-iy8Llsv"
      },
      "source": [
        "tokened_lunch = tokenizer.tokenize(lunch)"
      ],
      "execution_count": 115,
      "outputs": []
    },
    {
      "cell_type": "code",
      "metadata": {
        "id": "4Q1q4p9xLvE_"
      },
      "source": [
        "tokened_dinner = tokenizer.tokenize(dinner)"
      ],
      "execution_count": 117,
      "outputs": []
    },
    {
      "cell_type": "code",
      "metadata": {
        "id": "ltdKD6U8J7GC",
        "outputId": "57b03f60-6d22-4075-e02b-3190e2955420",
        "colab": {
          "base_uri": "https://localhost:8080/"
        }
      },
      "source": [
        "tokened_dinner[:10]"
      ],
      "execution_count": 118,
      "outputs": [
        {
          "output_type": "execute_result",
          "data": {
            "text/plain": [
              "[594, 75, 20, 3, 595, 322, 338, 33, 596, 54]"
            ]
          },
          "metadata": {
            "tags": []
          },
          "execution_count": 118
        }
      ]
    },
    {
      "cell_type": "code",
      "metadata": {
        "id": "RzxtDwwfLj75"
      },
      "source": [
        ""
      ],
      "execution_count": null,
      "outputs": []
    }
  ]
}