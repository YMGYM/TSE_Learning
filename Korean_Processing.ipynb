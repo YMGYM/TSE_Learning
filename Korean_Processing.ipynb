{
  "nbformat": 4,
  "nbformat_minor": 0,
  "metadata": {
    "colab": {
      "name": "Korean_Processing.ipynb",
      "provenance": [],
      "toc_visible": true,
      "mount_file_id": "1v5h2H2xHxkk1RN1icIAYjhs4S3V-U_FJ",
      "authorship_tag": "ABX9TyM1Hm6b2QqkvKL8qCJ02+TE",
      "include_colab_link": true
    },
    "kernelspec": {
      "name": "python3",
      "display_name": "Python 3"
    }
  },
  "cells": [
    {
      "cell_type": "markdown",
      "metadata": {
        "id": "view-in-github",
        "colab_type": "text"
      },
      "source": [
        "<a href=\"https://colab.research.google.com/github/YMGYM/TSE_Learning/blob/master/Korean_Processing.ipynb\" target=\"_parent\"><img src=\"https://colab.research.google.com/assets/colab-badge.svg\" alt=\"Open In Colab\"/></a>"
      ]
    },
    {
      "cell_type": "markdown",
      "metadata": {
        "id": "zQ6DmbWQ-yLp",
        "colab_type": "text"
      },
      "source": [
        "# Introduction\n",
        "\n",
        "이 파일은 딥러닝 네트워크로 한국어 언어 처리를 연습해보기 위한 파일입니다."
      ]
    },
    {
      "cell_type": "markdown",
      "metadata": {
        "id": "EpOhFLLDjBIA",
        "colab_type": "text"
      },
      "source": [
        "# import\n",
        "필요한 파일, 라이브러리를 임포트합니다.\n",
        "[AI HUB](https://aihub.or.kr/keti_data_board/language_intelligence) 데이터셋을 사용했습니다."
      ]
    },
    {
      "cell_type": "code",
      "metadata": {
        "id": "4zYuq1uk-r-6",
        "colab_type": "code",
        "colab": {}
      },
      "source": [
        "import pandas as pd\n",
        "import numpy as np\n",
        "import tensorflow as tf\n",
        "import tensorflow.keras as K\n",
        "import matplotlib.pyplot as plt"
      ],
      "execution_count": 1,
      "outputs": []
    },
    {
      "cell_type": "code",
      "metadata": {
        "id": "QxUc6EEKjMFN",
        "colab_type": "code",
        "colab": {}
      },
      "source": [
        "data = pd.read_excel('/content/drive/My Drive/Datasets/twitter_dialog_korean.xlsx')"
      ],
      "execution_count": 2,
      "outputs": []
    },
    {
      "cell_type": "code",
      "metadata": {
        "id": "U6R1hlqEjkog",
        "colab_type": "code",
        "colab": {}
      },
      "source": [
        "reshaped_data = data.values.reshape(-1,)"
      ],
      "execution_count": 24,
      "outputs": []
    },
    {
      "cell_type": "code",
      "metadata": {
        "id": "x-hgbc56lJtJ",
        "colab_type": "code",
        "colab": {}
      },
      "source": [
        "all_data = pd.Series(reshaped_data).dropna()"
      ],
      "execution_count": 33,
      "outputs": []
    },
    {
      "cell_type": "code",
      "metadata": {
        "id": "Eu9n4iwiloO9",
        "colab_type": "code",
        "colab": {
          "base_uri": "https://localhost:8080/",
          "height": 122
        },
        "outputId": "20d43462-89e7-4b2f-d645-d37eb2fe09e1"
      },
      "source": [
        "prepared_data = all_data.to_numpy()\n",
        "prepared_data"
      ],
      "execution_count": 34,
      "outputs": [
        {
          "output_type": "execute_result",
          "data": {
            "text/plain": [
              "array(['기계식 키보드 써보고 싶어요.', '싼 것도 많던데 써보세요. 정말 좋아요.',\n",
              "       '싼 것도 있나요? 예전에 봤을 땐 다 10만 원이 넘던데요.', ...,\n",
              "       '좋은 아파트에 살려는 걸 무슨 욕망의 노예로 보는 사람들이 종종 있어요. 그러나 공공시설이 부족한 한국에서 아파트는 너무나 살기 좋은 곳이에요. 놀이터, 상가, 녹지가 잘 갖추어져 있고 치안 역시 주택보다 더 좋죠. 물론 자산 측면에서도 거래가 잘되고 좋아요. ',\n",
              "       '개인적으로 주차공간이 주택이나 빌라에 비하면 많다는 점에서도 아파트를 희망하는 편이죠. ',\n",
              "       '그 부분도 큰 장점이죠. '], dtype=object)"
            ]
          },
          "metadata": {
            "tags": []
          },
          "execution_count": 34
        }
      ]
    },
    {
      "cell_type": "code",
      "metadata": {
        "id": "ww6W0zn1mDJU",
        "colab_type": "code",
        "colab": {
          "base_uri": "https://localhost:8080/",
          "height": 34
        },
        "outputId": "2064ab74-8142-408e-c372-5c56047901c5"
      },
      "source": [
        "prepared_data.shape"
      ],
      "execution_count": 35,
      "outputs": [
        {
          "output_type": "execute_result",
          "data": {
            "text/plain": [
              "(13595,)"
            ]
          },
          "metadata": {
            "tags": []
          },
          "execution_count": 35
        }
      ]
    },
    {
      "cell_type": "code",
      "metadata": {
        "id": "s5TxiJqmmaBk",
        "colab_type": "code",
        "colab": {}
      },
      "source": [
        ""
      ],
      "execution_count": null,
      "outputs": []
    }
  ]
}