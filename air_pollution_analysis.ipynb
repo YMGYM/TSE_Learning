{
  "nbformat": 4,
  "nbformat_minor": 0,
  "metadata": {
    "colab": {
      "name": "air_pollution_analysis.ipynb",
      "provenance": [],
      "collapsed_sections": [],
      "toc_visible": true,
      "mount_file_id": "1Rag7Yc-uRqb-Iex8qfEMVgf3-SGkkvfS",
      "authorship_tag": "ABX9TyOpr4EipuErGZ5tjHLuftG1",
      "include_colab_link": true
    },
    "kernelspec": {
      "name": "python3",
      "display_name": "Python 3"
    }
  },
  "cells": [
    {
      "cell_type": "markdown",
      "metadata": {
        "id": "view-in-github",
        "colab_type": "text"
      },
      "source": [
        "<a href=\"https://colab.research.google.com/github/YMGYM/TSE_Learning/blob/master/air_pollution_analysis.ipynb\" target=\"_parent\"><img src=\"https://colab.research.google.com/assets/colab-badge.svg\" alt=\"Open In Colab\"/></a>"
      ]
    },
    {
      "cell_type": "markdown",
      "metadata": {
        "id": "2Qua77I06KGE",
        "colab_type": "text"
      },
      "source": [
        "# Load Data"
      ]
    },
    {
      "cell_type": "markdown",
      "metadata": {
        "id": "Hmb6DoZ83N-K",
        "colab_type": "text"
      },
      "source": [
        "First, I used the data about air_polution data from \n",
        "Ministry of Environment"
      ]
    },
    {
      "cell_type": "code",
      "metadata": {
        "id": "dDpM34T-3ms_",
        "colab_type": "code",
        "colab": {}
      },
      "source": [
        "import pandas as pd\n",
        "import json\n",
        "import tensorflow as tf\n",
        "import tensorflow.keras as K\n",
        "import numpy as np"
      ],
      "execution_count": null,
      "outputs": []
    },
    {
      "cell_type": "markdown",
      "metadata": {
        "id": "TVgkB67t5kUT",
        "colab_type": "text"
      },
      "source": [
        "I got the tip from how to read the file with utf-8 encoding from [here](https://teddylee777.github.io/pandas/%EA%B3%B5%EA%B3%B5%EB%8D%B0%EC%9D%B4%ED%84%B0-%ED%95%9C%EA%B8%80%EA%B9%A8%EC%A7%90%ED%98%84%EC%83%81-%ED%95%B4%EA%B2%B0%EB%B0%A9%EB%B2%95)"
      ]
    },
    {
      "cell_type": "code",
      "metadata": {
        "id": "6Kdv14yD3nHA",
        "colab_type": "code",
        "colab": {}
      },
      "source": [
        "def read_data():\n",
        "  data = pd.read_csv(\"/content/drive/My Drive/Datasets/air_2019.csv\", encoding='utf-8')\n",
        "  return data"
      ],
      "execution_count": null,
      "outputs": []
    },
    {
      "cell_type": "code",
      "metadata": {
        "id": "kA3S6_Xz4HzX",
        "colab_type": "code",
        "colab": {}
      },
      "source": [
        "data = read_data()"
      ],
      "execution_count": null,
      "outputs": []
    },
    {
      "cell_type": "code",
      "metadata": {
        "id": "9PLOz0Hn5gfS",
        "colab_type": "code",
        "colab": {
          "base_uri": "https://localhost:8080/",
          "height": 606
        },
        "outputId": "d5c95ecc-12e5-4c83-fa1e-dfdc379befb0"
      },
      "source": [
        "data"
      ],
      "execution_count": null,
      "outputs": [
        {
          "output_type": "execute_result",
          "data": {
            "text/html": [
              "<div>\n",
              "<style scoped>\n",
              "    .dataframe tbody tr th:only-of-type {\n",
              "        vertical-align: middle;\n",
              "    }\n",
              "\n",
              "    .dataframe tbody tr th {\n",
              "        vertical-align: top;\n",
              "    }\n",
              "\n",
              "    .dataframe thead th {\n",
              "        text-align: right;\n",
              "    }\n",
              "</style>\n",
              "<table border=\"1\" class=\"dataframe\">\n",
              "  <thead>\n",
              "    <tr style=\"text-align: right;\">\n",
              "      <th></th>\n",
              "      <th>측정일자</th>\n",
              "      <th>권역코드</th>\n",
              "      <th>권역명</th>\n",
              "      <th>측정소코드</th>\n",
              "      <th>측정소명</th>\n",
              "      <th>미세먼지(㎍/㎥)</th>\n",
              "      <th>오존(ppm)</th>\n",
              "      <th>이산화질소농도(ppm)</th>\n",
              "      <th>일산화탄소농도(ppm)</th>\n",
              "      <th>아황산가스농도(ppm)</th>\n",
              "      <th>초미세먼지(㎍/㎥)</th>\n",
              "    </tr>\n",
              "  </thead>\n",
              "  <tbody>\n",
              "    <tr>\n",
              "      <th>0</th>\n",
              "      <td>20191231</td>\n",
              "      <td>100</td>\n",
              "      <td>도심권</td>\n",
              "      <td>111121</td>\n",
              "      <td>중구</td>\n",
              "      <td>26</td>\n",
              "      <td>18</td>\n",
              "      <td>0.023</td>\n",
              "      <td>0.012</td>\n",
              "      <td>0.4</td>\n",
              "      <td>0.002</td>\n",
              "    </tr>\n",
              "    <tr>\n",
              "      <th>1</th>\n",
              "      <td>20191231</td>\n",
              "      <td>100</td>\n",
              "      <td>도심권</td>\n",
              "      <td>111123</td>\n",
              "      <td>종로구</td>\n",
              "      <td>27</td>\n",
              "      <td>19</td>\n",
              "      <td>0.021</td>\n",
              "      <td>0.015</td>\n",
              "      <td>0.4</td>\n",
              "      <td>0.003</td>\n",
              "    </tr>\n",
              "    <tr>\n",
              "      <th>2</th>\n",
              "      <td>20191231</td>\n",
              "      <td>100</td>\n",
              "      <td>도심권</td>\n",
              "      <td>111131</td>\n",
              "      <td>용산구</td>\n",
              "      <td>14</td>\n",
              "      <td>15</td>\n",
              "      <td>0.020</td>\n",
              "      <td>0.015</td>\n",
              "      <td>0.4</td>\n",
              "      <td>0.003</td>\n",
              "    </tr>\n",
              "    <tr>\n",
              "      <th>3</th>\n",
              "      <td>20191231</td>\n",
              "      <td>101</td>\n",
              "      <td>서북권</td>\n",
              "      <td>111181</td>\n",
              "      <td>은평구</td>\n",
              "      <td>24</td>\n",
              "      <td>13</td>\n",
              "      <td>0.024</td>\n",
              "      <td>0.010</td>\n",
              "      <td>0.4</td>\n",
              "      <td>0.003</td>\n",
              "    </tr>\n",
              "    <tr>\n",
              "      <th>4</th>\n",
              "      <td>20191231</td>\n",
              "      <td>101</td>\n",
              "      <td>서북권</td>\n",
              "      <td>111191</td>\n",
              "      <td>서대문구</td>\n",
              "      <td>23</td>\n",
              "      <td>9</td>\n",
              "      <td>0.023</td>\n",
              "      <td>0.013</td>\n",
              "      <td>0.5</td>\n",
              "      <td>0.002</td>\n",
              "    </tr>\n",
              "    <tr>\n",
              "      <th>...</th>\n",
              "      <td>...</td>\n",
              "      <td>...</td>\n",
              "      <td>...</td>\n",
              "      <td>...</td>\n",
              "      <td>...</td>\n",
              "      <td>...</td>\n",
              "      <td>...</td>\n",
              "      <td>...</td>\n",
              "      <td>...</td>\n",
              "      <td>...</td>\n",
              "      <td>...</td>\n",
              "    </tr>\n",
              "    <tr>\n",
              "      <th>8891</th>\n",
              "      <td>20190101</td>\n",
              "      <td>103</td>\n",
              "      <td>서남권</td>\n",
              "      <td>111301</td>\n",
              "      <td>양천구</td>\n",
              "      <td>46</td>\n",
              "      <td>29</td>\n",
              "      <td>0.014</td>\n",
              "      <td>0.033</td>\n",
              "      <td>0.6</td>\n",
              "      <td>0.002</td>\n",
              "    </tr>\n",
              "    <tr>\n",
              "      <th>8892</th>\n",
              "      <td>20190101</td>\n",
              "      <td>104</td>\n",
              "      <td>동남권</td>\n",
              "      <td>111261</td>\n",
              "      <td>강남구</td>\n",
              "      <td>37</td>\n",
              "      <td>31</td>\n",
              "      <td>0.012</td>\n",
              "      <td>0.028</td>\n",
              "      <td>0.6</td>\n",
              "      <td>0.005</td>\n",
              "    </tr>\n",
              "    <tr>\n",
              "      <th>8893</th>\n",
              "      <td>20190101</td>\n",
              "      <td>104</td>\n",
              "      <td>동남권</td>\n",
              "      <td>111262</td>\n",
              "      <td>서초구</td>\n",
              "      <td>37</td>\n",
              "      <td>20</td>\n",
              "      <td>0.015</td>\n",
              "      <td>0.032</td>\n",
              "      <td>0.4</td>\n",
              "      <td>0.004</td>\n",
              "    </tr>\n",
              "    <tr>\n",
              "      <th>8894</th>\n",
              "      <td>20190101</td>\n",
              "      <td>104</td>\n",
              "      <td>동남권</td>\n",
              "      <td>111273</td>\n",
              "      <td>송파구</td>\n",
              "      <td>44</td>\n",
              "      <td>28</td>\n",
              "      <td>0.011</td>\n",
              "      <td>0.042</td>\n",
              "      <td>0.8</td>\n",
              "      <td>0.004</td>\n",
              "    </tr>\n",
              "    <tr>\n",
              "      <th>8895</th>\n",
              "      <td>20190101</td>\n",
              "      <td>104</td>\n",
              "      <td>동남권</td>\n",
              "      <td>111274</td>\n",
              "      <td>강동구</td>\n",
              "      <td>43</td>\n",
              "      <td>32</td>\n",
              "      <td>0.010</td>\n",
              "      <td>0.040</td>\n",
              "      <td>0.8</td>\n",
              "      <td>0.005</td>\n",
              "    </tr>\n",
              "  </tbody>\n",
              "</table>\n",
              "<p>8896 rows × 11 columns</p>\n",
              "</div>"
            ],
            "text/plain": [
              "          측정일자  권역코드  권역명  ...  일산화탄소농도(ppm) 아황산가스농도(ppm)  초미세먼지(㎍/㎥)\n",
              "0     20191231   100  도심권  ...         0.012          0.4       0.002\n",
              "1     20191231   100  도심권  ...         0.015          0.4       0.003\n",
              "2     20191231   100  도심권  ...         0.015          0.4       0.003\n",
              "3     20191231   101  서북권  ...         0.010          0.4       0.003\n",
              "4     20191231   101  서북권  ...         0.013          0.5       0.002\n",
              "...        ...   ...  ...  ...           ...          ...         ...\n",
              "8891  20190101   103  서남권  ...         0.033          0.6       0.002\n",
              "8892  20190101   104  동남권  ...         0.028          0.6       0.005\n",
              "8893  20190101   104  동남권  ...         0.032          0.4       0.004\n",
              "8894  20190101   104  동남권  ...         0.042          0.8       0.004\n",
              "8895  20190101   104  동남권  ...         0.040          0.8       0.005\n",
              "\n",
              "[8896 rows x 11 columns]"
            ]
          },
          "metadata": {
            "tags": []
          },
          "execution_count": 4
        }
      ]
    },
    {
      "cell_type": "markdown",
      "metadata": {
        "id": "N0Rcak436ijy",
        "colab_type": "text"
      },
      "source": [
        "Filtering data"
      ]
    },
    {
      "cell_type": "code",
      "metadata": {
        "id": "x4Ip4tAJ4cJs",
        "colab_type": "code",
        "colab": {
          "base_uri": "https://localhost:8080/",
          "height": 419
        },
        "outputId": "d6c628c5-ade2-4b84-a284-8b5af99a6f60"
      },
      "source": [
        "location = data['측정소명'] == \"중구\"\n",
        "\n",
        "dust_location = data[location]\n",
        "new_list = pd.DataFrame(dust_location['미세먼지(㎍/㎥)'])\n",
        "new_list"
      ],
      "execution_count": null,
      "outputs": [
        {
          "output_type": "execute_result",
          "data": {
            "text/html": [
              "<div>\n",
              "<style scoped>\n",
              "    .dataframe tbody tr th:only-of-type {\n",
              "        vertical-align: middle;\n",
              "    }\n",
              "\n",
              "    .dataframe tbody tr th {\n",
              "        vertical-align: top;\n",
              "    }\n",
              "\n",
              "    .dataframe thead th {\n",
              "        text-align: right;\n",
              "    }\n",
              "</style>\n",
              "<table border=\"1\" class=\"dataframe\">\n",
              "  <thead>\n",
              "    <tr style=\"text-align: right;\">\n",
              "      <th></th>\n",
              "      <th>미세먼지(㎍/㎥)</th>\n",
              "    </tr>\n",
              "  </thead>\n",
              "  <tbody>\n",
              "    <tr>\n",
              "      <th>0</th>\n",
              "      <td>26</td>\n",
              "    </tr>\n",
              "    <tr>\n",
              "      <th>25</th>\n",
              "      <td>36</td>\n",
              "    </tr>\n",
              "    <tr>\n",
              "      <th>50</th>\n",
              "      <td>46</td>\n",
              "    </tr>\n",
              "    <tr>\n",
              "      <th>75</th>\n",
              "      <td>43</td>\n",
              "    </tr>\n",
              "    <tr>\n",
              "      <th>100</th>\n",
              "      <td>34</td>\n",
              "    </tr>\n",
              "    <tr>\n",
              "      <th>...</th>\n",
              "      <td>...</td>\n",
              "    </tr>\n",
              "    <tr>\n",
              "      <th>8771</th>\n",
              "      <td>63</td>\n",
              "    </tr>\n",
              "    <tr>\n",
              "      <th>8796</th>\n",
              "      <td>55</td>\n",
              "    </tr>\n",
              "    <tr>\n",
              "      <th>8821</th>\n",
              "      <td>35</td>\n",
              "    </tr>\n",
              "    <tr>\n",
              "      <th>8846</th>\n",
              "      <td>31</td>\n",
              "    </tr>\n",
              "    <tr>\n",
              "      <th>8871</th>\n",
              "      <td>38</td>\n",
              "    </tr>\n",
              "  </tbody>\n",
              "</table>\n",
              "<p>356 rows × 1 columns</p>\n",
              "</div>"
            ],
            "text/plain": [
              "      미세먼지(㎍/㎥)\n",
              "0            26\n",
              "25           36\n",
              "50           46\n",
              "75           43\n",
              "100          34\n",
              "...         ...\n",
              "8771         63\n",
              "8796         55\n",
              "8821         35\n",
              "8846         31\n",
              "8871         38\n",
              "\n",
              "[356 rows x 1 columns]"
            ]
          },
          "metadata": {
            "tags": []
          },
          "execution_count": 5
        }
      ]
    },
    {
      "cell_type": "code",
      "metadata": {
        "id": "r2Yh-oxcPf7P",
        "colab_type": "code",
        "colab": {}
      },
      "source": [
        "def read_dust_data():\n",
        "  data = pd.read_excel(\"/content/drive/My Drive/Datasets/APIS/APIS_data.xlsx\", encoding='utf-8')\n",
        "  return data"
      ],
      "execution_count": null,
      "outputs": []
    },
    {
      "cell_type": "code",
      "metadata": {
        "id": "zsosHV9yhsjH",
        "colab_type": "code",
        "colab": {}
      },
      "source": [
        "data = read_dust_data()"
      ],
      "execution_count": null,
      "outputs": []
    },
    {
      "cell_type": "code",
      "metadata": {
        "id": "nbLlFkvyhuZN",
        "colab_type": "code",
        "colab": {
          "base_uri": "https://localhost:8080/",
          "height": 419
        },
        "outputId": "22f0d2ce-80fa-4771-e56a-248bdb7f1e8f"
      },
      "source": [
        "data"
      ],
      "execution_count": null,
      "outputs": [
        {
          "output_type": "execute_result",
          "data": {
            "text/html": [
              "<div>\n",
              "<style scoped>\n",
              "    .dataframe tbody tr th:only-of-type {\n",
              "        vertical-align: middle;\n",
              "    }\n",
              "\n",
              "    .dataframe tbody tr th {\n",
              "        vertical-align: top;\n",
              "    }\n",
              "\n",
              "    .dataframe thead th {\n",
              "        text-align: right;\n",
              "    }\n",
              "</style>\n",
              "<table border=\"1\" class=\"dataframe\">\n",
              "  <thead>\n",
              "    <tr style=\"text-align: right;\">\n",
              "      <th></th>\n",
              "      <th>1.0ug/m3</th>\n",
              "      <th>2.5ug/m3</th>\n",
              "    </tr>\n",
              "  </thead>\n",
              "  <tbody>\n",
              "    <tr>\n",
              "      <th>0</th>\n",
              "      <td>21</td>\n",
              "      <td>29</td>\n",
              "    </tr>\n",
              "    <tr>\n",
              "      <th>1</th>\n",
              "      <td>21</td>\n",
              "      <td>30</td>\n",
              "    </tr>\n",
              "    <tr>\n",
              "      <th>2</th>\n",
              "      <td>21</td>\n",
              "      <td>30</td>\n",
              "    </tr>\n",
              "    <tr>\n",
              "      <th>3</th>\n",
              "      <td>22</td>\n",
              "      <td>32</td>\n",
              "    </tr>\n",
              "    <tr>\n",
              "      <th>4</th>\n",
              "      <td>22</td>\n",
              "      <td>32</td>\n",
              "    </tr>\n",
              "    <tr>\n",
              "      <th>...</th>\n",
              "      <td>...</td>\n",
              "      <td>...</td>\n",
              "    </tr>\n",
              "    <tr>\n",
              "      <th>3327</th>\n",
              "      <td>25</td>\n",
              "      <td>37</td>\n",
              "    </tr>\n",
              "    <tr>\n",
              "      <th>3328</th>\n",
              "      <td>25</td>\n",
              "      <td>36</td>\n",
              "    </tr>\n",
              "    <tr>\n",
              "      <th>3329</th>\n",
              "      <td>26</td>\n",
              "      <td>37</td>\n",
              "    </tr>\n",
              "    <tr>\n",
              "      <th>3330</th>\n",
              "      <td>26</td>\n",
              "      <td>38</td>\n",
              "    </tr>\n",
              "    <tr>\n",
              "      <th>3331</th>\n",
              "      <td>26</td>\n",
              "      <td>38</td>\n",
              "    </tr>\n",
              "  </tbody>\n",
              "</table>\n",
              "<p>3332 rows × 2 columns</p>\n",
              "</div>"
            ],
            "text/plain": [
              "      1.0ug/m3  2.5ug/m3\n",
              "0           21        29\n",
              "1           21        30\n",
              "2           21        30\n",
              "3           22        32\n",
              "4           22        32\n",
              "...        ...       ...\n",
              "3327        25        37\n",
              "3328        25        36\n",
              "3329        26        37\n",
              "3330        26        38\n",
              "3331        26        38\n",
              "\n",
              "[3332 rows x 2 columns]"
            ]
          },
          "metadata": {
            "tags": []
          },
          "execution_count": 12
        }
      ]
    },
    {
      "cell_type": "markdown",
      "metadata": {
        "id": "jpMsYq3QlQqe",
        "colab_type": "text"
      },
      "source": [
        "# 공공데이터 받기"
      ]
    },
    {
      "cell_type": "code",
      "metadata": {
        "id": "40_TM7ZSnrfe",
        "colab_type": "code",
        "colab": {}
      },
      "source": [
        "import urllib\n",
        "from urllib.parse import urlencode, quote_plus, unquote\n",
        "from urllib.request import urlopen\n",
        "import requests\n",
        "import json\n",
        "\n",
        "\n",
        "DECODE_KEY = unquote('cELHrfnETp70pjPK90A%2F%2B2h4u9%2FNYVQ6o4e%2B1icLTH6TodaaaxmUvLfsCsRVvH4XvI6NqZSl4jC3grykXKEVTg%3D%3D')\n"
      ],
      "execution_count": 62,
      "outputs": []
    },
    {
      "cell_type": "code",
      "metadata": {
        "id": "JVQ-S62LlnDy",
        "colab_type": "code",
        "colab": {}
      },
      "source": [
        "def api_Living_Reading(key, feature, time):\n",
        "  #-*- coding:utf-8 -*-\n",
        "  url = f\"http://apis.data.go.kr/1360000/LivingWthrIdxService/{feature}\"\n",
        "  \n",
        "  queryParams = '?' + urlencode({ quote_plus('ServiceKey') : key, quote_plus('pageNo') : '1', quote_plus('dataType') : 'JSON', quote_plus('areaNo') : '1100000000', quote_plus('time') : time,quote_plus('requestCode') : 'A20'})\n",
        "  request = requests.get(url + queryParams)\n",
        "\n",
        "  json_data = json.loads(request.text)\n",
        "  return json_data[\"response\"]['body'][\"items\"][\"item\"][0]"
      ],
      "execution_count": 65,
      "outputs": []
    },
    {
      "cell_type": "code",
      "metadata": {
        "id": "p9BIbhGhj52-",
        "colab_type": "code",
        "colab": {}
      },
      "source": [
        "items = api_Living_Reading(DECODE_KEY, 'getHeatFeelingIdx', '2020072706')"
      ],
      "execution_count": 66,
      "outputs": []
    },
    {
      "cell_type": "code",
      "metadata": {
        "id": "HVNogYvKZF4A",
        "colab_type": "code",
        "colab": {
          "base_uri": "https://localhost:8080/",
          "height": 34
        },
        "outputId": "5244fb7d-8be4-4afb-f5cb-5babe824772f"
      },
      "source": [
        "items"
      ],
      "execution_count": 67,
      "outputs": [
        {
          "output_type": "execute_result",
          "data": {
            "text/plain": [
              "{'header': {'resultCode': '99', 'resultMsg': '검색결과가 없습니다. [1100000000]'}}"
            ]
          },
          "metadata": {
            "tags": []
          },
          "execution_count": 67
        }
      ]
    },
    {
      "cell_type": "code",
      "metadata": {
        "id": "qKF0xvvOlcIo",
        "colab_type": "code",
        "colab": {
          "base_uri": "https://localhost:8080/",
          "height": 35
        },
        "outputId": "1df841e0-7d28-41d9-f2e0-6490d2cd732d"
      },
      "source": [
        "heatfeeling = items['h3'] # 더위체감지수\n",
        "heatfeeling"
      ],
      "execution_count": null,
      "outputs": [
        {
          "output_type": "execute_result",
          "data": {
            "application/vnd.google.colaboratory.intrinsic+json": {
              "type": "string"
            },
            "text/plain": [
              "'23'"
            ]
          },
          "metadata": {
            "tags": []
          },
          "execution_count": 45
        }
      ]
    },
    {
      "cell_type": "code",
      "metadata": {
        "id": "iCqe27zW5U9d",
        "colab_type": "code",
        "colab": {}
      },
      "source": [
        "items = api_Living_Reading(DECODE_KEY, 'getDiscomfortIdx', '2020072706')"
      ],
      "execution_count": null,
      "outputs": []
    },
    {
      "cell_type": "code",
      "metadata": {
        "id": "px6xtUiO7EHs",
        "colab_type": "code",
        "colab": {
          "base_uri": "https://localhost:8080/",
          "height": 35
        },
        "outputId": "ae6c7c22-b6c6-4c02-f277-a24cc8613cd6"
      },
      "source": [
        "discomfort = items['h3'] # 불쾌지수\n",
        "discomfort"
      ],
      "execution_count": null,
      "outputs": [
        {
          "output_type": "execute_result",
          "data": {
            "application/vnd.google.colaboratory.intrinsic+json": {
              "type": "string"
            },
            "text/plain": [
              "'73'"
            ]
          },
          "metadata": {
            "tags": []
          },
          "execution_count": 47
        }
      ]
    },
    {
      "cell_type": "code",
      "metadata": {
        "id": "wSbQk9sQ7FFy",
        "colab_type": "code",
        "colab": {}
      },
      "source": [
        "items = api_Living_Reading(DECODE_KEY, 'getUVIdx', '2020072723')"
      ],
      "execution_count": null,
      "outputs": []
    },
    {
      "cell_type": "code",
      "metadata": {
        "id": "5krXCUoG7QV_",
        "colab_type": "code",
        "colab": {
          "base_uri": "https://localhost:8080/",
          "height": 35
        },
        "outputId": "0d046acf-5eb0-4b32-a6fb-ca4b24be2075"
      },
      "source": [
        "uv = items['today'] # 자외선지수\n",
        "uv"
      ],
      "execution_count": null,
      "outputs": [
        {
          "output_type": "execute_result",
          "data": {
            "application/vnd.google.colaboratory.intrinsic+json": {
              "type": "string"
            },
            "text/plain": [
              "''"
            ]
          },
          "metadata": {
            "tags": []
          },
          "execution_count": 56
        }
      ]
    },
    {
      "cell_type": "code",
      "metadata": {
        "id": "M6B5ux7r7RNW",
        "colab_type": "code",
        "colab": {}
      },
      "source": [
        "items = api_Living_Reading(DECODE_KEY, 'getSenTaIdx', '2020072723')"
      ],
      "execution_count": null,
      "outputs": []
    },
    {
      "cell_type": "code",
      "metadata": {
        "id": "-B5IRKFs7fwk",
        "colab_type": "code",
        "colab": {
          "base_uri": "https://localhost:8080/",
          "height": 35
        },
        "outputId": "7293f83d-7e03-49f9-b454-ff686cb2ecdc"
      },
      "source": [
        "heat = items['h3'] # 체감온도\n",
        "heat"
      ],
      "execution_count": null,
      "outputs": [
        {
          "output_type": "execute_result",
          "data": {
            "application/vnd.google.colaboratory.intrinsic+json": {
              "type": "string"
            },
            "text/plain": [
              "'23'"
            ]
          },
          "metadata": {
            "tags": []
          },
          "execution_count": 54
        }
      ]
    },
    {
      "cell_type": "markdown",
      "metadata": {
        "id": "-YVQ8MzG7gVI",
        "colab_type": "text"
      },
      "source": [
        "## Time Module"
      ]
    },
    {
      "cell_type": "code",
      "metadata": {
        "id": "WnElsac3wog2",
        "colab_type": "code",
        "colab": {
          "base_uri": "https://localhost:8080/",
          "height": 34
        },
        "outputId": "1cc652ba-d499-4444-e6ba-f9f6c9b2bb82"
      },
      "source": [
        "import time\n",
        "\n",
        "now = time.localtime()\n",
        "now"
      ],
      "execution_count": 1,
      "outputs": [
        {
          "output_type": "execute_result",
          "data": {
            "text/plain": [
              "time.struct_time(tm_year=2020, tm_mon=7, tm_mday=31, tm_hour=5, tm_min=3, tm_sec=25, tm_wday=4, tm_yday=213, tm_isdst=0)"
            ]
          },
          "metadata": {
            "tags": []
          },
          "execution_count": 1
        }
      ]
    },
    {
      "cell_type": "code",
      "metadata": {
        "id": "wDWJtwN8wuZs",
        "colab_type": "code",
        "colab": {}
      },
      "source": [
        "DATE = f\"{now.tm_year}{now.tm_mon:02d}{now.tm_mday:02d}{now.tm_hour:02d}\""
      ],
      "execution_count": 2,
      "outputs": []
    },
    {
      "cell_type": "code",
      "metadata": {
        "id": "KrPCfixyxWBz",
        "colab_type": "code",
        "colab": {
          "base_uri": "https://localhost:8080/",
          "height": 35
        },
        "outputId": "4381100e-3e2a-4b15-d761-d7bf2e406ec4"
      },
      "source": [
        "DATE"
      ],
      "execution_count": 3,
      "outputs": [
        {
          "output_type": "execute_result",
          "data": {
            "application/vnd.google.colaboratory.intrinsic+json": {
              "type": "string"
            },
            "text/plain": [
              "'2020073105'"
            ]
          },
          "metadata": {
            "tags": []
          },
          "execution_count": 3
        }
      ]
    },
    {
      "cell_type": "code",
      "metadata": {
        "id": "lTcWSNd2xXIa",
        "colab_type": "code",
        "colab": {
          "base_uri": "https://localhost:8080/",
          "height": 164
        },
        "outputId": "0e14fbed-eff9-4aee-a842-8059a7e9aadc"
      },
      "source": [
        "items = api_Living_Reading(DECODE_KEY, 'getDiscomfortIdx', DATE)"
      ],
      "execution_count": 4,
      "outputs": [
        {
          "output_type": "error",
          "ename": "NameError",
          "evalue": "ignored",
          "traceback": [
            "\u001b[0;31m---------------------------------------------------------------------------\u001b[0m",
            "\u001b[0;31mNameError\u001b[0m                                 Traceback (most recent call last)",
            "\u001b[0;32m<ipython-input-4-d373cdbfad24>\u001b[0m in \u001b[0;36m<module>\u001b[0;34m()\u001b[0m\n\u001b[0;32m----> 1\u001b[0;31m \u001b[0mitems\u001b[0m \u001b[0;34m=\u001b[0m \u001b[0mapi_Living_Reading\u001b[0m\u001b[0;34m(\u001b[0m\u001b[0mDECODE_KEY\u001b[0m\u001b[0;34m,\u001b[0m \u001b[0;34m'getDiscomfortIdx'\u001b[0m\u001b[0;34m,\u001b[0m \u001b[0mDATE\u001b[0m\u001b[0;34m)\u001b[0m\u001b[0;34m\u001b[0m\u001b[0;34m\u001b[0m\u001b[0m\n\u001b[0m",
            "\u001b[0;31mNameError\u001b[0m: name 'api_Living_Reading' is not defined"
          ]
        }
      ]
    },
    {
      "cell_type": "code",
      "metadata": {
        "id": "LCo9-yL6xiyM",
        "colab_type": "code",
        "colab": {}
      },
      "source": [
        "items"
      ],
      "execution_count": null,
      "outputs": []
    },
    {
      "cell_type": "code",
      "metadata": {
        "id": "M0YvoMPHzThi",
        "colab_type": "code",
        "colab": {}
      },
      "source": [
        "items = api_Living_Reading(DECODE_KEY, 'getAirDiffusionIdx', DATE)"
      ],
      "execution_count": null,
      "outputs": []
    },
    {
      "cell_type": "code",
      "metadata": {
        "id": "6-arqO-FzWym",
        "colab_type": "code",
        "colab": {}
      },
      "source": [
        "items['h3'] # 대기확산지수"
      ],
      "execution_count": null,
      "outputs": []
    },
    {
      "cell_type": "markdown",
      "metadata": {
        "id": "z0m6JZffxnWA",
        "colab_type": "text"
      },
      "source": [
        "## If time is same..."
      ]
    },
    {
      "cell_type": "code",
      "metadata": {
        "id": "vF440xd6ycgd",
        "colab_type": "code",
        "colab": {}
      },
      "source": [
        "lasttime = DATE"
      ],
      "execution_count": null,
      "outputs": []
    },
    {
      "cell_type": "code",
      "metadata": {
        "id": "0l_kDTgHxzRM",
        "colab_type": "code",
        "colab": {}
      },
      "source": [
        "if lasttime != DATE:\n",
        "  lasttime = DATE"
      ],
      "execution_count": null,
      "outputs": []
    },
    {
      "cell_type": "markdown",
      "metadata": {
        "id": "kcFoFcIOyaH_",
        "colab_type": "text"
      },
      "source": [
        "## overall function"
      ]
    },
    {
      "cell_type": "code",
      "metadata": {
        "id": "WzM4lM9UykMx",
        "colab_type": "code",
        "colab": {}
      },
      "source": [
        "import urllib\n",
        "from urllib.parse import urlencode, quote_plus, unquote\n",
        "from urllib.request import urlopen\n",
        "import requests\n",
        "import json\n",
        "import time"
      ],
      "execution_count": 5,
      "outputs": []
    },
    {
      "cell_type": "code",
      "metadata": {
        "id": "HgTzcucty2-A",
        "colab_type": "code",
        "colab": {}
      },
      "source": [
        "now = time.localtime()"
      ],
      "execution_count": 43,
      "outputs": []
    },
    {
      "cell_type": "code",
      "metadata": {
        "id": "tdbciuW0ytR2",
        "colab_type": "code",
        "colab": {}
      },
      "source": [
        "DECODE_KEY = unquote('cELHrfnETp70pjPK90A%2F%2B2h4u9%2FNYVQ6o4e%2B1icLTH6TodaaaxmUvLfsCsRVvH4XvI6NqZSl4jC3grykXKEVTg%3D%3D')\n",
        "DATE = f\"{now.tm_year}{now.tm_mon:02d}{now.tm_mday:02d}{now.tm_hour:02d}\"\n",
        "QUERY = ['getHeatFeelingIdx','getDiscomfortIdx','getUVIdx','getSenTaIdx','getAirDiffusionIdx']\n",
        "lasttime = \"\""
      ],
      "execution_count": 44,
      "outputs": []
    },
    {
      "cell_type": "code",
      "metadata": {
        "id": "xO5OPD0ZzhdB",
        "colab_type": "code",
        "colab": {}
      },
      "source": [
        "def api_Living_Reading(key, feature, time, areano='1100000000'):\n",
        "  #-*- coding:utf-8 -*-\n",
        "  url = f\"http://apis.data.go.kr/1360000/LivingWthrIdxService/{feature}\"\n",
        "  \n",
        "  queryParams = '?' + urlencode({ quote_plus('ServiceKey') : key, quote_plus('pageNo') : '1', quote_plus('dataType') : 'JSON', quote_plus('areaNo') : areano, quote_plus('time') : time, quote_plus('requestCode') : 'A20'})\n",
        "  request = requests.get(url + queryParams)\n",
        "  json_data = json.loads(request.text)\n",
        "\n",
        "  if feature == 'getUVIdx':\n",
        "    return json_data[\"response\"]['body'][\"items\"][\"item\"][0]['today']\n",
        "  else:\n",
        "    return json_data[\"response\"]['body'][\"items\"][\"item\"][0]['h3']"
      ],
      "execution_count": 45,
      "outputs": []
    },
    {
      "cell_type": "code",
      "metadata": {
        "id": "Gv6abpbB0AUD",
        "colab_type": "code",
        "colab": {}
      },
      "source": [
        "def get_living_weather_data(key, query, time, lasttime,result, areano='1100000000'):\n",
        "  if lasttime == DATE:\n",
        "    return result, lasttime\n",
        "  else:\n",
        "    lasttime = DATE\n",
        "    print(\"Receiving now data\")\n",
        "    for feature in QUERY:\n",
        "      result[feature] = api_Living_Reading(DECODE_KEY, feature, DATE)\n",
        "    return result, lasttime"
      ],
      "execution_count": 46,
      "outputs": []
    },
    {
      "cell_type": "code",
      "metadata": {
        "id": "6EEKbcg22dlA",
        "colab_type": "code",
        "colab": {
          "base_uri": "https://localhost:8080/",
          "height": 34
        },
        "outputId": "6ba94a82-377c-454a-d6a5-f4eca4e66033"
      },
      "source": [
        "result, lasttime = get_living_weather_data(DECODE_KEY,QUERY,DATE,lasttime,result)"
      ],
      "execution_count": 47,
      "outputs": [
        {
          "output_type": "stream",
          "text": [
            "Receiving now data\n"
          ],
          "name": "stdout"
        }
      ]
    },
    {
      "cell_type": "code",
      "metadata": {
        "id": "mal71zyZ0r0h",
        "colab_type": "code",
        "colab": {
          "base_uri": "https://localhost:8080/",
          "height": 204
        },
        "outputId": "9e42ac62-eae0-4899-cafa-372fa98deba5"
      },
      "source": [
        "result"
      ],
      "execution_count": 48,
      "outputs": [
        {
          "output_type": "execute_result",
          "data": {
            "text/plain": [
              "{'CO': '0.4',\n",
              " 'NO2': '0.016',\n",
              " 'O3': '0.041',\n",
              " 'PM10': '26',\n",
              " 'PM25': '18',\n",
              " 'SO2': '0.002',\n",
              " 'getAirDiffusionIdx': '100',\n",
              " 'getDiscomfortIdx': '74',\n",
              " 'getHeatFeelingIdx': '24',\n",
              " 'getSenTaIdx': '24',\n",
              " 'getUVIdx': ''}"
            ]
          },
          "metadata": {
            "tags": []
          },
          "execution_count": 48
        }
      ]
    },
    {
      "cell_type": "markdown",
      "metadata": {
        "id": "ADCaPqtx0w5h",
        "colab_type": "text"
      },
      "source": [
        "# Public Air Dust Data Read"
      ]
    },
    {
      "cell_type": "code",
      "metadata": {
        "id": "aKhJDU9kYiBk",
        "colab_type": "code",
        "colab": {}
      },
      "source": [
        "import urllib\n",
        "from urllib.parse import urlencode, quote_plus, unquote\n",
        "from urllib.request import urlopen\n",
        "import requests\n",
        "import json\n",
        "import time"
      ],
      "execution_count": 12,
      "outputs": []
    },
    {
      "cell_type": "code",
      "metadata": {
        "id": "Prf3yb7AXp8M",
        "colab_type": "code",
        "colab": {
          "base_uri": "https://localhost:8080/",
          "height": 34
        },
        "outputId": "d423083f-7274-4deb-e395-c8da658cc214"
      },
      "source": [
        "\n",
        "url = f\"http://openapi.airkorea.or.kr/openapi/services/rest/ArpltnInforInqireSvc/getCtprvnMesureLIst\"\n",
        "\n",
        "DECODE_KEY = unquote('cELHrfnETp70pjPK90A%2F%2B2h4u9%2FNYVQ6o4e%2B1icLTH6TodaaaxmUvLfsCsRVvH4XvI6NqZSl4jC3grykXKEVTg%3D%3D') \n",
        "\n",
        "#-*- coding:utf-8 -*-\n",
        "queryParams = '?' + urlencode({ quote_plus('ServiceKey') : DECODE_KEY, quote_plus('itemCode') : 'PM10', quote_plus('dataGubun') : 'HOUR', quote_plus('_returnType') : 'json' })\n",
        "request = requests.get(url + queryParams)\n",
        "\n",
        "request\n",
        "\n"
      ],
      "execution_count": 51,
      "outputs": [
        {
          "output_type": "execute_result",
          "data": {
            "text/plain": [
              "<Response [200]>"
            ]
          },
          "metadata": {
            "tags": []
          },
          "execution_count": 51
        }
      ]
    },
    {
      "cell_type": "code",
      "metadata": {
        "id": "hjQOknWLemk5",
        "colab_type": "code",
        "colab": {}
      },
      "source": [
        "json_data = json.loads(request.text)"
      ],
      "execution_count": 52,
      "outputs": []
    },
    {
      "cell_type": "code",
      "metadata": {
        "id": "V8bNJQ9A36mx",
        "colab_type": "code",
        "colab": {
          "base_uri": "https://localhost:8080/",
          "height": 510
        },
        "outputId": "a23b892a-a8bb-4611-a51a-29fa5d5b9aa0"
      },
      "source": [
        "json_data['list'][0]"
      ],
      "execution_count": 53,
      "outputs": [
        {
          "output_type": "execute_result",
          "data": {
            "text/plain": [
              "{'_returnType': 'json',\n",
              " 'busan': '18',\n",
              " 'chungbuk': '17',\n",
              " 'chungnam': '11',\n",
              " 'daegu': '18',\n",
              " 'daejeon': '7',\n",
              " 'dataGubun': '1',\n",
              " 'dataTerm': '',\n",
              " 'dataTime': '2020-07-31 14:00',\n",
              " 'gangwon': '17',\n",
              " 'gwangju': '14',\n",
              " 'gyeongbuk': '14',\n",
              " 'gyeonggi': '29',\n",
              " 'gyeongnam': '17',\n",
              " 'incheon': '36',\n",
              " 'itemCode': '10007',\n",
              " 'jeju': '15',\n",
              " 'jeonbuk': '8',\n",
              " 'jeonnam': '15',\n",
              " 'numOfRows': '10',\n",
              " 'pageNo': '1',\n",
              " 'resultCode': '',\n",
              " 'resultMsg': '',\n",
              " 'searchCondition': '',\n",
              " 'sejong': '6',\n",
              " 'seoul': '28',\n",
              " 'serviceKey': '',\n",
              " 'totalCount': '',\n",
              " 'ulsan': '20'}"
            ]
          },
          "metadata": {
            "tags": []
          },
          "execution_count": 53
        }
      ]
    },
    {
      "cell_type": "markdown",
      "metadata": {
        "id": "_v9NeNrL8rpW",
        "colab_type": "text"
      },
      "source": [
        "## Automatically collect all data"
      ]
    },
    {
      "cell_type": "code",
      "metadata": {
        "id": "-YOSjYBwRkho",
        "colab_type": "code",
        "colab": {}
      },
      "source": [
        "ITEM_CODE = ['SO2', 'CO', 'O3', 'NO2', 'PM10', 'PM25']\n",
        "DECODE_KEY = unquote('cELHrfnETp70pjPK90A%2F%2B2h4u9%2FNYVQ6o4e%2B1icLTH6TodaaaxmUvLfsCsRVvH4XvI6NqZSl4jC3grykXKEVTg%3D%3D') "
      ],
      "execution_count": 26,
      "outputs": []
    },
    {
      "cell_type": "markdown",
      "metadata": {
        "id": "XVQCtdH2R1Mv",
        "colab_type": "text"
      },
      "source": [
        "한국환경공단 에어코리아 openAPI를 사용했습니다\n",
        "https://data.go.kr/tcs/dss/selectApiDataDetailView.do?publicDataPk=15000581"
      ]
    },
    {
      "cell_type": "code",
      "metadata": {
        "id": "YWoJP4e9Rwp3",
        "colab_type": "code",
        "colab": {}
      },
      "source": [
        "def api_air_pullution(key, item_code):\n",
        "  url = f\"http://openapi.airkorea.or.kr/openapi/services/rest/ArpltnInforInqireSvc/getCtprvnMesureLIst\"\n",
        "\n",
        "\n",
        "  #-*- coding:utf-8 -*-\n",
        "  queryParams = '?' + urlencode({ quote_plus('ServiceKey') : key, quote_plus('itemCode') : item_code, quote_plus('dataGubun') : 'HOUR', quote_plus('_returnType') : 'json' })\n",
        "  request = requests.get(url + queryParams)\n",
        "\n",
        "  json_data = json.loads(request.text)\n",
        "  return json_data['list'][0]\n"
      ],
      "execution_count": 36,
      "outputs": []
    },
    {
      "cell_type": "code",
      "metadata": {
        "id": "XLL0qQ9jSPBp",
        "colab_type": "code",
        "colab": {}
      },
      "source": [
        "def get_air_pollution_data(key, item_code, station=\"seoul\"):\n",
        "  result = {}\n",
        "  for item in item_code:\n",
        "    value = api_air_pullution(key, item)\n",
        "    result[item] = value[station]\n",
        "\n",
        "  return result  "
      ],
      "execution_count": 40,
      "outputs": []
    },
    {
      "cell_type": "code",
      "metadata": {
        "id": "hVLNoyxURbR6",
        "colab_type": "code",
        "colab": {}
      },
      "source": [
        "result = get_air_pollution_data(DECODE_KEY, ITEM_CODE, station='seoul')"
      ],
      "execution_count": 41,
      "outputs": []
    },
    {
      "cell_type": "code",
      "metadata": {
        "id": "w-dScEXeS1vt",
        "colab_type": "code",
        "colab": {
          "base_uri": "https://localhost:8080/",
          "height": 119
        },
        "outputId": "c42aacfc-95e4-4af9-fad2-4ee228e92a63"
      },
      "source": [
        "result"
      ],
      "execution_count": 42,
      "outputs": [
        {
          "output_type": "execute_result",
          "data": {
            "text/plain": [
              "{'CO': '0.4',\n",
              " 'NO2': '0.016',\n",
              " 'O3': '0.041',\n",
              " 'PM10': '26',\n",
              " 'PM25': '18',\n",
              " 'SO2': '0.002'}"
            ]
          },
          "metadata": {
            "tags": []
          },
          "execution_count": 42
        }
      ]
    },
    {
      "cell_type": "markdown",
      "metadata": {
        "id": "U5F4Y8nvTlWR",
        "colab_type": "text"
      },
      "source": [
        "# Function Collection"
      ]
    },
    {
      "cell_type": "code",
      "metadata": {
        "id": "yu55ZIjRS6Nu",
        "colab_type": "code",
        "colab": {}
      },
      "source": [
        "import urllib\n",
        "from urllib.parse import urlencode, quote_plus, unquote\n",
        "from urllib.request import urlopen\n",
        "import requests\n",
        "import json\n",
        "import time\n",
        "\n",
        "def api_Living_Reading(key, feature, time, areano='1100000000'):\\\n",
        "  # I used api from Korea Meteorological Administration\n",
        "  # https://data.go.kr/tcs/dss/selectApiDataDetailView.do?publicDataPk=15043583\n",
        "\n",
        "  #-*- coding:utf-8 -*-\n",
        "  url = f\"http://apis.data.go.kr/1360000/LivingWthrIdxService/{feature}\"\n",
        "  \n",
        "  queryParams = '?' + urlencode({ quote_plus('ServiceKey') : key, quote_plus('pageNo') : '1', quote_plus('dataType') : 'JSON', quote_plus('areaNo') : areano, quote_plus('time') : time, quote_plus('requestCode') : 'A20'})\n",
        "  request = requests.get(url + queryParams)\n",
        "  json_data = json.loads(request.text)\n",
        "\n",
        "  if feature == 'getUVIdx':\n",
        "    return json_data[\"response\"]['body'][\"items\"][\"item\"][0]['today']\n",
        "  else:\n",
        "    return json_data[\"response\"]['body'][\"items\"][\"item\"][0]['h3']\n",
        "\n",
        "def get_living_weather_data(key, query, time, lasttime,result, areano='1100000000'):\n",
        "  print(\"Get living weather data...\")\n",
        "  for feature in query:\n",
        "    result[feature] = api_Living_Reading(key, feature, time)\n",
        "  print(\"Done.\")\n",
        "  return result, lasttime\n",
        "\n",
        "def api_air_pullution(key, item_code):\n",
        "  # Used api made by Korea Environment Corporation\n",
        "  # https://data.go.kr/tcs/dss/selectApiDataDetailView.do?publicDataPk=15000581\n",
        "  url = f\"http://openapi.airkorea.or.kr/openapi/services/rest/ArpltnInforInqireSvc/getCtprvnMesureLIst\"\n",
        "  #-*- coding:utf-8 -*-\n",
        "  queryParams = '?' + urlencode({ quote_plus('ServiceKey') : key, quote_plus('itemCode') : item_code, quote_plus('dataGubun') : 'HOUR', quote_plus('_returnType') : 'json' })\n",
        "  request = requests.get(url + queryParams)\n",
        "\n",
        "  json_data = json.loads(request.text)\n",
        "  return json_data['list'][0]\n",
        "\n",
        "def get_air_pollution_data(key, item_code, result, station=\"seoul\"):\n",
        "  print(\"Get air pollution data...\")\n",
        "  for item in item_code:\n",
        "    value = api_air_pullution(key, item)\n",
        "    result[item] = value[station]\n",
        "  print(\"Done.\")\n",
        "\n",
        "  return result\n",
        "\n",
        "def get_all_api_data(date, lasttime):\n",
        "  DECODE_KEY = unquote('cELHrfnETp70pjPK90A%2F%2B2h4u9%2FNYVQ6o4e%2B1icLTH6TodaaaxmUvLfsCsRVvH4XvI6NqZSl4jC3grykXKEVTg%3D%3D')\n",
        "  DATE = date\n",
        "  QUERY = ['getHeatFeelingIdx','getDiscomfortIdx','getUVIdx','getSenTaIdx','getAirDiffusionIdx']\n",
        "  ITEM_CODE = ['SO2', 'CO', 'O3', 'NO2', 'PM10', 'PM25']\n",
        "  result = {}\n",
        "\n",
        "  result, lasttime = get_living_weather_data(DECODE_KEY, QUERY, DATE, lasttime, result)\n",
        "  result = get_air_pollution_data(DECODE_KEY, ITEM_CODE, result, station='seoul')\n",
        "\n",
        "  return result, lasttime\n"
      ],
      "execution_count": 1,
      "outputs": []
    },
    {
      "cell_type": "markdown",
      "metadata": {
        "id": "-OHNtzR-bQNu",
        "colab_type": "text"
      },
      "source": [
        "현재 시간을 받아와서 지금 시간을 갱신합니다.\n",
        "코랩 서버가 미국 시간이라 timezone이 맞지 않습니다."
      ]
    },
    {
      "cell_type": "code",
      "metadata": {
        "id": "8rlMtNeGbWSX",
        "colab_type": "code",
        "colab": {}
      },
      "source": [
        "lasttime = \"\" # save the last operated time"
      ],
      "execution_count": 5,
      "outputs": []
    },
    {
      "cell_type": "code",
      "metadata": {
        "id": "QS4KNIceUrXU",
        "colab_type": "code",
        "colab": {}
      },
      "source": [
        "now = time.localtime()\n",
        "date = f\"{now.tm_year}{now.tm_mon:02d}{now.tm_mday:02d}{now.tm_hour:02d}\""
      ],
      "execution_count": 2,
      "outputs": []
    },
    {
      "cell_type": "markdown",
      "metadata": {
        "id": "fY1Bmh0UbdQj",
        "colab_type": "text"
      },
      "source": [
        "시간을 비교해 각 시간마다 한 번씩 API를 작동시킵니다."
      ]
    },
    {
      "cell_type": "code",
      "metadata": {
        "id": "YQIVrUksYh6R",
        "colab_type": "code",
        "colab": {
          "base_uri": "https://localhost:8080/",
          "height": 156
        },
        "outputId": "b198cf0a-3f27-4b51-ac9a-6971059bfa59"
      },
      "source": [
        "if lasttime != date:\n",
        "  print(\"Time passed.\\nGet the api data\")\n",
        "  result, lasttime = get_all_api_data(date, lasttime)\n",
        "  lasttime = date\n",
        "  result['collected_time'] = lasttime\n",
        "  print(result)\n",
        "else:\n",
        "  print(\"Print just past data\")\n",
        "  print(result)"
      ],
      "execution_count": 3,
      "outputs": [
        {
          "output_type": "stream",
          "text": [
            "Time passed.\n",
            "Get the api data\n",
            "Get living weather data...\n",
            "Done.\n",
            "Get air pollution data...\n",
            "Done.\n",
            "{'getHeatFeelingIdx': '24', 'getDiscomfortIdx': '74', 'getUVIdx': '', 'getSenTaIdx': '24', 'getAirDiffusionIdx': '100', 'SO2': '0.002', 'CO': '0.3', 'O3': '0.048', 'NO2': '0.016', 'PM10': '28', 'PM25': '19', 'collected_time': '2020073105'}\n"
          ],
          "name": "stdout"
        }
      ]
    },
    {
      "cell_type": "code",
      "metadata": {
        "id": "guZyh9SsY2PJ",
        "colab_type": "code",
        "colab": {
          "base_uri": "https://localhost:8080/",
          "height": 221
        },
        "outputId": "da05cfc5-63f5-4cbe-e8ae-e800df61bb64"
      },
      "source": [
        "result"
      ],
      "execution_count": 4,
      "outputs": [
        {
          "output_type": "execute_result",
          "data": {
            "text/plain": [
              "{'CO': '0.3',\n",
              " 'NO2': '0.016',\n",
              " 'O3': '0.048',\n",
              " 'PM10': '28',\n",
              " 'PM25': '19',\n",
              " 'SO2': '0.002',\n",
              " 'collected_time': '2020073105',\n",
              " 'getAirDiffusionIdx': '100',\n",
              " 'getDiscomfortIdx': '74',\n",
              " 'getHeatFeelingIdx': '24',\n",
              " 'getSenTaIdx': '24',\n",
              " 'getUVIdx': ''}"
            ]
          },
          "metadata": {
            "tags": []
          },
          "execution_count": 4
        }
      ]
    },
    {
      "cell_type": "code",
      "metadata": {
        "id": "eX5nz34vaeFC",
        "colab_type": "code",
        "colab": {}
      },
      "source": [
        ""
      ],
      "execution_count": null,
      "outputs": []
    }
  ]
}