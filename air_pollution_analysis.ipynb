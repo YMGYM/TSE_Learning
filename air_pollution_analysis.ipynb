{
  "nbformat": 4,
  "nbformat_minor": 0,
  "metadata": {
    "colab": {
      "name": "air_pollution_analysis.ipynb",
      "provenance": [],
      "collapsed_sections": [],
      "mount_file_id": "1Rag7Yc-uRqb-Iex8qfEMVgf3-SGkkvfS",
      "authorship_tag": "ABX9TyMyV/YXIF7DK3VCRwv4vRHA",
      "include_colab_link": true
    },
    "kernelspec": {
      "name": "python3",
      "display_name": "Python 3"
    }
  },
  "cells": [
    {
      "cell_type": "markdown",
      "metadata": {
        "id": "view-in-github",
        "colab_type": "text"
      },
      "source": [
        "<a href=\"https://colab.research.google.com/github/YMGYM/TSE_Learning/blob/master/air_pollution_analysis.ipynb\" target=\"_parent\"><img src=\"https://colab.research.google.com/assets/colab-badge.svg\" alt=\"Open In Colab\"/></a>"
      ]
    },
    {
      "cell_type": "markdown",
      "metadata": {
        "id": "2Qua77I06KGE",
        "colab_type": "text"
      },
      "source": [
        "# Load Data"
      ]
    },
    {
      "cell_type": "markdown",
      "metadata": {
        "id": "Hmb6DoZ83N-K",
        "colab_type": "text"
      },
      "source": [
        "First, I used the data about air_polution data from \n",
        "Ministry of Environment"
      ]
    },
    {
      "cell_type": "code",
      "metadata": {
        "id": "dDpM34T-3ms_",
        "colab_type": "code",
        "colab": {}
      },
      "source": [
        "import pandas as pd\n",
        "import json\n",
        "import tensorflow as tf\n",
        "import tensorflow.keras as K\n",
        "import numpy as np"
      ],
      "execution_count": null,
      "outputs": []
    },
    {
      "cell_type": "markdown",
      "metadata": {
        "id": "TVgkB67t5kUT",
        "colab_type": "text"
      },
      "source": [
        "I got the tip from how to read the file with utf-8 encoding from [here](https://teddylee777.github.io/pandas/%EA%B3%B5%EA%B3%B5%EB%8D%B0%EC%9D%B4%ED%84%B0-%ED%95%9C%EA%B8%80%EA%B9%A8%EC%A7%90%ED%98%84%EC%83%81-%ED%95%B4%EA%B2%B0%EB%B0%A9%EB%B2%95)"
      ]
    },
    {
      "cell_type": "code",
      "metadata": {
        "id": "6Kdv14yD3nHA",
        "colab_type": "code",
        "colab": {}
      },
      "source": [
        "def read_data():\n",
        "  data = pd.read_csv(\"/content/drive/My Drive/Datasets/air_2019.csv\", encoding='utf-8')\n",
        "  return data"
      ],
      "execution_count": null,
      "outputs": []
    },
    {
      "cell_type": "code",
      "metadata": {
        "id": "kA3S6_Xz4HzX",
        "colab_type": "code",
        "colab": {}
      },
      "source": [
        "data = read_data()"
      ],
      "execution_count": null,
      "outputs": []
    },
    {
      "cell_type": "code",
      "metadata": {
        "id": "9PLOz0Hn5gfS",
        "colab_type": "code",
        "colab": {
          "base_uri": "https://localhost:8080/",
          "height": 827
        },
        "outputId": "f1e6aee2-d55e-4414-edfa-1c8181d152ea"
      },
      "source": [
        "data"
      ],
      "execution_count": null,
      "outputs": [
        {
          "output_type": "execute_result",
          "data": {
            "text/html": [
              "<div>\n",
              "<style scoped>\n",
              "    .dataframe tbody tr th:only-of-type {\n",
              "        vertical-align: middle;\n",
              "    }\n",
              "\n",
              "    .dataframe tbody tr th {\n",
              "        vertical-align: top;\n",
              "    }\n",
              "\n",
              "    .dataframe thead th {\n",
              "        text-align: right;\n",
              "    }\n",
              "</style>\n",
              "<table border=\"1\" class=\"dataframe\">\n",
              "  <thead>\n",
              "    <tr style=\"text-align: right;\">\n",
              "      <th></th>\n",
              "      <th>측정일자</th>\n",
              "      <th>권역코드</th>\n",
              "      <th>권역명</th>\n",
              "      <th>측정소코드</th>\n",
              "      <th>측정소명</th>\n",
              "      <th>미세먼지(㎍/㎥)</th>\n",
              "      <th>오존(ppm)</th>\n",
              "      <th>이산화질소농도(ppm)</th>\n",
              "      <th>일산화탄소농도(ppm)</th>\n",
              "      <th>아황산가스농도(ppm)</th>\n",
              "      <th>초미세먼지(㎍/㎥)</th>\n",
              "    </tr>\n",
              "  </thead>\n",
              "  <tbody>\n",
              "    <tr>\n",
              "      <th>0</th>\n",
              "      <td>20191231</td>\n",
              "      <td>100</td>\n",
              "      <td>도심권</td>\n",
              "      <td>111121</td>\n",
              "      <td>중구</td>\n",
              "      <td>26</td>\n",
              "      <td>18</td>\n",
              "      <td>0.023</td>\n",
              "      <td>0.012</td>\n",
              "      <td>0.4</td>\n",
              "      <td>0.002</td>\n",
              "    </tr>\n",
              "    <tr>\n",
              "      <th>1</th>\n",
              "      <td>20191231</td>\n",
              "      <td>100</td>\n",
              "      <td>도심권</td>\n",
              "      <td>111123</td>\n",
              "      <td>종로구</td>\n",
              "      <td>27</td>\n",
              "      <td>19</td>\n",
              "      <td>0.021</td>\n",
              "      <td>0.015</td>\n",
              "      <td>0.4</td>\n",
              "      <td>0.003</td>\n",
              "    </tr>\n",
              "    <tr>\n",
              "      <th>2</th>\n",
              "      <td>20191231</td>\n",
              "      <td>100</td>\n",
              "      <td>도심권</td>\n",
              "      <td>111131</td>\n",
              "      <td>용산구</td>\n",
              "      <td>14</td>\n",
              "      <td>15</td>\n",
              "      <td>0.020</td>\n",
              "      <td>0.015</td>\n",
              "      <td>0.4</td>\n",
              "      <td>0.003</td>\n",
              "    </tr>\n",
              "    <tr>\n",
              "      <th>3</th>\n",
              "      <td>20191231</td>\n",
              "      <td>101</td>\n",
              "      <td>서북권</td>\n",
              "      <td>111181</td>\n",
              "      <td>은평구</td>\n",
              "      <td>24</td>\n",
              "      <td>13</td>\n",
              "      <td>0.024</td>\n",
              "      <td>0.010</td>\n",
              "      <td>0.4</td>\n",
              "      <td>0.003</td>\n",
              "    </tr>\n",
              "    <tr>\n",
              "      <th>4</th>\n",
              "      <td>20191231</td>\n",
              "      <td>101</td>\n",
              "      <td>서북권</td>\n",
              "      <td>111191</td>\n",
              "      <td>서대문구</td>\n",
              "      <td>23</td>\n",
              "      <td>9</td>\n",
              "      <td>0.023</td>\n",
              "      <td>0.013</td>\n",
              "      <td>0.5</td>\n",
              "      <td>0.002</td>\n",
              "    </tr>\n",
              "    <tr>\n",
              "      <th>...</th>\n",
              "      <td>...</td>\n",
              "      <td>...</td>\n",
              "      <td>...</td>\n",
              "      <td>...</td>\n",
              "      <td>...</td>\n",
              "      <td>...</td>\n",
              "      <td>...</td>\n",
              "      <td>...</td>\n",
              "      <td>...</td>\n",
              "      <td>...</td>\n",
              "      <td>...</td>\n",
              "    </tr>\n",
              "    <tr>\n",
              "      <th>8891</th>\n",
              "      <td>20190101</td>\n",
              "      <td>103</td>\n",
              "      <td>서남권</td>\n",
              "      <td>111301</td>\n",
              "      <td>양천구</td>\n",
              "      <td>46</td>\n",
              "      <td>29</td>\n",
              "      <td>0.014</td>\n",
              "      <td>0.033</td>\n",
              "      <td>0.6</td>\n",
              "      <td>0.002</td>\n",
              "    </tr>\n",
              "    <tr>\n",
              "      <th>8892</th>\n",
              "      <td>20190101</td>\n",
              "      <td>104</td>\n",
              "      <td>동남권</td>\n",
              "      <td>111261</td>\n",
              "      <td>강남구</td>\n",
              "      <td>37</td>\n",
              "      <td>31</td>\n",
              "      <td>0.012</td>\n",
              "      <td>0.028</td>\n",
              "      <td>0.6</td>\n",
              "      <td>0.005</td>\n",
              "    </tr>\n",
              "    <tr>\n",
              "      <th>8893</th>\n",
              "      <td>20190101</td>\n",
              "      <td>104</td>\n",
              "      <td>동남권</td>\n",
              "      <td>111262</td>\n",
              "      <td>서초구</td>\n",
              "      <td>37</td>\n",
              "      <td>20</td>\n",
              "      <td>0.015</td>\n",
              "      <td>0.032</td>\n",
              "      <td>0.4</td>\n",
              "      <td>0.004</td>\n",
              "    </tr>\n",
              "    <tr>\n",
              "      <th>8894</th>\n",
              "      <td>20190101</td>\n",
              "      <td>104</td>\n",
              "      <td>동남권</td>\n",
              "      <td>111273</td>\n",
              "      <td>송파구</td>\n",
              "      <td>44</td>\n",
              "      <td>28</td>\n",
              "      <td>0.011</td>\n",
              "      <td>0.042</td>\n",
              "      <td>0.8</td>\n",
              "      <td>0.004</td>\n",
              "    </tr>\n",
              "    <tr>\n",
              "      <th>8895</th>\n",
              "      <td>20190101</td>\n",
              "      <td>104</td>\n",
              "      <td>동남권</td>\n",
              "      <td>111274</td>\n",
              "      <td>강동구</td>\n",
              "      <td>43</td>\n",
              "      <td>32</td>\n",
              "      <td>0.010</td>\n",
              "      <td>0.040</td>\n",
              "      <td>0.8</td>\n",
              "      <td>0.005</td>\n",
              "    </tr>\n",
              "  </tbody>\n",
              "</table>\n",
              "<p>8896 rows × 11 columns</p>\n",
              "</div>"
            ],
            "text/plain": [
              "          측정일자  권역코드  권역명  ...  일산화탄소농도(ppm) 아황산가스농도(ppm)  초미세먼지(㎍/㎥)\n",
              "0     20191231   100  도심권  ...         0.012          0.4       0.002\n",
              "1     20191231   100  도심권  ...         0.015          0.4       0.003\n",
              "2     20191231   100  도심권  ...         0.015          0.4       0.003\n",
              "3     20191231   101  서북권  ...         0.010          0.4       0.003\n",
              "4     20191231   101  서북권  ...         0.013          0.5       0.002\n",
              "...        ...   ...  ...  ...           ...          ...         ...\n",
              "8891  20190101   103  서남권  ...         0.033          0.6       0.002\n",
              "8892  20190101   104  동남권  ...         0.028          0.6       0.005\n",
              "8893  20190101   104  동남권  ...         0.032          0.4       0.004\n",
              "8894  20190101   104  동남권  ...         0.042          0.8       0.004\n",
              "8895  20190101   104  동남권  ...         0.040          0.8       0.005\n",
              "\n",
              "[8896 rows x 11 columns]"
            ]
          },
          "metadata": {
            "tags": []
          },
          "execution_count": 4
        }
      ]
    },
    {
      "cell_type": "markdown",
      "metadata": {
        "id": "N0Rcak436ijy",
        "colab_type": "text"
      },
      "source": [
        "Filtering data"
      ]
    },
    {
      "cell_type": "code",
      "metadata": {
        "id": "x4Ip4tAJ4cJs",
        "colab_type": "code",
        "colab": {
          "base_uri": "https://localhost:8080/",
          "height": 221
        },
        "outputId": "6e366a58-26d0-4084-ac5d-67aaf641365e"
      },
      "source": [
        "location = data['측정소명'] == \"중구\"\n",
        "\n",
        "dust_location = data[location]\n",
        "dust_location['미세먼지(㎍/㎥)']"
      ],
      "execution_count": null,
      "outputs": [
        {
          "output_type": "execute_result",
          "data": {
            "text/plain": [
              "0       26\n",
              "25      36\n",
              "50      46\n",
              "75      43\n",
              "100     34\n",
              "        ..\n",
              "8771    63\n",
              "8796    55\n",
              "8821    35\n",
              "8846    31\n",
              "8871    38\n",
              "Name: 미세먼지(㎍/㎥), Length: 356, dtype: int64"
            ]
          },
          "metadata": {
            "tags": []
          },
          "execution_count": 5
        }
      ]
    },
    {
      "cell_type": "code",
      "metadata": {
        "id": "2NVOJpY_6vbT",
        "colab_type": "code",
        "colab": {}
      },
      "source": [
        ""
      ],
      "execution_count": null,
      "outputs": []
    }
  ]
}